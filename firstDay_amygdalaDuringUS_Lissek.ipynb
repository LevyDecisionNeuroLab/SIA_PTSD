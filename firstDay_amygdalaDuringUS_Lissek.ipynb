{
 "cells": [
  {
   "cell_type": "markdown",
   "metadata": {},
   "source": [
    "## Analysis of 1st day in the RCF study\n",
    "Checking amygdala activation in the CS+US condition of the task\n",
    "- masking amygdala\n",
    "- avergaing activation\n",
    "- plot"
   ]
  },
  {
   "cell_type": "code",
   "execution_count": 1,
   "metadata": {},
   "outputs": [
    {
     "name": "stderr",
     "output_type": "stream",
     "text": [
      "/home/or/miniconda3/envs/neuroAnalysis/lib/python3.7/site-packages/nilearn/datasets/__init__.py:89: FutureWarning: Fetchers from the nilearn.datasets module will be updated in version 0.9 to return python strings instead of bytes and Pandas dataframes instead of Numpy arrays.\n",
      "  \"Numpy arrays.\", FutureWarning)\n",
      "/home/or/miniconda3/envs/neuroAnalysis/lib/python3.7/site-packages/outdated/utils.py:18: OutdatedPackageWarning: The package pingouin is out of date. Your version is 0.3.9, the latest is 0.4.0.\n",
      "Set the environment variable OUTDATED_IGNORE=1 to disable these warnings.\n",
      "  **kwargs\n",
      "/home/or/miniconda3/envs/neuroAnalysis/lib/python3.7/site-packages/outdated/utils.py:18: OutdatedPackageWarning: The package outdated is out of date. Your version is 0.2.0, the latest is 0.2.1.\n",
      "Set the environment variable OUTDATED_IGNORE=1 to disable these warnings.\n",
      "  **kwargs\n"
     ]
    }
   ],
   "source": [
    "# load libraries\n",
    "import glob\n",
    "import pandas as pd\n",
    "import numpy as np\n",
    "import nilearn\n",
    "import nilearn.plotting\n",
    "import nilearn.input_data\n",
    "import matplotlib.pyplot as plt\n",
    "import seaborn as sns\n",
    "import scipy\n",
    "import os\n",
    "import pingouin as pg\n",
    "# importing Bayesian methods\n",
    "\n",
    "import cmdstanpy"
   ]
  },
  {
   "cell_type": "code",
   "execution_count": 125,
   "metadata": {},
   "outputs": [
    {
     "name": "stderr",
     "output_type": "stream",
     "text": [
      "/home/or/miniconda3/envs/neuroAnalysis/lib/python3.7/site-packages/nilearn/_utils/helpers.py:145: FutureWarning: The parameter \"sessions\" will be removed in 0.9.0 release of Nilearn. Please use the parameter \"runs\" instead.\n",
      "  return func(*args, **kwargs)\n"
     ]
    },
    {
     "data": {
      "image/png": "[encoded data removed]",
      "text/plain": [
       "<Figure size 475.2x187.2 with 4 Axes>"
      ]
     },
     "metadata": {},
     "output_type": "display_data"
    }
   ],
   "source": [
    "# load mask\n",
    "mask_file = 'amygdala_association-test_z_FDR_0.01.nii.gz'\n",
    "mask_file = nilearn.image.math_img(\"a>=20\", a=mask_file)\n",
    "%matplotlib inline\n",
    "nilearn.plotting.plot_roi(mask_file)\n",
    "\n",
    "# create a masker \n",
    "fwhm = 4\n",
    "masker = nilearn.input_data.NiftiMasker(mask_img=mask_file, \n",
    "                               sessions=None, smoothing_fwhm=fwhm, standardize=False, \n",
    "                                        detrend=False, verbose=5)"
   ]
  },
  {
   "cell_type": "code",
   "execution_count": 92,
   "metadata": {},
   "outputs": [],
   "source": [
    "us_condPTSD = glob.glob('/media/Data/Lab_Projects/RCF/neuroimaging/Lissek/LissekLab_CSpS-CSp_PTSD/labs/lisseklab/PTSD_StimGen/Analysis/subject_results/group.PTSD/SG_results/*.results/sub-*_CSpS_CSp_MNI.nii')\n",
    "us_condCC = glob.glob('/media/Data/Lab_Projects/RCF/neuroimaging/Lissek/LissekLab_CSpS-CSp_TraumaControl/labs/lisseklab/PTSD_StimGen/Analysis/subject_results/group.TraumaControl/SG_results/*.results/sub-*_CSpS_CSp_MNI.nii')\n"
   ]
  },
  {
   "cell_type": "code",
   "execution_count": 93,
   "metadata": {
    "scrolled": true
   },
   "outputs": [
    {
     "name": "stdout",
     "output_type": "stream",
     "text": [
      "/media/Data/Lab_Projects/RCF/neuroimaging/Lissek/LissekLab_CSpS-CSp_PTSD/labs/lisseklab/PTSD_StimGen/Analysis/subject_results/group.PTSD/SG_results/103.results/sub-103_CSpS_CSp_MNI.nii\n",
      "sub-103\n",
      "[NiftiMasker.fit] Loading data from None\n",
      "[NiftiMasker.fit] Resampling mask\n",
      "[NiftiMasker.transform_single_imgs] Loading data from Nifti1Image(\n",
      "shape=(107, 127, 101, 1),\n",
      "affine=array([[ -1.5,  -0. ,  -0. ,  79.5],\n",
      "       [ -0. ,  -1.5,  -0. ,  79.5],\n",
      "       [  0. ,   0. ,   1.5, -65. ],\n",
      "       [  0. ,   0. ,   0. ,   1. ]])\n",
      ")\n",
      "[NiftiMasker.transform_single_imgs] Resampling images\n",
      "[NiftiMasker.transform_single_imgs] Smoothing images\n",
      "[NiftiMasker.transform_single_imgs] Extracting region signals\n",
      "[NiftiMasker.transform_single_imgs] Cleaning extracted signals\n",
      "/media/Data/Lab_Projects/RCF/neuroimaging/Lissek/LissekLab_CSpS-CSp_PTSD/labs/lisseklab/PTSD_StimGen/Analysis/subject_results/group.PTSD/SG_results/105.results/sub-105_CSpS_CSp_MNI.nii\n",
      "sub-105\n",
      "[NiftiMasker.fit] Loading data from None\n",
      "[NiftiMasker.fit] Resampling mask\n",
      "[NiftiMasker.transform_single_imgs] Loading data from Nifti1Image(\n",
      "shape=(107, 127, 101, 1),\n",
      "affine=array([[ -1.5,  -0. ,  -0. ,  79.5],\n",
      "       [ -0. ,  -1.5,  -0. ,  79.5],\n",
      "       [  0. ,   0. ,   1.5, -65. ],\n",
      "       [  0. ,   0. ,   0. ,   1. ]])\n",
      ")\n",
      "[NiftiMasker.transform_single_imgs] Resampling images\n",
      "[NiftiMasker.transform_single_imgs] Smoothing images\n",
      "[NiftiMasker.transform_single_imgs] Extracting region signals\n",
      "[NiftiMasker.transform_single_imgs] Cleaning extracted signals\n",
      "/media/Data/Lab_Projects/RCF/neuroimaging/Lissek/LissekLab_CSpS-CSp_PTSD/labs/lisseklab/PTSD_StimGen/Analysis/subject_results/group.PTSD/SG_results/106.results/sub-106_CSpS_CSp_MNI.nii\n",
      "sub-106\n",
      "[NiftiMasker.fit] Loading data from None\n",
      "[NiftiMasker.fit] Resampling mask\n",
      "[NiftiMasker.transform_single_imgs] Loading data from Nifti1Image(\n",
      "shape=(107, 127, 101, 1),\n",
      "affine=array([[ -1.5,  -0. ,  -0. ,  79.5],\n",
      "       [ -0. ,  -1.5,  -0. ,  79.5],\n",
      "       [  0. ,   0. ,   1.5, -65. ],\n",
      "       [  0. ,   0. ,   0. ,   1. ]])\n",
      ")\n",
      "[NiftiMasker.transform_single_imgs] Resampling images\n",
      "[NiftiMasker.transform_single_imgs] Smoothing images\n",
      "[NiftiMasker.transform_single_imgs] Extracting region signals\n",
      "[NiftiMasker.transform_single_imgs] Cleaning extracted signals\n",
      "/media/Data/Lab_Projects/RCF/neuroimaging/Lissek/LissekLab_CSpS-CSp_PTSD/labs/lisseklab/PTSD_StimGen/Analysis/subject_results/group.PTSD/SG_results/108.results/sub-108_CSpS_CSp_MNI.nii\n",
      "sub-108\n",
      "[NiftiMasker.fit] Loading data from None\n",
      "[NiftiMasker.fit] Resampling mask\n",
      "[NiftiMasker.transform_single_imgs] Loading data from Nifti1Image(\n",
      "shape=(107, 127, 101, 1),\n",
      "affine=array([[ -1.5,  -0. ,  -0. ,  79.5],\n",
      "       [ -0. ,  -1.5,  -0. ,  79.5],\n",
      "       [  0. ,   0. ,   1.5, -65. ],\n",
      "       [  0. ,   0. ,   0. ,   1. ]])\n",
      ")\n",
      "[NiftiMasker.transform_single_imgs] Resampling images\n",
      "[NiftiMasker.transform_single_imgs] Smoothing images\n",
      "[NiftiMasker.transform_single_imgs] Extracting region signals\n",
      "[NiftiMasker.transform_single_imgs] Cleaning extracted signals\n",
      "/media/Data/Lab_Projects/RCF/neuroimaging/Lissek/LissekLab_CSpS-CSp_PTSD/labs/lisseklab/PTSD_StimGen/Analysis/subject_results/group.PTSD/SG_results/110.results/sub-110_CSpS_CSp_MNI.nii\n",
      "sub-110\n",
      "[NiftiMasker.fit] Loading data from None\n",
      "[NiftiMasker.fit] Resampling mask\n",
      "[NiftiMasker.transform_single_imgs] Loading data from Nifti1Image(\n",
      "shape=(107, 127, 101, 1),\n",
      "affine=array([[ -1.5,  -0. ,  -0. ,  79.5],\n",
      "       [ -0. ,  -1.5,  -0. ,  79.5],\n",
      "       [  0. ,   0. ,   1.5, -65. ],\n",
      "       [  0. ,   0. ,   0. ,   1. ]])\n",
      ")\n",
      "[NiftiMasker.transform_single_imgs] Resampling images\n",
      "[NiftiMasker.transform_single_imgs] Smoothing images\n",
      "[NiftiMasker.transform_single_imgs] Extracting region signals\n",
      "[NiftiMasker.transform_single_imgs] Cleaning extracted signals\n",
      "/media/Data/Lab_Projects/RCF/neuroimaging/Lissek/LissekLab_CSpS-CSp_PTSD/labs/lisseklab/PTSD_StimGen/Analysis/subject_results/group.PTSD/SG_results/111.results/sub-111_CSpS_CSp_MNI.nii\n",
      "sub-111\n",
      "[NiftiMasker.fit] Loading data from None\n",
      "[NiftiMasker.fit] Resampling mask\n",
      "[NiftiMasker.transform_single_imgs] Loading data from Nifti1Image(\n",
      "shape=(107, 127, 101, 1),\n",
      "affine=array([[ -1.5,  -0. ,  -0. ,  79.5],\n",
      "       [ -0. ,  -1.5,  -0. ,  79.5],\n",
      "       [  0. ,   0. ,   1.5, -65. ],\n",
      "       [  0. ,   0. ,   0. ,   1. ]])\n",
      ")\n",
      "[NiftiMasker.transform_single_imgs] Resampling images\n",
      "[NiftiMasker.transform_single_imgs] Smoothing images\n",
      "[NiftiMasker.transform_single_imgs] Extracting region signals\n",
      "[NiftiMasker.transform_single_imgs] Cleaning extracted signals\n",
      "/media/Data/Lab_Projects/RCF/neuroimaging/Lissek/LissekLab_CSpS-CSp_PTSD/labs/lisseklab/PTSD_StimGen/Analysis/subject_results/group.PTSD/SG_results/115.results/sub-115_CSpS_CSp_MNI.nii\n",
      "sub-115\n",
      "[NiftiMasker.fit] Loading data from None\n",
      "[NiftiMasker.fit] Resampling mask\n",
      "[NiftiMasker.transform_single_imgs] Loading data from Nifti1Image(\n",
      "shape=(107, 127, 101, 1),\n",
      "affine=array([[ -1.5,  -0. ,  -0. ,  79.5],\n",
      "       [ -0. ,  -1.5,  -0. ,  79.5],\n",
      "       [  0. ,   0. ,   1.5, -65. ],\n",
      "       [  0. ,   0. ,   0. ,   1. ]])\n",
      ")\n",
      "[NiftiMasker.transform_single_imgs] Resampling images\n",
      "[NiftiMasker.transform_single_imgs] Smoothing images\n",
      "[NiftiMasker.transform_single_imgs] Extracting region signals\n",
      "[NiftiMasker.transform_single_imgs] Cleaning extracted signals\n",
      "/media/Data/Lab_Projects/RCF/neuroimaging/Lissek/LissekLab_CSpS-CSp_PTSD/labs/lisseklab/PTSD_StimGen/Analysis/subject_results/group.PTSD/SG_results/117.results/sub-117_CSpS_CSp_MNI.nii\n",
      "sub-117\n",
      "[NiftiMasker.fit] Loading data from None\n",
      "[NiftiMasker.fit] Resampling mask\n",
      "[NiftiMasker.transform_single_imgs] Loading data from Nifti1Image(\n",
      "shape=(107, 127, 101, 1),\n",
      "affine=array([[ -1.5,  -0. ,  -0. ,  79.5],\n",
      "       [ -0. ,  -1.5,  -0. ,  79.5],\n",
      "       [  0. ,   0. ,   1.5, -65. ],\n",
      "       [  0. ,   0. ,   0. ,   1. ]])\n",
      ")\n",
      "[NiftiMasker.transform_single_imgs] Resampling images\n",
      "[NiftiMasker.transform_single_imgs] Smoothing images\n",
      "[NiftiMasker.transform_single_imgs] Extracting region signals\n",
      "[NiftiMasker.transform_single_imgs] Cleaning extracted signals\n",
      "/media/Data/Lab_Projects/RCF/neuroimaging/Lissek/LissekLab_CSpS-CSp_PTSD/labs/lisseklab/PTSD_StimGen/Analysis/subject_results/group.PTSD/SG_results/118.results/sub-118_CSpS_CSp_MNI.nii\n",
      "sub-118\n",
      "[NiftiMasker.fit] Loading data from None\n",
      "[NiftiMasker.fit] Resampling mask\n",
      "[NiftiMasker.transform_single_imgs] Loading data from Nifti1Image(\n",
      "shape=(107, 127, 101, 1),\n",
      "affine=array([[ -1.5,  -0. ,  -0. ,  79.5],\n",
      "       [ -0. ,  -1.5,  -0. ,  79.5],\n",
      "       [  0. ,   0. ,   1.5, -65. ],\n",
      "       [  0. ,   0. ,   0. ,   1. ]])\n",
      ")\n",
      "[NiftiMasker.transform_single_imgs] Resampling images\n",
      "[NiftiMasker.transform_single_imgs] Smoothing images\n",
      "[NiftiMasker.transform_single_imgs] Extracting region signals\n",
      "[NiftiMasker.transform_single_imgs] Cleaning extracted signals\n",
      "/media/Data/Lab_Projects/RCF/neuroimaging/Lissek/LissekLab_CSpS-CSp_PTSD/labs/lisseklab/PTSD_StimGen/Analysis/subject_results/group.PTSD/SG_results/120.results/sub-120_CSpS_CSp_MNI.nii\n",
      "sub-120\n",
      "[NiftiMasker.fit] Loading data from None\n",
      "[NiftiMasker.fit] Resampling mask\n",
      "[NiftiMasker.transform_single_imgs] Loading data from Nifti1Image(\n",
      "shape=(107, 127, 101, 1),\n",
      "affine=array([[ -1.5,  -0. ,  -0. ,  79.5],\n",
      "       [ -0. ,  -1.5,  -0. ,  79.5],\n",
      "       [  0. ,   0. ,   1.5, -65. ],\n",
      "       [  0. ,   0. ,   0. ,   1. ]])\n",
      ")\n",
      "[NiftiMasker.transform_single_imgs] Resampling images\n",
      "[NiftiMasker.transform_single_imgs] Smoothing images\n",
      "[NiftiMasker.transform_single_imgs] Extracting region signals\n",
      "[NiftiMasker.transform_single_imgs] Cleaning extracted signals\n",
      "/media/Data/Lab_Projects/RCF/neuroimaging/Lissek/LissekLab_CSpS-CSp_PTSD/labs/lisseklab/PTSD_StimGen/Analysis/subject_results/group.PTSD/SG_results/122.results/sub-122_CSpS_CSp_MNI.nii\n",
      "sub-122\n",
      "[NiftiMasker.fit] Loading data from None\n",
      "[NiftiMasker.fit] Resampling mask\n",
      "[NiftiMasker.transform_single_imgs] Loading data from Nifti1Image(\n",
      "shape=(107, 127, 101, 1),\n",
      "affine=array([[ -1.5,  -0. ,  -0. ,  79.5],\n",
      "       [ -0. ,  -1.5,  -0. ,  79.5],\n",
      "       [  0. ,   0. ,   1.5, -65. ],\n",
      "       [  0. ,   0. ,   0. ,   1. ]])\n",
      ")\n",
      "[NiftiMasker.transform_single_imgs] Resampling images\n",
      "[NiftiMasker.transform_single_imgs] Smoothing images\n",
      "[NiftiMasker.transform_single_imgs] Extracting region signals\n"
     ]
    },
    {
     "name": "stdout",
     "output_type": "stream",
     "text": [
      "[NiftiMasker.transform_single_imgs] Cleaning extracted signals\n",
      "/media/Data/Lab_Projects/RCF/neuroimaging/Lissek/LissekLab_CSpS-CSp_PTSD/labs/lisseklab/PTSD_StimGen/Analysis/subject_results/group.PTSD/SG_results/123.results/sub-123_CSpS_CSp_MNI.nii\n",
      "sub-123\n",
      "[NiftiMasker.fit] Loading data from None\n",
      "[NiftiMasker.fit] Resampling mask\n",
      "[NiftiMasker.transform_single_imgs] Loading data from Nifti1Image(\n",
      "shape=(107, 127, 101, 1),\n",
      "affine=array([[ -1.5,  -0. ,  -0. ,  79.5],\n",
      "       [ -0. ,  -1.5,  -0. ,  79.5],\n",
      "       [  0. ,   0. ,   1.5, -65. ],\n",
      "       [  0. ,   0. ,   0. ,   1. ]])\n",
      ")\n",
      "[NiftiMasker.transform_single_imgs] Resampling images\n",
      "[NiftiMasker.transform_single_imgs] Smoothing images\n",
      "[NiftiMasker.transform_single_imgs] Extracting region signals\n",
      "[NiftiMasker.transform_single_imgs] Cleaning extracted signals\n",
      "/media/Data/Lab_Projects/RCF/neuroimaging/Lissek/LissekLab_CSpS-CSp_PTSD/labs/lisseklab/PTSD_StimGen/Analysis/subject_results/group.PTSD/SG_results/125.results/sub-125_CSpS_CSp_MNI.nii\n",
      "sub-125\n",
      "[NiftiMasker.fit] Loading data from None\n",
      "[NiftiMasker.fit] Resampling mask\n",
      "[NiftiMasker.transform_single_imgs] Loading data from Nifti1Image(\n",
      "shape=(107, 127, 101, 1),\n",
      "affine=array([[ -1.5,  -0. ,  -0. ,  79.5],\n",
      "       [ -0. ,  -1.5,  -0. ,  79.5],\n",
      "       [  0. ,   0. ,   1.5, -65. ],\n",
      "       [  0. ,   0. ,   0. ,   1. ]])\n",
      ")\n",
      "[NiftiMasker.transform_single_imgs] Resampling images\n",
      "[NiftiMasker.transform_single_imgs] Smoothing images\n",
      "[NiftiMasker.transform_single_imgs] Extracting region signals\n",
      "[NiftiMasker.transform_single_imgs] Cleaning extracted signals\n",
      "/media/Data/Lab_Projects/RCF/neuroimaging/Lissek/LissekLab_CSpS-CSp_PTSD/labs/lisseklab/PTSD_StimGen/Analysis/subject_results/group.PTSD/SG_results/126.results/sub-126_CSpS_CSp_MNI.nii\n",
      "sub-126\n",
      "[NiftiMasker.fit] Loading data from None\n",
      "[NiftiMasker.fit] Resampling mask\n",
      "[NiftiMasker.transform_single_imgs] Loading data from Nifti1Image(\n",
      "shape=(107, 127, 101, 1),\n",
      "affine=array([[ -1.5,  -0. ,  -0. ,  79.5],\n",
      "       [ -0. ,  -1.5,  -0. ,  79.5],\n",
      "       [  0. ,   0. ,   1.5, -65. ],\n",
      "       [  0. ,   0. ,   0. ,   1. ]])\n",
      ")\n",
      "[NiftiMasker.transform_single_imgs] Resampling images\n",
      "[NiftiMasker.transform_single_imgs] Smoothing images\n",
      "[NiftiMasker.transform_single_imgs] Extracting region signals\n",
      "[NiftiMasker.transform_single_imgs] Cleaning extracted signals\n",
      "/media/Data/Lab_Projects/RCF/neuroimaging/Lissek/LissekLab_CSpS-CSp_PTSD/labs/lisseklab/PTSD_StimGen/Analysis/subject_results/group.PTSD/SG_results/127.results/sub-127_CSpS_CSp_MNI.nii\n",
      "sub-127\n",
      "[NiftiMasker.fit] Loading data from None\n",
      "[NiftiMasker.fit] Resampling mask\n",
      "[NiftiMasker.transform_single_imgs] Loading data from Nifti1Image(\n",
      "shape=(107, 127, 101, 1),\n",
      "affine=array([[ -1.5,  -0. ,  -0. ,  79.5],\n",
      "       [ -0. ,  -1.5,  -0. ,  79.5],\n",
      "       [  0. ,   0. ,   1.5, -65. ],\n",
      "       [  0. ,   0. ,   0. ,   1. ]])\n",
      ")\n",
      "[NiftiMasker.transform_single_imgs] Resampling images\n",
      "[NiftiMasker.transform_single_imgs] Smoothing images\n",
      "[NiftiMasker.transform_single_imgs] Extracting region signals\n",
      "[NiftiMasker.transform_single_imgs] Cleaning extracted signals\n",
      "/media/Data/Lab_Projects/RCF/neuroimaging/Lissek/LissekLab_CSpS-CSp_PTSD/labs/lisseklab/PTSD_StimGen/Analysis/subject_results/group.PTSD/SG_results/130.results/sub-130_CSpS_CSp_MNI.nii\n",
      "sub-130\n",
      "[NiftiMasker.fit] Loading data from None\n",
      "[NiftiMasker.fit] Resampling mask\n",
      "[NiftiMasker.transform_single_imgs] Loading data from Nifti1Image(\n",
      "shape=(107, 127, 101, 1),\n",
      "affine=array([[ -1.5,  -0. ,  -0. ,  79.5],\n",
      "       [ -0. ,  -1.5,  -0. ,  79.5],\n",
      "       [  0. ,   0. ,   1.5, -65. ],\n",
      "       [  0. ,   0. ,   0. ,   1. ]])\n",
      ")\n",
      "[NiftiMasker.transform_single_imgs] Resampling images\n",
      "[NiftiMasker.transform_single_imgs] Smoothing images\n",
      "[NiftiMasker.transform_single_imgs] Extracting region signals\n",
      "[NiftiMasker.transform_single_imgs] Cleaning extracted signals\n",
      "/media/Data/Lab_Projects/RCF/neuroimaging/Lissek/LissekLab_CSpS-CSp_PTSD/labs/lisseklab/PTSD_StimGen/Analysis/subject_results/group.PTSD/SG_results/132.results/sub-132_CSpS_CSp_MNI.nii\n",
      "sub-132\n",
      "[NiftiMasker.fit] Loading data from None\n",
      "[NiftiMasker.fit] Resampling mask\n",
      "[NiftiMasker.transform_single_imgs] Loading data from Nifti1Image(\n",
      "shape=(107, 127, 101, 1),\n",
      "affine=array([[ -1.5,  -0. ,  -0. ,  79.5],\n",
      "       [ -0. ,  -1.5,  -0. ,  79.5],\n",
      "       [  0. ,   0. ,   1.5, -65. ],\n",
      "       [  0. ,   0. ,   0. ,   1. ]])\n",
      ")\n",
      "[NiftiMasker.transform_single_imgs] Resampling images\n",
      "[NiftiMasker.transform_single_imgs] Smoothing images\n",
      "[NiftiMasker.transform_single_imgs] Extracting region signals\n",
      "[NiftiMasker.transform_single_imgs] Cleaning extracted signals\n",
      "/media/Data/Lab_Projects/RCF/neuroimaging/Lissek/LissekLab_CSpS-CSp_PTSD/labs/lisseklab/PTSD_StimGen/Analysis/subject_results/group.PTSD/SG_results/141.results/sub-141_CSpS_CSp_MNI.nii\n",
      "sub-141\n",
      "[NiftiMasker.fit] Loading data from None\n",
      "[NiftiMasker.fit] Resampling mask\n",
      "[NiftiMasker.transform_single_imgs] Loading data from Nifti1Image(\n",
      "shape=(107, 127, 101, 1),\n",
      "affine=array([[ -1.5,  -0. ,  -0. ,  79.5],\n",
      "       [ -0. ,  -1.5,  -0. ,  79.5],\n",
      "       [  0. ,   0. ,   1.5, -65. ],\n",
      "       [  0. ,   0. ,   0. ,   1. ]])\n",
      ")\n",
      "[NiftiMasker.transform_single_imgs] Resampling images\n",
      "[NiftiMasker.transform_single_imgs] Smoothing images\n",
      "[NiftiMasker.transform_single_imgs] Extracting region signals\n",
      "[NiftiMasker.transform_single_imgs] Cleaning extracted signals\n",
      "/media/Data/Lab_Projects/RCF/neuroimaging/Lissek/LissekLab_CSpS-CSp_PTSD/labs/lisseklab/PTSD_StimGen/Analysis/subject_results/group.PTSD/SG_results/151.results/sub-151_CSpS_CSp_MNI.nii\n",
      "sub-151\n",
      "[NiftiMasker.fit] Loading data from None\n",
      "[NiftiMasker.fit] Resampling mask\n",
      "[NiftiMasker.transform_single_imgs] Loading data from Nifti1Image(\n",
      "shape=(107, 127, 101, 1),\n",
      "affine=array([[ -1.5,  -0. ,  -0. ,  79.5],\n",
      "       [ -0. ,  -1.5,  -0. ,  79.5],\n",
      "       [  0. ,   0. ,   1.5, -65. ],\n",
      "       [  0. ,   0. ,   0. ,   1. ]])\n",
      ")\n",
      "[NiftiMasker.transform_single_imgs] Resampling images\n",
      "[NiftiMasker.transform_single_imgs] Smoothing images\n",
      "[NiftiMasker.transform_single_imgs] Extracting region signals\n",
      "[NiftiMasker.transform_single_imgs] Cleaning extracted signals\n",
      "/media/Data/Lab_Projects/RCF/neuroimaging/Lissek/LissekLab_CSpS-CSp_PTSD/labs/lisseklab/PTSD_StimGen/Analysis/subject_results/group.PTSD/SG_results/153.results/sub-153_CSpS_CSp_MNI.nii\n",
      "sub-153\n",
      "[NiftiMasker.fit] Loading data from None\n",
      "[NiftiMasker.fit] Resampling mask\n",
      "[NiftiMasker.transform_single_imgs] Loading data from Nifti1Image(\n",
      "shape=(107, 127, 101, 1),\n",
      "affine=array([[ -1.5,  -0. ,  -0. ,  79.5],\n",
      "       [ -0. ,  -1.5,  -0. ,  79.5],\n",
      "       [  0. ,   0. ,   1.5, -65. ],\n",
      "       [  0. ,   0. ,   0. ,   1. ]])\n",
      ")\n",
      "[NiftiMasker.transform_single_imgs] Resampling images\n",
      "[NiftiMasker.transform_single_imgs] Smoothing images\n",
      "[NiftiMasker.transform_single_imgs] Extracting region signals\n",
      "[NiftiMasker.transform_single_imgs] Cleaning extracted signals\n",
      "/media/Data/Lab_Projects/RCF/neuroimaging/Lissek/LissekLab_CSpS-CSp_PTSD/labs/lisseklab/PTSD_StimGen/Analysis/subject_results/group.PTSD/SG_results/154.results/sub-154_CSpS_CSp_MNI.nii\n",
      "sub-154\n",
      "[NiftiMasker.fit] Loading data from None\n",
      "[NiftiMasker.fit] Resampling mask\n",
      "[NiftiMasker.transform_single_imgs] Loading data from Nifti1Image(\n",
      "shape=(107, 127, 101, 1),\n",
      "affine=array([[ -1.5,  -0. ,  -0. ,  79.5],\n",
      "       [ -0. ,  -1.5,  -0. ,  79.5],\n",
      "       [  0. ,   0. ,   1.5, -65. ],\n",
      "       [  0. ,   0. ,   0. ,   1. ]])\n",
      ")\n",
      "[NiftiMasker.transform_single_imgs] Resampling images\n",
      "[NiftiMasker.transform_single_imgs] Smoothing images\n",
      "[NiftiMasker.transform_single_imgs] Extracting region signals\n",
      "[NiftiMasker.transform_single_imgs] Cleaning extracted signals\n",
      "/media/Data/Lab_Projects/RCF/neuroimaging/Lissek/LissekLab_CSpS-CSp_PTSD/labs/lisseklab/PTSD_StimGen/Analysis/subject_results/group.PTSD/SG_results/165.results/sub-165_CSpS_CSp_MNI.nii\n",
      "sub-165\n",
      "[NiftiMasker.fit] Loading data from None\n",
      "[NiftiMasker.fit] Resampling mask\n",
      "[NiftiMasker.transform_single_imgs] Loading data from Nifti1Image(\n",
      "shape=(107, 127, 101, 1),\n",
      "affine=array([[ -1.5,  -0. ,  -0. ,  79.5],\n",
      "       [ -0. ,  -1.5,  -0. ,  79.5],\n",
      "       [  0. ,   0. ,   1.5, -65. ],\n",
      "       [  0. ,   0. ,   0. ,   1. ]])\n",
      ")\n",
      "[NiftiMasker.transform_single_imgs] Resampling images\n",
      "[NiftiMasker.transform_single_imgs] Smoothing images\n",
      "[NiftiMasker.transform_single_imgs] Extracting region signals\n"
     ]
    },
    {
     "name": "stdout",
     "output_type": "stream",
     "text": [
      "[NiftiMasker.transform_single_imgs] Cleaning extracted signals\n",
      "/media/Data/Lab_Projects/RCF/neuroimaging/Lissek/LissekLab_CSpS-CSp_PTSD/labs/lisseklab/PTSD_StimGen/Analysis/subject_results/group.PTSD/SG_results/166.results/sub-166_CSpS_CSp_MNI.nii\n",
      "sub-166\n",
      "[NiftiMasker.fit] Loading data from None\n",
      "[NiftiMasker.fit] Resampling mask\n",
      "[NiftiMasker.transform_single_imgs] Loading data from Nifti1Image(\n",
      "shape=(107, 127, 101, 1),\n",
      "affine=array([[ -1.5,  -0. ,  -0. ,  79.5],\n",
      "       [ -0. ,  -1.5,  -0. ,  79.5],\n",
      "       [  0. ,   0. ,   1.5, -65. ],\n",
      "       [  0. ,   0. ,   0. ,   1. ]])\n",
      ")\n",
      "[NiftiMasker.transform_single_imgs] Resampling images\n",
      "[NiftiMasker.transform_single_imgs] Smoothing images\n",
      "[NiftiMasker.transform_single_imgs] Extracting region signals\n",
      "[NiftiMasker.transform_single_imgs] Cleaning extracted signals\n",
      "/media/Data/Lab_Projects/RCF/neuroimaging/Lissek/LissekLab_CSpS-CSp_PTSD/labs/lisseklab/PTSD_StimGen/Analysis/subject_results/group.PTSD/SG_results/169.results/sub-169_CSpS_CSp_MNI.nii\n",
      "sub-169\n",
      "[NiftiMasker.fit] Loading data from None\n",
      "[NiftiMasker.fit] Resampling mask\n",
      "[NiftiMasker.transform_single_imgs] Loading data from Nifti1Image(\n",
      "shape=(107, 127, 101, 1),\n",
      "affine=array([[ -1.5,  -0. ,  -0. ,  79.5],\n",
      "       [ -0. ,  -1.5,  -0. ,  79.5],\n",
      "       [  0. ,   0. ,   1.5, -65. ],\n",
      "       [  0. ,   0. ,   0. ,   1. ]])\n",
      ")\n",
      "[NiftiMasker.transform_single_imgs] Resampling images\n",
      "[NiftiMasker.transform_single_imgs] Smoothing images\n",
      "[NiftiMasker.transform_single_imgs] Extracting region signals\n",
      "[NiftiMasker.transform_single_imgs] Cleaning extracted signals\n",
      "/media/Data/Lab_Projects/RCF/neuroimaging/Lissek/LissekLab_CSpS-CSp_PTSD/labs/lisseklab/PTSD_StimGen/Analysis/subject_results/group.PTSD/SG_results/171.results/sub-171_CSpS_CSp_MNI.nii\n",
      "sub-171\n",
      "[NiftiMasker.fit] Loading data from None\n",
      "[NiftiMasker.fit] Resampling mask\n",
      "[NiftiMasker.transform_single_imgs] Loading data from Nifti1Image(\n",
      "shape=(107, 127, 101, 1),\n",
      "affine=array([[ -1.5,  -0. ,  -0. ,  79.5],\n",
      "       [ -0. ,  -1.5,  -0. ,  79.5],\n",
      "       [  0. ,   0. ,   1.5, -65. ],\n",
      "       [  0. ,   0. ,   0. ,   1. ]])\n",
      ")\n",
      "[NiftiMasker.transform_single_imgs] Resampling images\n",
      "[NiftiMasker.transform_single_imgs] Smoothing images\n",
      "[NiftiMasker.transform_single_imgs] Extracting region signals\n",
      "[NiftiMasker.transform_single_imgs] Cleaning extracted signals\n",
      "/media/Data/Lab_Projects/RCF/neuroimaging/Lissek/LissekLab_CSpS-CSp_PTSD/labs/lisseklab/PTSD_StimGen/Analysis/subject_results/group.PTSD/SG_results/191.results/sub-191_CSpS_CSp_MNI.nii\n",
      "sub-191\n",
      "[NiftiMasker.fit] Loading data from None\n",
      "[NiftiMasker.fit] Resampling mask\n",
      "[NiftiMasker.transform_single_imgs] Loading data from Nifti1Image(\n",
      "shape=(107, 127, 101, 1),\n",
      "affine=array([[ -1.5,  -0. ,  -0. ,  79.5],\n",
      "       [ -0. ,  -1.5,  -0. ,  79.5],\n",
      "       [  0. ,   0. ,   1.5, -65. ],\n",
      "       [  0. ,   0. ,   0. ,   1. ]])\n",
      ")\n",
      "[NiftiMasker.transform_single_imgs] Resampling images\n",
      "[NiftiMasker.transform_single_imgs] Smoothing images\n",
      "[NiftiMasker.transform_single_imgs] Extracting region signals\n",
      "[NiftiMasker.transform_single_imgs] Cleaning extracted signals\n"
     ]
    }
   ],
   "source": [
    "# grab PTSD amygdala activation\n",
    "us = []\n",
    "timeseriesAmg = []\n",
    "for f in us_condPTSD:\n",
    "    print(f)\n",
    "    sub = os.path.basename(f).split('_')[0]\n",
    "    print(sub)\n",
    "    tArr = masker.fit_transform(f)\n",
    "    meanT = np.mean(tArr,axis=1)\n",
    "    sem = scipy.stats.sem(tArr, axis=1)\n",
    "    std = np.std(tArr, axis=1)\n",
    "    \n",
    "\n",
    "#     # create datafram for the timeseries\n",
    "    dfTS = {'subject':sub, 'ts':tArr[0]}\n",
    "#     # create dataframe for the mean activation\n",
    "    df = {'subject':sub, 'amygdala':meanT[0], 'amgsem':sem[0], 'amgstd':std[0]}\n",
    "#     #df['subject'] = sub\n",
    "    us.append(df)\n",
    "    timeseriesAmg.append(dfTS)\n",
    "amg_udPTSD = pd.DataFrame(us)\n",
    "tsDf = pd.DataFrame(timeseriesAmg)"
   ]
  },
  {
   "cell_type": "code",
   "execution_count": 94,
   "metadata": {
    "scrolled": true
   },
   "outputs": [
    {
     "name": "stdout",
     "output_type": "stream",
     "text": [
      "/media/Data/Lab_Projects/RCF/neuroimaging/Lissek/LissekLab_CSpS-CSp_TraumaControl/labs/lisseklab/PTSD_StimGen/Analysis/subject_results/group.TraumaControl/SG_results/102.results/sub-102_CSpS_CSp_MNI.nii\n",
      "sub-102\n",
      "[NiftiMasker.fit] Loading data from None\n",
      "[NiftiMasker.fit] Resampling mask\n",
      "[NiftiMasker.transform_single_imgs] Loading data from Nifti1Image(\n",
      "shape=(107, 127, 101, 1),\n",
      "affine=array([[ -1.5,  -0. ,  -0. ,  79.5],\n",
      "       [ -0. ,  -1.5,  -0. ,  79.5],\n",
      "       [  0. ,   0. ,   1.5, -65. ],\n",
      "       [  0. ,   0. ,   0. ,   1. ]])\n",
      ")\n",
      "[NiftiMasker.transform_single_imgs] Resampling images\n",
      "[NiftiMasker.transform_single_imgs] Smoothing images\n",
      "[NiftiMasker.transform_single_imgs] Extracting region signals\n",
      "[NiftiMasker.transform_single_imgs] Cleaning extracted signals\n",
      "/media/Data/Lab_Projects/RCF/neuroimaging/Lissek/LissekLab_CSpS-CSp_TraumaControl/labs/lisseklab/PTSD_StimGen/Analysis/subject_results/group.TraumaControl/SG_results/104.results/sub-104_CSpS_CSp_MNI.nii\n",
      "sub-104\n",
      "[NiftiMasker.fit] Loading data from None\n",
      "[NiftiMasker.fit] Resampling mask\n",
      "[NiftiMasker.transform_single_imgs] Loading data from Nifti1Image(\n",
      "shape=(107, 127, 101, 1),\n",
      "affine=array([[ -1.5,  -0. ,  -0. ,  79.5],\n",
      "       [ -0. ,  -1.5,  -0. ,  79.5],\n",
      "       [  0. ,   0. ,   1.5, -65. ],\n",
      "       [  0. ,   0. ,   0. ,   1. ]])\n",
      ")\n",
      "[NiftiMasker.transform_single_imgs] Resampling images\n",
      "[NiftiMasker.transform_single_imgs] Smoothing images\n",
      "[NiftiMasker.transform_single_imgs] Extracting region signals\n",
      "[NiftiMasker.transform_single_imgs] Cleaning extracted signals\n",
      "/media/Data/Lab_Projects/RCF/neuroimaging/Lissek/LissekLab_CSpS-CSp_TraumaControl/labs/lisseklab/PTSD_StimGen/Analysis/subject_results/group.TraumaControl/SG_results/107.results/sub-107_CSpS_CSp_MNI.nii\n",
      "sub-107\n",
      "[NiftiMasker.fit] Loading data from None\n",
      "[NiftiMasker.fit] Resampling mask\n",
      "[NiftiMasker.transform_single_imgs] Loading data from Nifti1Image(\n",
      "shape=(107, 127, 101, 1),\n",
      "affine=array([[ -1.5,  -0. ,  -0. ,  79.5],\n",
      "       [ -0. ,  -1.5,  -0. ,  79.5],\n",
      "       [  0. ,   0. ,   1.5, -65. ],\n",
      "       [  0. ,   0. ,   0. ,   1. ]])\n",
      ")\n",
      "[NiftiMasker.transform_single_imgs] Resampling images\n",
      "[NiftiMasker.transform_single_imgs] Smoothing images\n",
      "[NiftiMasker.transform_single_imgs] Extracting region signals\n",
      "[NiftiMasker.transform_single_imgs] Cleaning extracted signals\n",
      "/media/Data/Lab_Projects/RCF/neuroimaging/Lissek/LissekLab_CSpS-CSp_TraumaControl/labs/lisseklab/PTSD_StimGen/Analysis/subject_results/group.TraumaControl/SG_results/109.results/sub-109_CSpS_CSp_MNI.nii\n",
      "sub-109\n",
      "[NiftiMasker.fit] Loading data from None\n",
      "[NiftiMasker.fit] Resampling mask\n",
      "[NiftiMasker.transform_single_imgs] Loading data from Nifti1Image(\n",
      "shape=(107, 127, 101, 1),\n",
      "affine=array([[ -1.5,  -0. ,  -0. ,  79.5],\n",
      "       [ -0. ,  -1.5,  -0. ,  79.5],\n",
      "       [  0. ,   0. ,   1.5, -65. ],\n",
      "       [  0. ,   0. ,   0. ,   1. ]])\n",
      ")\n",
      "[NiftiMasker.transform_single_imgs] Resampling images\n",
      "[NiftiMasker.transform_single_imgs] Smoothing images\n",
      "[NiftiMasker.transform_single_imgs] Extracting region signals\n",
      "[NiftiMasker.transform_single_imgs] Cleaning extracted signals\n",
      "/media/Data/Lab_Projects/RCF/neuroimaging/Lissek/LissekLab_CSpS-CSp_TraumaControl/labs/lisseklab/PTSD_StimGen/Analysis/subject_results/group.TraumaControl/SG_results/113.results/sub-113_CSpS_CSp_MNI.nii\n",
      "sub-113\n",
      "[NiftiMasker.fit] Loading data from None\n",
      "[NiftiMasker.fit] Resampling mask\n",
      "[NiftiMasker.transform_single_imgs] Loading data from Nifti1Image(\n",
      "shape=(107, 127, 101, 1),\n",
      "affine=array([[ -1.5,  -0. ,  -0. ,  79.5],\n",
      "       [ -0. ,  -1.5,  -0. ,  79.5],\n",
      "       [  0. ,   0. ,   1.5, -65. ],\n",
      "       [  0. ,   0. ,   0. ,   1. ]])\n",
      ")\n",
      "[NiftiMasker.transform_single_imgs] Resampling images\n",
      "[NiftiMasker.transform_single_imgs] Smoothing images\n",
      "[NiftiMasker.transform_single_imgs] Extracting region signals\n",
      "[NiftiMasker.transform_single_imgs] Cleaning extracted signals\n",
      "/media/Data/Lab_Projects/RCF/neuroimaging/Lissek/LissekLab_CSpS-CSp_TraumaControl/labs/lisseklab/PTSD_StimGen/Analysis/subject_results/group.TraumaControl/SG_results/119.results/sub-119_CSpS_CSp_MNI.nii\n",
      "sub-119\n",
      "[NiftiMasker.fit] Loading data from None\n",
      "[NiftiMasker.fit] Resampling mask\n",
      "[NiftiMasker.transform_single_imgs] Loading data from Nifti1Image(\n",
      "shape=(107, 127, 101, 1),\n",
      "affine=array([[ -1.5,  -0. ,  -0. ,  79.5],\n",
      "       [ -0. ,  -1.5,  -0. ,  79.5],\n",
      "       [  0. ,   0. ,   1.5, -65. ],\n",
      "       [  0. ,   0. ,   0. ,   1. ]])\n",
      ")\n",
      "[NiftiMasker.transform_single_imgs] Resampling images\n",
      "[NiftiMasker.transform_single_imgs] Smoothing images\n",
      "[NiftiMasker.transform_single_imgs] Extracting region signals\n",
      "[NiftiMasker.transform_single_imgs] Cleaning extracted signals\n",
      "/media/Data/Lab_Projects/RCF/neuroimaging/Lissek/LissekLab_CSpS-CSp_TraumaControl/labs/lisseklab/PTSD_StimGen/Analysis/subject_results/group.TraumaControl/SG_results/133.results/sub-133_CSpS_CSp_MNI.nii\n",
      "sub-133\n",
      "[NiftiMasker.fit] Loading data from None\n",
      "[NiftiMasker.fit] Resampling mask\n",
      "[NiftiMasker.transform_single_imgs] Loading data from Nifti1Image(\n",
      "shape=(107, 127, 101, 1),\n",
      "affine=array([[ -1.5,  -0. ,  -0. ,  79.5],\n",
      "       [ -0. ,  -1.5,  -0. ,  79.5],\n",
      "       [  0. ,   0. ,   1.5, -65. ],\n",
      "       [  0. ,   0. ,   0. ,   1. ]])\n",
      ")\n",
      "[NiftiMasker.transform_single_imgs] Resampling images\n",
      "[NiftiMasker.transform_single_imgs] Smoothing images\n",
      "[NiftiMasker.transform_single_imgs] Extracting region signals\n",
      "[NiftiMasker.transform_single_imgs] Cleaning extracted signals\n",
      "/media/Data/Lab_Projects/RCF/neuroimaging/Lissek/LissekLab_CSpS-CSp_TraumaControl/labs/lisseklab/PTSD_StimGen/Analysis/subject_results/group.TraumaControl/SG_results/134.results/sub-134_CSpS_CSp_MNI.nii\n",
      "sub-134\n",
      "[NiftiMasker.fit] Loading data from None\n",
      "[NiftiMasker.fit] Resampling mask\n",
      "[NiftiMasker.transform_single_imgs] Loading data from Nifti1Image(\n",
      "shape=(107, 127, 101, 1),\n",
      "affine=array([[ -1.5,  -0. ,  -0. ,  79.5],\n",
      "       [ -0. ,  -1.5,  -0. ,  79.5],\n",
      "       [  0. ,   0. ,   1.5, -65. ],\n",
      "       [  0. ,   0. ,   0. ,   1. ]])\n",
      ")\n",
      "[NiftiMasker.transform_single_imgs] Resampling images\n",
      "[NiftiMasker.transform_single_imgs] Smoothing images\n",
      "[NiftiMasker.transform_single_imgs] Extracting region signals\n",
      "[NiftiMasker.transform_single_imgs] Cleaning extracted signals\n",
      "/media/Data/Lab_Projects/RCF/neuroimaging/Lissek/LissekLab_CSpS-CSp_TraumaControl/labs/lisseklab/PTSD_StimGen/Analysis/subject_results/group.TraumaControl/SG_results/140.results/sub-140_CSpS_CSp_MNI.nii\n",
      "sub-140\n",
      "[NiftiMasker.fit] Loading data from None\n",
      "[NiftiMasker.fit] Resampling mask\n",
      "[NiftiMasker.transform_single_imgs] Loading data from Nifti1Image(\n",
      "shape=(107, 127, 101, 1),\n",
      "affine=array([[ -1.5,  -0. ,  -0. ,  79.5],\n",
      "       [ -0. ,  -1.5,  -0. ,  79.5],\n",
      "       [  0. ,   0. ,   1.5, -65. ],\n",
      "       [  0. ,   0. ,   0. ,   1. ]])\n",
      ")\n",
      "[NiftiMasker.transform_single_imgs] Resampling images\n",
      "[NiftiMasker.transform_single_imgs] Smoothing images\n",
      "[NiftiMasker.transform_single_imgs] Extracting region signals\n",
      "[NiftiMasker.transform_single_imgs] Cleaning extracted signals\n",
      "/media/Data/Lab_Projects/RCF/neuroimaging/Lissek/LissekLab_CSpS-CSp_TraumaControl/labs/lisseklab/PTSD_StimGen/Analysis/subject_results/group.TraumaControl/SG_results/158.results/sub-158_CSpS_CSp_MNI.nii\n",
      "sub-158\n",
      "[NiftiMasker.fit] Loading data from None\n",
      "[NiftiMasker.fit] Resampling mask\n",
      "[NiftiMasker.transform_single_imgs] Loading data from Nifti1Image(\n",
      "shape=(107, 127, 101, 1),\n",
      "affine=array([[ -1.5,  -0. ,  -0. ,  79.5],\n",
      "       [ -0. ,  -1.5,  -0. ,  79.5],\n",
      "       [  0. ,   0. ,   1.5, -65. ],\n",
      "       [  0. ,   0. ,   0. ,   1. ]])\n",
      ")\n",
      "[NiftiMasker.transform_single_imgs] Resampling images\n",
      "[NiftiMasker.transform_single_imgs] Smoothing images\n",
      "[NiftiMasker.transform_single_imgs] Extracting region signals\n",
      "[NiftiMasker.transform_single_imgs] Cleaning extracted signals\n",
      "/media/Data/Lab_Projects/RCF/neuroimaging/Lissek/LissekLab_CSpS-CSp_TraumaControl/labs/lisseklab/PTSD_StimGen/Analysis/subject_results/group.TraumaControl/SG_results/159.results/sub-159_CSpS_CSp_MNI.nii\n",
      "sub-159\n",
      "[NiftiMasker.fit] Loading data from None\n",
      "[NiftiMasker.fit] Resampling mask\n",
      "[NiftiMasker.transform_single_imgs] Loading data from Nifti1Image(\n",
      "shape=(107, 127, 101, 1),\n",
      "affine=array([[ -1.5,  -0. ,  -0. ,  79.5],\n",
      "       [ -0. ,  -1.5,  -0. ,  79.5],\n",
      "       [  0. ,   0. ,   1.5, -65. ],\n",
      "       [  0. ,   0. ,   0. ,   1. ]])\n",
      ")\n",
      "[NiftiMasker.transform_single_imgs] Resampling images\n"
     ]
    },
    {
     "name": "stdout",
     "output_type": "stream",
     "text": [
      "[NiftiMasker.transform_single_imgs] Smoothing images\n",
      "[NiftiMasker.transform_single_imgs] Extracting region signals\n",
      "[NiftiMasker.transform_single_imgs] Cleaning extracted signals\n",
      "/media/Data/Lab_Projects/RCF/neuroimaging/Lissek/LissekLab_CSpS-CSp_TraumaControl/labs/lisseklab/PTSD_StimGen/Analysis/subject_results/group.TraumaControl/SG_results/160.results/sub-160_CSpS_CSp_MNI.nii\n",
      "sub-160\n",
      "[NiftiMasker.fit] Loading data from None\n",
      "[NiftiMasker.fit] Resampling mask\n",
      "[NiftiMasker.transform_single_imgs] Loading data from Nifti1Image(\n",
      "shape=(107, 127, 101, 1),\n",
      "affine=array([[ -1.5,  -0. ,  -0. ,  79.5],\n",
      "       [ -0. ,  -1.5,  -0. ,  79.5],\n",
      "       [  0. ,   0. ,   1.5, -65. ],\n",
      "       [  0. ,   0. ,   0. ,   1. ]])\n",
      ")\n",
      "[NiftiMasker.transform_single_imgs] Resampling images\n",
      "[NiftiMasker.transform_single_imgs] Smoothing images\n",
      "[NiftiMasker.transform_single_imgs] Extracting region signals\n",
      "[NiftiMasker.transform_single_imgs] Cleaning extracted signals\n",
      "/media/Data/Lab_Projects/RCF/neuroimaging/Lissek/LissekLab_CSpS-CSp_TraumaControl/labs/lisseklab/PTSD_StimGen/Analysis/subject_results/group.TraumaControl/SG_results/163.results/sub-163_CSpS_CSp_MNI.nii\n",
      "sub-163\n",
      "[NiftiMasker.fit] Loading data from None\n",
      "[NiftiMasker.fit] Resampling mask\n",
      "[NiftiMasker.transform_single_imgs] Loading data from Nifti1Image(\n",
      "shape=(107, 127, 101, 1),\n",
      "affine=array([[ -1.5,  -0. ,  -0. ,  79.5],\n",
      "       [ -0. ,  -1.5,  -0. ,  79.5],\n",
      "       [  0. ,   0. ,   1.5, -65. ],\n",
      "       [  0. ,   0. ,   0. ,   1. ]])\n",
      ")\n",
      "[NiftiMasker.transform_single_imgs] Resampling images\n",
      "[NiftiMasker.transform_single_imgs] Smoothing images\n",
      "[NiftiMasker.transform_single_imgs] Extracting region signals\n",
      "[NiftiMasker.transform_single_imgs] Cleaning extracted signals\n",
      "/media/Data/Lab_Projects/RCF/neuroimaging/Lissek/LissekLab_CSpS-CSp_TraumaControl/labs/lisseklab/PTSD_StimGen/Analysis/subject_results/group.TraumaControl/SG_results/168.results/sub-168_CSpS_CSp_MNI.nii\n",
      "sub-168\n",
      "[NiftiMasker.fit] Loading data from None\n",
      "[NiftiMasker.fit] Resampling mask\n",
      "[NiftiMasker.transform_single_imgs] Loading data from Nifti1Image(\n",
      "shape=(107, 127, 101, 1),\n",
      "affine=array([[ -1.5,  -0. ,  -0. ,  79.5],\n",
      "       [ -0. ,  -1.5,  -0. ,  79.5],\n",
      "       [  0. ,   0. ,   1.5, -65. ],\n",
      "       [  0. ,   0. ,   0. ,   1. ]])\n",
      ")\n",
      "[NiftiMasker.transform_single_imgs] Resampling images\n",
      "[NiftiMasker.transform_single_imgs] Smoothing images\n",
      "[NiftiMasker.transform_single_imgs] Extracting region signals\n",
      "[NiftiMasker.transform_single_imgs] Cleaning extracted signals\n",
      "/media/Data/Lab_Projects/RCF/neuroimaging/Lissek/LissekLab_CSpS-CSp_TraumaControl/labs/lisseklab/PTSD_StimGen/Analysis/subject_results/group.TraumaControl/SG_results/174.results/sub-174_CSpS_CSp_MNI.nii\n",
      "sub-174\n",
      "[NiftiMasker.fit] Loading data from None\n",
      "[NiftiMasker.fit] Resampling mask\n",
      "[NiftiMasker.transform_single_imgs] Loading data from Nifti1Image(\n",
      "shape=(107, 127, 101, 1),\n",
      "affine=array([[ -1.5,  -0. ,  -0. ,  79.5],\n",
      "       [ -0. ,  -1.5,  -0. ,  79.5],\n",
      "       [  0. ,   0. ,   1.5, -65. ],\n",
      "       [  0. ,   0. ,   0. ,   1. ]])\n",
      ")\n",
      "[NiftiMasker.transform_single_imgs] Resampling images\n",
      "[NiftiMasker.transform_single_imgs] Smoothing images\n",
      "[NiftiMasker.transform_single_imgs] Extracting region signals\n",
      "[NiftiMasker.transform_single_imgs] Cleaning extracted signals\n",
      "/media/Data/Lab_Projects/RCF/neuroimaging/Lissek/LissekLab_CSpS-CSp_TraumaControl/labs/lisseklab/PTSD_StimGen/Analysis/subject_results/group.TraumaControl/SG_results/175.results/sub-175_CSpS_CSp_MNI.nii\n",
      "sub-175\n",
      "[NiftiMasker.fit] Loading data from None\n",
      "[NiftiMasker.fit] Resampling mask\n",
      "[NiftiMasker.transform_single_imgs] Loading data from Nifti1Image(\n",
      "shape=(107, 127, 101, 1),\n",
      "affine=array([[ -1.5,  -0. ,  -0. ,  79.5],\n",
      "       [ -0. ,  -1.5,  -0. ,  79.5],\n",
      "       [  0. ,   0. ,   1.5, -65. ],\n",
      "       [  0. ,   0. ,   0. ,   1. ]])\n",
      ")\n",
      "[NiftiMasker.transform_single_imgs] Resampling images\n",
      "[NiftiMasker.transform_single_imgs] Smoothing images\n",
      "[NiftiMasker.transform_single_imgs] Extracting region signals\n",
      "[NiftiMasker.transform_single_imgs] Cleaning extracted signals\n",
      "/media/Data/Lab_Projects/RCF/neuroimaging/Lissek/LissekLab_CSpS-CSp_TraumaControl/labs/lisseklab/PTSD_StimGen/Analysis/subject_results/group.TraumaControl/SG_results/177.results/sub-177_CSpS_CSp_MNI.nii\n",
      "sub-177\n",
      "[NiftiMasker.fit] Loading data from None\n",
      "[NiftiMasker.fit] Resampling mask\n",
      "[NiftiMasker.transform_single_imgs] Loading data from Nifti1Image(\n",
      "shape=(107, 127, 101, 1),\n",
      "affine=array([[ -1.5,  -0. ,  -0. ,  79.5],\n",
      "       [ -0. ,  -1.5,  -0. ,  79.5],\n",
      "       [  0. ,   0. ,   1.5, -65. ],\n",
      "       [  0. ,   0. ,   0. ,   1. ]])\n",
      ")\n",
      "[NiftiMasker.transform_single_imgs] Resampling images\n",
      "[NiftiMasker.transform_single_imgs] Smoothing images\n",
      "[NiftiMasker.transform_single_imgs] Extracting region signals\n",
      "[NiftiMasker.transform_single_imgs] Cleaning extracted signals\n",
      "/media/Data/Lab_Projects/RCF/neuroimaging/Lissek/LissekLab_CSpS-CSp_TraumaControl/labs/lisseklab/PTSD_StimGen/Analysis/subject_results/group.TraumaControl/SG_results/182.results/sub-182_CSpS_CSp_MNI.nii\n",
      "sub-182\n",
      "[NiftiMasker.fit] Loading data from None\n",
      "[NiftiMasker.fit] Resampling mask\n",
      "[NiftiMasker.transform_single_imgs] Loading data from Nifti1Image(\n",
      "shape=(107, 127, 101, 1),\n",
      "affine=array([[ -1.5,  -0. ,  -0. ,  79.5],\n",
      "       [ -0. ,  -1.5,  -0. ,  79.5],\n",
      "       [  0. ,   0. ,   1.5, -65. ],\n",
      "       [  0. ,   0. ,   0. ,   1. ]])\n",
      ")\n",
      "[NiftiMasker.transform_single_imgs] Resampling images\n",
      "[NiftiMasker.transform_single_imgs] Smoothing images\n",
      "[NiftiMasker.transform_single_imgs] Extracting region signals\n",
      "[NiftiMasker.transform_single_imgs] Cleaning extracted signals\n",
      "/media/Data/Lab_Projects/RCF/neuroimaging/Lissek/LissekLab_CSpS-CSp_TraumaControl/labs/lisseklab/PTSD_StimGen/Analysis/subject_results/group.TraumaControl/SG_results/183.results/sub-183_CSpS_CSp_MNI.nii\n",
      "sub-183\n",
      "[NiftiMasker.fit] Loading data from None\n",
      "[NiftiMasker.fit] Resampling mask\n",
      "[NiftiMasker.transform_single_imgs] Loading data from Nifti1Image(\n",
      "shape=(107, 127, 101, 1),\n",
      "affine=array([[ -1.5,  -0. ,  -0. ,  79.5],\n",
      "       [ -0. ,  -1.5,  -0. ,  79.5],\n",
      "       [  0. ,   0. ,   1.5, -65. ],\n",
      "       [  0. ,   0. ,   0. ,   1. ]])\n",
      ")\n",
      "[NiftiMasker.transform_single_imgs] Resampling images\n",
      "[NiftiMasker.transform_single_imgs] Smoothing images\n",
      "[NiftiMasker.transform_single_imgs] Extracting region signals\n",
      "[NiftiMasker.transform_single_imgs] Cleaning extracted signals\n",
      "/media/Data/Lab_Projects/RCF/neuroimaging/Lissek/LissekLab_CSpS-CSp_TraumaControl/labs/lisseklab/PTSD_StimGen/Analysis/subject_results/group.TraumaControl/SG_results/187.results/sub-187_CSpS_CSp_MNI.nii\n",
      "sub-187\n",
      "[NiftiMasker.fit] Loading data from None\n",
      "[NiftiMasker.fit] Resampling mask\n",
      "[NiftiMasker.transform_single_imgs] Loading data from Nifti1Image(\n",
      "shape=(107, 127, 101, 1),\n",
      "affine=array([[ -1.5,  -0. ,  -0. ,  79.5],\n",
      "       [ -0. ,  -1.5,  -0. ,  79.5],\n",
      "       [  0. ,   0. ,   1.5, -65. ],\n",
      "       [  0. ,   0. ,   0. ,   1. ]])\n",
      ")\n",
      "[NiftiMasker.transform_single_imgs] Resampling images\n",
      "[NiftiMasker.transform_single_imgs] Smoothing images\n",
      "[NiftiMasker.transform_single_imgs] Extracting region signals\n",
      "[NiftiMasker.transform_single_imgs] Cleaning extracted signals\n",
      "/media/Data/Lab_Projects/RCF/neuroimaging/Lissek/LissekLab_CSpS-CSp_TraumaControl/labs/lisseklab/PTSD_StimGen/Analysis/subject_results/group.TraumaControl/SG_results/188.results/sub-188_CSpS_CSp_MNI.nii\n",
      "sub-188\n",
      "[NiftiMasker.fit] Loading data from None\n",
      "[NiftiMasker.fit] Resampling mask\n",
      "[NiftiMasker.transform_single_imgs] Loading data from Nifti1Image(\n",
      "shape=(107, 127, 101, 1),\n",
      "affine=array([[ -1.5,  -0. ,  -0. ,  79.5],\n",
      "       [ -0. ,  -1.5,  -0. ,  79.5],\n",
      "       [  0. ,   0. ,   1.5, -65. ],\n",
      "       [  0. ,   0. ,   0. ,   1. ]])\n",
      ")\n",
      "[NiftiMasker.transform_single_imgs] Resampling images\n",
      "[NiftiMasker.transform_single_imgs] Smoothing images\n",
      "[NiftiMasker.transform_single_imgs] Extracting region signals\n",
      "[NiftiMasker.transform_single_imgs] Cleaning extracted signals\n",
      "/media/Data/Lab_Projects/RCF/neuroimaging/Lissek/LissekLab_CSpS-CSp_TraumaControl/labs/lisseklab/PTSD_StimGen/Analysis/subject_results/group.TraumaControl/SG_results/190.results/sub-190_CSpS_CSp_MNI.nii\n",
      "sub-190\n",
      "[NiftiMasker.fit] Loading data from None\n",
      "[NiftiMasker.fit] Resampling mask\n",
      "[NiftiMasker.transform_single_imgs] Loading data from Nifti1Image(\n",
      "shape=(107, 127, 101, 1),\n",
      "affine=array([[ -1.5,  -0. ,  -0. ,  79.5],\n",
      "       [ -0. ,  -1.5,  -0. ,  79.5],\n",
      "       [  0. ,   0. ,   1.5, -65. ],\n",
      "       [  0. ,   0. ,   0. ,   1. ]])\n",
      ")\n",
      "[NiftiMasker.transform_single_imgs] Resampling images\n"
     ]
    },
    {
     "name": "stdout",
     "output_type": "stream",
     "text": [
      "[NiftiMasker.transform_single_imgs] Smoothing images\n",
      "[NiftiMasker.transform_single_imgs] Extracting region signals\n",
      "[NiftiMasker.transform_single_imgs] Cleaning extracted signals\n"
     ]
    }
   ],
   "source": [
    "# grab C amygdala activation\n",
    "usCC = []\n",
    "timeseriesAmgCC = []\n",
    "for f in us_condCC:\n",
    "    print(f)\n",
    "    sub = os.path.basename(f).split('_')[0]\n",
    "    print(sub)\n",
    "    tArr = masker.fit_transform(f)\n",
    "    meanT = np.mean(tArr,axis=1)\n",
    "    sem = scipy.stats.sem(tArr, axis=1)\n",
    "    std = np.std(tArr, axis=1)\n",
    "    \n",
    "\n",
    "#     # create datafram for the timeseries\n",
    "    dfTSCC = {'subject':sub, 'ts':tArr[0]}\n",
    "#     # create dataframe for the mean activation\n",
    "    dfCC = {'subject':sub, 'amygdala':meanT[0], 'amgsem':sem[0], 'amgstd':std[0]}\n",
    "#     #df['subject'] = sub\n",
    "    usCC.append(dfCC)\n",
    "    timeseriesAmgCC.append(dfTS)\n",
    "amg_udCC = pd.DataFrame(usCC)\n",
    "tsDfCC = pd.DataFrame(timeseriesAmgCC)"
   ]
  },
  {
   "cell_type": "code",
   "execution_count": 95,
   "metadata": {
    "scrolled": true
   },
   "outputs": [
    {
     "data": {
      "text/html": [
       "<div>\n",
       "<style scoped>\n",
       "    .dataframe tbody tr th:only-of-type {\n",
       "        vertical-align: middle;\n",
       "    }\n",
       "\n",
       "    .dataframe tbody tr th {\n",
       "        vertical-align: top;\n",
       "    }\n",
       "\n",
       "    .dataframe thead th {\n",
       "        text-align: right;\n",
       "    }\n",
       "</style>\n",
       "<table border=\"1\" class=\"dataframe\">\n",
       "  <thead>\n",
       "    <tr style=\"text-align: right;\">\n",
       "      <th></th>\n",
       "      <th>subject</th>\n",
       "      <th>amygdala</th>\n",
       "      <th>amgsem</th>\n",
       "      <th>amgstd</th>\n",
       "      <th>group</th>\n",
       "    </tr>\n",
       "  </thead>\n",
       "  <tbody>\n",
       "    <tr>\n",
       "      <th>0</th>\n",
       "      <td>sub-103</td>\n",
       "      <td>0.269722</td>\n",
       "      <td>0.014017</td>\n",
       "      <td>0.331100</td>\n",
       "      <td>PTSD</td>\n",
       "    </tr>\n",
       "    <tr>\n",
       "      <th>1</th>\n",
       "      <td>sub-105</td>\n",
       "      <td>0.327857</td>\n",
       "      <td>0.018383</td>\n",
       "      <td>0.434249</td>\n",
       "      <td>PTSD</td>\n",
       "    </tr>\n",
       "    <tr>\n",
       "      <th>2</th>\n",
       "      <td>sub-106</td>\n",
       "      <td>0.147908</td>\n",
       "      <td>0.017060</td>\n",
       "      <td>0.403003</td>\n",
       "      <td>PTSD</td>\n",
       "    </tr>\n",
       "    <tr>\n",
       "      <th>3</th>\n",
       "      <td>sub-108</td>\n",
       "      <td>0.250330</td>\n",
       "      <td>0.013297</td>\n",
       "      <td>0.314111</td>\n",
       "      <td>PTSD</td>\n",
       "    </tr>\n",
       "    <tr>\n",
       "      <th>4</th>\n",
       "      <td>sub-110</td>\n",
       "      <td>0.087711</td>\n",
       "      <td>0.012650</td>\n",
       "      <td>0.298820</td>\n",
       "      <td>PTSD</td>\n",
       "    </tr>\n",
       "    <tr>\n",
       "      <th>5</th>\n",
       "      <td>sub-111</td>\n",
       "      <td>0.431357</td>\n",
       "      <td>0.015388</td>\n",
       "      <td>0.363490</td>\n",
       "      <td>PTSD</td>\n",
       "    </tr>\n",
       "    <tr>\n",
       "      <th>6</th>\n",
       "      <td>sub-115</td>\n",
       "      <td>0.282070</td>\n",
       "      <td>0.021291</td>\n",
       "      <td>0.502932</td>\n",
       "      <td>PTSD</td>\n",
       "    </tr>\n",
       "    <tr>\n",
       "      <th>7</th>\n",
       "      <td>sub-117</td>\n",
       "      <td>0.217272</td>\n",
       "      <td>0.012852</td>\n",
       "      <td>0.303580</td>\n",
       "      <td>PTSD</td>\n",
       "    </tr>\n",
       "    <tr>\n",
       "      <th>8</th>\n",
       "      <td>sub-118</td>\n",
       "      <td>0.121030</td>\n",
       "      <td>0.013345</td>\n",
       "      <td>0.315230</td>\n",
       "      <td>PTSD</td>\n",
       "    </tr>\n",
       "    <tr>\n",
       "      <th>9</th>\n",
       "      <td>sub-120</td>\n",
       "      <td>-0.199094</td>\n",
       "      <td>0.010314</td>\n",
       "      <td>0.243643</td>\n",
       "      <td>PTSD</td>\n",
       "    </tr>\n",
       "    <tr>\n",
       "      <th>10</th>\n",
       "      <td>sub-122</td>\n",
       "      <td>0.327545</td>\n",
       "      <td>0.017907</td>\n",
       "      <td>0.423007</td>\n",
       "      <td>PTSD</td>\n",
       "    </tr>\n",
       "    <tr>\n",
       "      <th>11</th>\n",
       "      <td>sub-123</td>\n",
       "      <td>-0.041738</td>\n",
       "      <td>0.019869</td>\n",
       "      <td>0.469346</td>\n",
       "      <td>PTSD</td>\n",
       "    </tr>\n",
       "    <tr>\n",
       "      <th>12</th>\n",
       "      <td>sub-125</td>\n",
       "      <td>0.411064</td>\n",
       "      <td>0.024884</td>\n",
       "      <td>0.587816</td>\n",
       "      <td>PTSD</td>\n",
       "    </tr>\n",
       "    <tr>\n",
       "      <th>13</th>\n",
       "      <td>sub-126</td>\n",
       "      <td>0.170354</td>\n",
       "      <td>0.017996</td>\n",
       "      <td>0.425095</td>\n",
       "      <td>PTSD</td>\n",
       "    </tr>\n",
       "    <tr>\n",
       "      <th>14</th>\n",
       "      <td>sub-127</td>\n",
       "      <td>0.081429</td>\n",
       "      <td>0.013921</td>\n",
       "      <td>0.328847</td>\n",
       "      <td>PTSD</td>\n",
       "    </tr>\n",
       "    <tr>\n",
       "      <th>15</th>\n",
       "      <td>sub-130</td>\n",
       "      <td>0.629186</td>\n",
       "      <td>0.018959</td>\n",
       "      <td>0.447840</td>\n",
       "      <td>PTSD</td>\n",
       "    </tr>\n",
       "    <tr>\n",
       "      <th>16</th>\n",
       "      <td>sub-132</td>\n",
       "      <td>0.136653</td>\n",
       "      <td>0.013956</td>\n",
       "      <td>0.329680</td>\n",
       "      <td>PTSD</td>\n",
       "    </tr>\n",
       "    <tr>\n",
       "      <th>17</th>\n",
       "      <td>sub-141</td>\n",
       "      <td>0.383839</td>\n",
       "      <td>0.020220</td>\n",
       "      <td>0.477634</td>\n",
       "      <td>PTSD</td>\n",
       "    </tr>\n",
       "    <tr>\n",
       "      <th>18</th>\n",
       "      <td>sub-151</td>\n",
       "      <td>0.341921</td>\n",
       "      <td>0.019848</td>\n",
       "      <td>0.468861</td>\n",
       "      <td>PTSD</td>\n",
       "    </tr>\n",
       "    <tr>\n",
       "      <th>19</th>\n",
       "      <td>sub-153</td>\n",
       "      <td>0.426659</td>\n",
       "      <td>0.017475</td>\n",
       "      <td>0.412805</td>\n",
       "      <td>PTSD</td>\n",
       "    </tr>\n",
       "    <tr>\n",
       "      <th>20</th>\n",
       "      <td>sub-154</td>\n",
       "      <td>0.514979</td>\n",
       "      <td>0.031212</td>\n",
       "      <td>0.737285</td>\n",
       "      <td>PTSD</td>\n",
       "    </tr>\n",
       "    <tr>\n",
       "      <th>21</th>\n",
       "      <td>sub-165</td>\n",
       "      <td>0.157790</td>\n",
       "      <td>0.018420</td>\n",
       "      <td>0.435121</td>\n",
       "      <td>PTSD</td>\n",
       "    </tr>\n",
       "    <tr>\n",
       "      <th>22</th>\n",
       "      <td>sub-166</td>\n",
       "      <td>0.193329</td>\n",
       "      <td>0.013372</td>\n",
       "      <td>0.315880</td>\n",
       "      <td>PTSD</td>\n",
       "    </tr>\n",
       "    <tr>\n",
       "      <th>23</th>\n",
       "      <td>sub-169</td>\n",
       "      <td>-0.031398</td>\n",
       "      <td>0.015661</td>\n",
       "      <td>0.369935</td>\n",
       "      <td>PTSD</td>\n",
       "    </tr>\n",
       "    <tr>\n",
       "      <th>24</th>\n",
       "      <td>sub-171</td>\n",
       "      <td>0.283510</td>\n",
       "      <td>0.013592</td>\n",
       "      <td>0.321080</td>\n",
       "      <td>PTSD</td>\n",
       "    </tr>\n",
       "    <tr>\n",
       "      <th>25</th>\n",
       "      <td>sub-191</td>\n",
       "      <td>0.233945</td>\n",
       "      <td>0.019969</td>\n",
       "      <td>0.471708</td>\n",
       "      <td>PTSD</td>\n",
       "    </tr>\n",
       "    <tr>\n",
       "      <th>26</th>\n",
       "      <td>sub-102</td>\n",
       "      <td>0.200480</td>\n",
       "      <td>0.010854</td>\n",
       "      <td>0.256389</td>\n",
       "      <td>CC</td>\n",
       "    </tr>\n",
       "    <tr>\n",
       "      <th>27</th>\n",
       "      <td>sub-104</td>\n",
       "      <td>-0.154068</td>\n",
       "      <td>0.017920</td>\n",
       "      <td>0.423318</td>\n",
       "      <td>CC</td>\n",
       "    </tr>\n",
       "    <tr>\n",
       "      <th>28</th>\n",
       "      <td>sub-107</td>\n",
       "      <td>0.387204</td>\n",
       "      <td>0.011009</td>\n",
       "      <td>0.260043</td>\n",
       "      <td>CC</td>\n",
       "    </tr>\n",
       "    <tr>\n",
       "      <th>29</th>\n",
       "      <td>sub-109</td>\n",
       "      <td>0.817367</td>\n",
       "      <td>0.031710</td>\n",
       "      <td>0.749051</td>\n",
       "      <td>CC</td>\n",
       "    </tr>\n",
       "    <tr>\n",
       "      <th>30</th>\n",
       "      <td>sub-113</td>\n",
       "      <td>-0.016103</td>\n",
       "      <td>0.012509</td>\n",
       "      <td>0.295480</td>\n",
       "      <td>CC</td>\n",
       "    </tr>\n",
       "    <tr>\n",
       "      <th>31</th>\n",
       "      <td>sub-119</td>\n",
       "      <td>0.573780</td>\n",
       "      <td>0.016964</td>\n",
       "      <td>0.400720</td>\n",
       "      <td>CC</td>\n",
       "    </tr>\n",
       "    <tr>\n",
       "      <th>32</th>\n",
       "      <td>sub-133</td>\n",
       "      <td>0.800944</td>\n",
       "      <td>0.025909</td>\n",
       "      <td>0.612019</td>\n",
       "      <td>CC</td>\n",
       "    </tr>\n",
       "    <tr>\n",
       "      <th>33</th>\n",
       "      <td>sub-134</td>\n",
       "      <td>0.294447</td>\n",
       "      <td>0.017794</td>\n",
       "      <td>0.420330</td>\n",
       "      <td>CC</td>\n",
       "    </tr>\n",
       "    <tr>\n",
       "      <th>34</th>\n",
       "      <td>sub-140</td>\n",
       "      <td>0.349537</td>\n",
       "      <td>0.024411</td>\n",
       "      <td>0.576629</td>\n",
       "      <td>CC</td>\n",
       "    </tr>\n",
       "    <tr>\n",
       "      <th>35</th>\n",
       "      <td>sub-158</td>\n",
       "      <td>0.060215</td>\n",
       "      <td>0.013156</td>\n",
       "      <td>0.310775</td>\n",
       "      <td>CC</td>\n",
       "    </tr>\n",
       "    <tr>\n",
       "      <th>36</th>\n",
       "      <td>sub-159</td>\n",
       "      <td>0.105166</td>\n",
       "      <td>0.011891</td>\n",
       "      <td>0.280891</td>\n",
       "      <td>CC</td>\n",
       "    </tr>\n",
       "    <tr>\n",
       "      <th>37</th>\n",
       "      <td>sub-160</td>\n",
       "      <td>0.485609</td>\n",
       "      <td>0.047309</td>\n",
       "      <td>1.117541</td>\n",
       "      <td>CC</td>\n",
       "    </tr>\n",
       "    <tr>\n",
       "      <th>38</th>\n",
       "      <td>sub-163</td>\n",
       "      <td>-0.194655</td>\n",
       "      <td>0.017930</td>\n",
       "      <td>0.423551</td>\n",
       "      <td>CC</td>\n",
       "    </tr>\n",
       "    <tr>\n",
       "      <th>39</th>\n",
       "      <td>sub-168</td>\n",
       "      <td>0.940252</td>\n",
       "      <td>0.028699</td>\n",
       "      <td>0.677930</td>\n",
       "      <td>CC</td>\n",
       "    </tr>\n",
       "    <tr>\n",
       "      <th>40</th>\n",
       "      <td>sub-174</td>\n",
       "      <td>0.216586</td>\n",
       "      <td>0.014555</td>\n",
       "      <td>0.343823</td>\n",
       "      <td>CC</td>\n",
       "    </tr>\n",
       "    <tr>\n",
       "      <th>41</th>\n",
       "      <td>sub-175</td>\n",
       "      <td>0.944406</td>\n",
       "      <td>0.028694</td>\n",
       "      <td>0.677805</td>\n",
       "      <td>CC</td>\n",
       "    </tr>\n",
       "    <tr>\n",
       "      <th>42</th>\n",
       "      <td>sub-177</td>\n",
       "      <td>0.222022</td>\n",
       "      <td>0.011768</td>\n",
       "      <td>0.277980</td>\n",
       "      <td>CC</td>\n",
       "    </tr>\n",
       "    <tr>\n",
       "      <th>43</th>\n",
       "      <td>sub-182</td>\n",
       "      <td>0.066166</td>\n",
       "      <td>0.013706</td>\n",
       "      <td>0.323757</td>\n",
       "      <td>CC</td>\n",
       "    </tr>\n",
       "    <tr>\n",
       "      <th>44</th>\n",
       "      <td>sub-183</td>\n",
       "      <td>1.101424</td>\n",
       "      <td>0.029643</td>\n",
       "      <td>0.700221</td>\n",
       "      <td>CC</td>\n",
       "    </tr>\n",
       "    <tr>\n",
       "      <th>45</th>\n",
       "      <td>sub-187</td>\n",
       "      <td>0.460719</td>\n",
       "      <td>0.013629</td>\n",
       "      <td>0.321933</td>\n",
       "      <td>CC</td>\n",
       "    </tr>\n",
       "    <tr>\n",
       "      <th>46</th>\n",
       "      <td>sub-188</td>\n",
       "      <td>0.306209</td>\n",
       "      <td>0.017865</td>\n",
       "      <td>0.422004</td>\n",
       "      <td>CC</td>\n",
       "    </tr>\n",
       "    <tr>\n",
       "      <th>47</th>\n",
       "      <td>sub-190</td>\n",
       "      <td>0.577013</td>\n",
       "      <td>0.024589</td>\n",
       "      <td>0.580849</td>\n",
       "      <td>CC</td>\n",
       "    </tr>\n",
       "  </tbody>\n",
       "</table>\n",
       "</div>"
      ],
      "text/plain": [
       "    subject  amygdala    amgsem    amgstd group\n",
       "0   sub-103  0.269722  0.014017  0.331100  PTSD\n",
       "1   sub-105  0.327857  0.018383  0.434249  PTSD\n",
       "2   sub-106  0.147908  0.017060  0.403003  PTSD\n",
       "3   sub-108  0.250330  0.013297  0.314111  PTSD\n",
       "4   sub-110  0.087711  0.012650  0.298820  PTSD\n",
       "5   sub-111  0.431357  0.015388  0.363490  PTSD\n",
       "6   sub-115  0.282070  0.021291  0.502932  PTSD\n",
       "7   sub-117  0.217272  0.012852  0.303580  PTSD\n",
       "8   sub-118  0.121030  0.013345  0.315230  PTSD\n",
       "9   sub-120 -0.199094  0.010314  0.243643  PTSD\n",
       "10  sub-122  0.327545  0.017907  0.423007  PTSD\n",
       "11  sub-123 -0.041738  0.019869  0.469346  PTSD\n",
       "12  sub-125  0.411064  0.024884  0.587816  PTSD\n",
       "13  sub-126  0.170354  0.017996  0.425095  PTSD\n",
       "14  sub-127  0.081429  0.013921  0.328847  PTSD\n",
       "15  sub-130  0.629186  0.018959  0.447840  PTSD\n",
       "16  sub-132  0.136653  0.013956  0.329680  PTSD\n",
       "17  sub-141  0.383839  0.020220  0.477634  PTSD\n",
       "18  sub-151  0.341921  0.019848  0.468861  PTSD\n",
       "19  sub-153  0.426659  0.017475  0.412805  PTSD\n",
       "20  sub-154  0.514979  0.031212  0.737285  PTSD\n",
       "21  sub-165  0.157790  0.018420  0.435121  PTSD\n",
       "22  sub-166  0.193329  0.013372  0.315880  PTSD\n",
       "23  sub-169 -0.031398  0.015661  0.369935  PTSD\n",
       "24  sub-171  0.283510  0.013592  0.321080  PTSD\n",
       "25  sub-191  0.233945  0.019969  0.471708  PTSD\n",
       "26  sub-102  0.200480  0.010854  0.256389    CC\n",
       "27  sub-104 -0.154068  0.017920  0.423318    CC\n",
       "28  sub-107  0.387204  0.011009  0.260043    CC\n",
       "29  sub-109  0.817367  0.031710  0.749051    CC\n",
       "30  sub-113 -0.016103  0.012509  0.295480    CC\n",
       "31  sub-119  0.573780  0.016964  0.400720    CC\n",
       "32  sub-133  0.800944  0.025909  0.612019    CC\n",
       "33  sub-134  0.294447  0.017794  0.420330    CC\n",
       "34  sub-140  0.349537  0.024411  0.576629    CC\n",
       "35  sub-158  0.060215  0.013156  0.310775    CC\n",
       "36  sub-159  0.105166  0.011891  0.280891    CC\n",
       "37  sub-160  0.485609  0.047309  1.117541    CC\n",
       "38  sub-163 -0.194655  0.017930  0.423551    CC\n",
       "39  sub-168  0.940252  0.028699  0.677930    CC\n",
       "40  sub-174  0.216586  0.014555  0.343823    CC\n",
       "41  sub-175  0.944406  0.028694  0.677805    CC\n",
       "42  sub-177  0.222022  0.011768  0.277980    CC\n",
       "43  sub-182  0.066166  0.013706  0.323757    CC\n",
       "44  sub-183  1.101424  0.029643  0.700221    CC\n",
       "45  sub-187  0.460719  0.013629  0.321933    CC\n",
       "46  sub-188  0.306209  0.017865  0.422004    CC\n",
       "47  sub-190  0.577013  0.024589  0.580849    CC"
      ]
     },
     "execution_count": 95,
     "metadata": {},
     "output_type": "execute_result"
    }
   ],
   "source": [
    "amg_udPTSD['group'] = \"PTSD\"\n",
    "amg_udCC['group'] = 'CC'\n",
    "\n",
    "amg_ud = pd.concat([amg_udPTSD, amg_udCC]).reset_index(drop=True) # reset the subject's index\n",
    "\n",
    "# save as csv\n",
    "#amg_ud.to_csv('lissek_amgCSpSvsCSp.csv', index=False)\n",
    "amg_ud#.head()\n"
   ]
  },
  {
   "cell_type": "markdown",
   "metadata": {},
   "source": [
    "## look at group differences"
   ]
  },
  {
   "cell_type": "code",
   "execution_count": 96,
   "metadata": {
    "scrolled": false
   },
   "outputs": [
    {
     "data": {
      "text/plain": [
       "<AxesSubplot:title={'center':'amygdala'}, xlabel='group', ylabel='amygdala'>"
      ]
     },
     "execution_count": 96,
     "metadata": {},
     "output_type": "execute_result"
    },
    {
     "data": {
      "image/png": "[encoded data removed]",
      "text/plain": [
       "<Figure size 432x288 with 1 Axes>"
      ]
     },
     "metadata": {
      "needs_background": "light"
     },
     "output_type": "display_data"
    }
   ],
   "source": [
    "# Plot barplot to see differences\n",
    "plt.title(\"amygdala\")\n",
    "sns.barplot(x=\"group\", y=\"amygdala\", data=amg_ud, ci=68)"
   ]
  },
  {
   "cell_type": "code",
   "execution_count": 97,
   "metadata": {},
   "outputs": [
    {
     "data": {
      "text/plain": [
       "0.03347196958005534"
      ]
     },
     "execution_count": 97,
     "metadata": {},
     "output_type": "execute_result"
    }
   ],
   "source": [
    "# run simple one-tailed t-test\n",
    "t = scipy.stats.ttest_ind(amg_ud['amygdala'][amg_ud['group']=='CC'],amg_ud['amygdala'][amg_ud['group']=='PTSD'], \n",
    "                     equal_var = True)\n",
    "\n",
    "# one tailed\n",
    "t[1] /2"
   ]
  },
  {
   "cell_type": "markdown",
   "metadata": {},
   "source": [
    "## Use Stan"
   ]
  },
  {
   "cell_type": "code",
   "execution_count": 98,
   "metadata": {
    "scrolled": true
   },
   "outputs": [
    {
     "data": {
      "text/html": [
       "<div>\n",
       "<style scoped>\n",
       "    .dataframe tbody tr th:only-of-type {\n",
       "        vertical-align: middle;\n",
       "    }\n",
       "\n",
       "    .dataframe tbody tr th {\n",
       "        vertical-align: top;\n",
       "    }\n",
       "\n",
       "    .dataframe thead th {\n",
       "        text-align: right;\n",
       "    }\n",
       "</style>\n",
       "<table border=\"1\" class=\"dataframe\">\n",
       "  <thead>\n",
       "    <tr style=\"text-align: right;\">\n",
       "      <th></th>\n",
       "      <th>subject</th>\n",
       "      <th>amygdala</th>\n",
       "      <th>amgsem</th>\n",
       "      <th>amgstd</th>\n",
       "      <th>groupIdx</th>\n",
       "    </tr>\n",
       "    <tr>\n",
       "      <th>group</th>\n",
       "      <th></th>\n",
       "      <th></th>\n",
       "      <th></th>\n",
       "      <th></th>\n",
       "      <th></th>\n",
       "    </tr>\n",
       "  </thead>\n",
       "  <tbody>\n",
       "    <tr>\n",
       "      <th>CC</th>\n",
       "      <td>22</td>\n",
       "      <td>22</td>\n",
       "      <td>22</td>\n",
       "      <td>22</td>\n",
       "      <td>22</td>\n",
       "    </tr>\n",
       "    <tr>\n",
       "      <th>PTSD</th>\n",
       "      <td>26</td>\n",
       "      <td>26</td>\n",
       "      <td>26</td>\n",
       "      <td>26</td>\n",
       "      <td>26</td>\n",
       "    </tr>\n",
       "  </tbody>\n",
       "</table>\n",
       "</div>"
      ],
      "text/plain": [
       "       subject  amygdala  amgsem  amgstd  groupIdx\n",
       "group                                             \n",
       "CC          22        22      22      22        22\n",
       "PTSD        26        26      26      26        26"
      ]
     },
     "execution_count": 98,
     "metadata": {},
     "output_type": "execute_result"
    }
   ],
   "source": [
    "dg = amg_ud\n",
    "# changing group to numbers before we run stan model\n",
    "group = {'CC': 0,'PTSD': 1} \n",
    "# setting it as new variable\n",
    "dg['groupIdx'] = [group[item] for item in dg.group] \n",
    "\n",
    "# how many in each group\n",
    "dg.groupby(['group']).count()"
   ]
  },
  {
   "cell_type": "code",
   "execution_count": 99,
   "metadata": {},
   "outputs": [],
   "source": [
    "data =  {'N': len(dg), 'x': dg['groupIdx'].values, 'y': dg['amygdala'].values}\n",
    "sm = cmdstanpy.CmdStanModel(stan_file='Stan_model/simple_model.stan')\n"
   ]
  },
  {
   "cell_type": "code",
   "execution_count": 100,
   "metadata": {},
   "outputs": [],
   "source": [
    "fit_simple_model = sm.sample(\n",
    "  data = data,\n",
    "  chains = 4,\n",
    "  iter_warmup = 1000,\n",
    "  iter_sampling = 1000,\n",
    "  adapt_delta = .9,\n",
    "  #inits = 0.2,\n",
    ")"
   ]
  },
  {
   "cell_type": "code",
   "execution_count": 113,
   "metadata": {},
   "outputs": [
    {
     "data": {
      "text/html": [
       "<div>\n",
       "<style scoped>\n",
       "    .dataframe tbody tr th:only-of-type {\n",
       "        vertical-align: middle;\n",
       "    }\n",
       "\n",
       "    .dataframe tbody tr th {\n",
       "        vertical-align: top;\n",
       "    }\n",
       "\n",
       "    .dataframe thead th {\n",
       "        text-align: right;\n",
       "    }\n",
       "</style>\n",
       "<table border=\"1\" class=\"dataframe\">\n",
       "  <thead>\n",
       "    <tr style=\"text-align: right;\">\n",
       "      <th></th>\n",
       "      <th>Mean</th>\n",
       "      <th>MCSE</th>\n",
       "      <th>StdDev</th>\n",
       "      <th>5%</th>\n",
       "      <th>50%</th>\n",
       "      <th>95%</th>\n",
       "      <th>N_Eff</th>\n",
       "      <th>N_Eff/s</th>\n",
       "      <th>R_hat</th>\n",
       "    </tr>\n",
       "    <tr>\n",
       "      <th>name</th>\n",
       "      <th></th>\n",
       "      <th></th>\n",
       "      <th></th>\n",
       "      <th></th>\n",
       "      <th></th>\n",
       "      <th></th>\n",
       "      <th></th>\n",
       "      <th></th>\n",
       "      <th></th>\n",
       "    </tr>\n",
       "  </thead>\n",
       "  <tbody>\n",
       "    <tr>\n",
       "      <th>lp__</th>\n",
       "      <td>35.00</td>\n",
       "      <td>0.03200</td>\n",
       "      <td>1.200</td>\n",
       "      <td>33.00</td>\n",
       "      <td>36.00</td>\n",
       "      <td>37.000</td>\n",
       "      <td>1500.0</td>\n",
       "      <td>15000.0</td>\n",
       "      <td>1.0</td>\n",
       "    </tr>\n",
       "    <tr>\n",
       "      <th>alpha</th>\n",
       "      <td>0.39</td>\n",
       "      <td>0.00150</td>\n",
       "      <td>0.061</td>\n",
       "      <td>0.29</td>\n",
       "      <td>0.39</td>\n",
       "      <td>0.490</td>\n",
       "      <td>1500.0</td>\n",
       "      <td>16000.0</td>\n",
       "      <td>1.0</td>\n",
       "    </tr>\n",
       "    <tr>\n",
       "      <th>beta</th>\n",
       "      <td>-0.15</td>\n",
       "      <td>0.00210</td>\n",
       "      <td>0.084</td>\n",
       "      <td>-0.29</td>\n",
       "      <td>-0.15</td>\n",
       "      <td>-0.014</td>\n",
       "      <td>1600.0</td>\n",
       "      <td>16000.0</td>\n",
       "      <td>1.0</td>\n",
       "    </tr>\n",
       "    <tr>\n",
       "      <th>sigma</th>\n",
       "      <td>0.29</td>\n",
       "      <td>0.00066</td>\n",
       "      <td>0.031</td>\n",
       "      <td>0.24</td>\n",
       "      <td>0.28</td>\n",
       "      <td>0.340</td>\n",
       "      <td>2200.0</td>\n",
       "      <td>23000.0</td>\n",
       "      <td>1.0</td>\n",
       "    </tr>\n",
       "  </tbody>\n",
       "</table>\n",
       "</div>"
      ],
      "text/plain": [
       "        Mean     MCSE  StdDev     5%    50%     95%   N_Eff  N_Eff/s  R_hat\n",
       "name                                                                       \n",
       "lp__   35.00  0.03200   1.200  33.00  36.00  37.000  1500.0  15000.0    1.0\n",
       "alpha   0.39  0.00150   0.061   0.29   0.39   0.490  1500.0  16000.0    1.0\n",
       "beta   -0.15  0.00210   0.084  -0.29  -0.15  -0.014  1600.0  16000.0    1.0\n",
       "sigma   0.29  0.00066   0.031   0.24   0.28   0.340  2200.0  23000.0    1.0"
      ]
     },
     "execution_count": 113,
     "metadata": {},
     "output_type": "execute_result"
    }
   ],
   "source": [
    "fit_simple_model.summary()#percentiles=(2.5,97.5))\n",
    "#fit_simple_model.draws().shape\n",
    "#fit_simple_model.draws(concat_chains=True).shape"
   ]
  },
  {
   "cell_type": "code",
   "execution_count": 102,
   "metadata": {},
   "outputs": [
    {
     "data": {
      "text/plain": [
       "<seaborn.axisgrid.FacetGrid at 0x7f3b1f5fff90>"
      ]
     },
     "execution_count": 102,
     "metadata": {},
     "output_type": "execute_result"
    },
    {
     "data": {
      "image/png": "[encoded data removed]",
      "text/plain": [
       "<Figure size 360x360 with 1 Axes>"
      ]
     },
     "metadata": {
      "needs_background": "light"
     },
     "output_type": "display_data"
    }
   ],
   "source": [
    "draws_rmu = fit_simple_model.stan_variable(name='beta')\n",
    "sns.displot(draws_rmu)"
   ]
  },
  {
   "cell_type": "code",
   "execution_count": 103,
   "metadata": {},
   "outputs": [
    {
     "name": "stderr",
     "output_type": "stream",
     "text": [
      "/home/or/miniconda3/envs/neuroAnalysis/lib/python3.7/site-packages/seaborn/distributions.py:2557: FutureWarning: `distplot` is a deprecated function and will be removed in a future version. Please adapt your code to use either `displot` (a figure-level function with similar flexibility) or `histplot` (an axes-level function for histograms).\n",
      "  warnings.warn(msg, FutureWarning)\n"
     ]
    },
    {
     "data": {
      "text/plain": [
       "0.038250000000000006"
      ]
     },
     "execution_count": 103,
     "metadata": {},
     "output_type": "execute_result"
    },
    {
     "data": {
      "image/png": "[encoded data removed]",
      "text/plain": [
       "<Figure size 432x288 with 1 Axes>"
      ]
     },
     "metadata": {
      "needs_background": "light"
     },
     "output_type": "display_data"
    }
   ],
   "source": [
    "sns.distplot(draws_rmu)\n",
    "1 - sum(draws_rmu<0) / len(draws_rmu)"
   ]
  },
  {
   "cell_type": "markdown",
   "metadata": {},
   "source": [
    "# Check correlation between amg and behavior"
   ]
  },
  {
   "cell_type": "code",
   "execution_count": 114,
   "metadata": {},
   "outputs": [
    {
     "data": {
      "text/html": [
       "<div>\n",
       "<style scoped>\n",
       "    .dataframe tbody tr th:only-of-type {\n",
       "        vertical-align: middle;\n",
       "    }\n",
       "\n",
       "    .dataframe tbody tr th {\n",
       "        vertical-align: top;\n",
       "    }\n",
       "\n",
       "    .dataframe thead th {\n",
       "        text-align: right;\n",
       "    }\n",
       "</style>\n",
       "<table border=\"1\" class=\"dataframe\">\n",
       "  <thead>\n",
       "    <tr style=\"text-align: right;\">\n",
       "      <th></th>\n",
       "      <th>Age</th>\n",
       "      <th>Gender</th>\n",
       "      <th>CAPS_B1F</th>\n",
       "      <th>CAPS_B1I</th>\n",
       "      <th>CAPS_B1FI</th>\n",
       "      <th>CAPS_B2F</th>\n",
       "      <th>CAPS_B2I</th>\n",
       "      <th>CAPS_B2FI</th>\n",
       "      <th>CAPS_B3F</th>\n",
       "      <th>CAPS_B3I</th>\n",
       "      <th>...</th>\n",
       "      <th>PCL_9</th>\n",
       "      <th>PCL_10</th>\n",
       "      <th>PCL_11</th>\n",
       "      <th>PCL_12</th>\n",
       "      <th>PCL_13</th>\n",
       "      <th>PCL_14</th>\n",
       "      <th>PCL_15</th>\n",
       "      <th>PCL_16</th>\n",
       "      <th>PCL_17</th>\n",
       "      <th>subject</th>\n",
       "    </tr>\n",
       "  </thead>\n",
       "  <tbody>\n",
       "    <tr>\n",
       "      <th>0</th>\n",
       "      <td>26.0</td>\n",
       "      <td>1.0</td>\n",
       "      <td>0.0</td>\n",
       "      <td>0.0</td>\n",
       "      <td>0.0</td>\n",
       "      <td>0.0</td>\n",
       "      <td>0.0</td>\n",
       "      <td>0.0</td>\n",
       "      <td>0.0</td>\n",
       "      <td>0.0</td>\n",
       "      <td>...</td>\n",
       "      <td>1.0</td>\n",
       "      <td>1.0</td>\n",
       "      <td>1.0</td>\n",
       "      <td>1.0</td>\n",
       "      <td>1.0</td>\n",
       "      <td>3.0</td>\n",
       "      <td>1.0</td>\n",
       "      <td>3.0</td>\n",
       "      <td>1.0</td>\n",
       "      <td>sub-102</td>\n",
       "    </tr>\n",
       "    <tr>\n",
       "      <th>1</th>\n",
       "      <td>31.0</td>\n",
       "      <td>1.0</td>\n",
       "      <td>2.0</td>\n",
       "      <td>2.0</td>\n",
       "      <td>4.0</td>\n",
       "      <td>2.0</td>\n",
       "      <td>2.0</td>\n",
       "      <td>4.0</td>\n",
       "      <td>0.0</td>\n",
       "      <td>0.0</td>\n",
       "      <td>...</td>\n",
       "      <td>3.0</td>\n",
       "      <td>2.0</td>\n",
       "      <td>2.0</td>\n",
       "      <td>2.0</td>\n",
       "      <td>3.0</td>\n",
       "      <td>2.0</td>\n",
       "      <td>2.0</td>\n",
       "      <td>2.0</td>\n",
       "      <td>2.0</td>\n",
       "      <td>sub-103</td>\n",
       "    </tr>\n",
       "    <tr>\n",
       "      <th>2</th>\n",
       "      <td>24.0</td>\n",
       "      <td>1.0</td>\n",
       "      <td>2.0</td>\n",
       "      <td>1.0</td>\n",
       "      <td>3.0</td>\n",
       "      <td>1.0</td>\n",
       "      <td>1.0</td>\n",
       "      <td>2.0</td>\n",
       "      <td>0.0</td>\n",
       "      <td>0.0</td>\n",
       "      <td>...</td>\n",
       "      <td>1.0</td>\n",
       "      <td>1.0</td>\n",
       "      <td>1.0</td>\n",
       "      <td>1.0</td>\n",
       "      <td>2.0</td>\n",
       "      <td>2.0</td>\n",
       "      <td>1.0</td>\n",
       "      <td>1.0</td>\n",
       "      <td>1.0</td>\n",
       "      <td>sub-104</td>\n",
       "    </tr>\n",
       "    <tr>\n",
       "      <th>3</th>\n",
       "      <td>33.0</td>\n",
       "      <td>1.0</td>\n",
       "      <td>4.0</td>\n",
       "      <td>1.0</td>\n",
       "      <td>5.0</td>\n",
       "      <td>4.0</td>\n",
       "      <td>2.0</td>\n",
       "      <td>6.0</td>\n",
       "      <td>0.0</td>\n",
       "      <td>0.0</td>\n",
       "      <td>...</td>\n",
       "      <td>4.0</td>\n",
       "      <td>3.0</td>\n",
       "      <td>1.0</td>\n",
       "      <td>1.0</td>\n",
       "      <td>3.0</td>\n",
       "      <td>3.0</td>\n",
       "      <td>4.0</td>\n",
       "      <td>3.0</td>\n",
       "      <td>2.0</td>\n",
       "      <td>sub-106</td>\n",
       "    </tr>\n",
       "    <tr>\n",
       "      <th>4</th>\n",
       "      <td>46.0</td>\n",
       "      <td>1.0</td>\n",
       "      <td>0.0</td>\n",
       "      <td>0.0</td>\n",
       "      <td>0.0</td>\n",
       "      <td>0.0</td>\n",
       "      <td>0.0</td>\n",
       "      <td>0.0</td>\n",
       "      <td>0.0</td>\n",
       "      <td>0.0</td>\n",
       "      <td>...</td>\n",
       "      <td>1.0</td>\n",
       "      <td>1.0</td>\n",
       "      <td>1.0</td>\n",
       "      <td>1.0</td>\n",
       "      <td>1.0</td>\n",
       "      <td>1.0</td>\n",
       "      <td>1.0</td>\n",
       "      <td>2.0</td>\n",
       "      <td>2.0</td>\n",
       "      <td>sub-107</td>\n",
       "    </tr>\n",
       "  </tbody>\n",
       "</table>\n",
       "<p>5 rows × 75 columns</p>\n",
       "</div>"
      ],
      "text/plain": [
       "    Age  Gender  CAPS_B1F  CAPS_B1I  CAPS_B1FI  CAPS_B2F  CAPS_B2I  CAPS_B2FI  \\\n",
       "0  26.0     1.0       0.0       0.0        0.0       0.0       0.0        0.0   \n",
       "1  31.0     1.0       2.0       2.0        4.0       2.0       2.0        4.0   \n",
       "2  24.0     1.0       2.0       1.0        3.0       1.0       1.0        2.0   \n",
       "3  33.0     1.0       4.0       1.0        5.0       4.0       2.0        6.0   \n",
       "4  46.0     1.0       0.0       0.0        0.0       0.0       0.0        0.0   \n",
       "\n",
       "   CAPS_B3F  CAPS_B3I  ...  PCL_9  PCL_10  PCL_11  PCL_12  PCL_13  PCL_14  \\\n",
       "0       0.0       0.0  ...    1.0     1.0     1.0     1.0     1.0     3.0   \n",
       "1       0.0       0.0  ...    3.0     2.0     2.0     2.0     3.0     2.0   \n",
       "2       0.0       0.0  ...    1.0     1.0     1.0     1.0     2.0     2.0   \n",
       "3       0.0       0.0  ...    4.0     3.0     1.0     1.0     3.0     3.0   \n",
       "4       0.0       0.0  ...    1.0     1.0     1.0     1.0     1.0     1.0   \n",
       "\n",
       "   PCL_15  PCL_16  PCL_17  subject  \n",
       "0     1.0     3.0     1.0  sub-102  \n",
       "1     2.0     2.0     2.0  sub-103  \n",
       "2     1.0     1.0     1.0  sub-104  \n",
       "3     4.0     3.0     2.0  sub-106  \n",
       "4     1.0     2.0     2.0  sub-107  \n",
       "\n",
       "[5 rows x 75 columns]"
      ]
     },
     "execution_count": 114,
     "metadata": {},
     "output_type": "execute_result"
    }
   ],
   "source": [
    "dfPCL = pd.read_spss('LissekLab_PTSD_TraumaControl_motion.sav')\n",
    "# remove the RCF from beginning of subject id\n",
    "\n",
    "dfPCL\n",
    "#dfPCL['Identifier'] = dfPCL['Identifier'].astype(str)\n",
    "#dfPCL\n",
    "# # because some subjects has two digits, we add zero\n",
    "for i in dfPCL.iterrows():\n",
    "   \n",
    "    dfPCL.at[i[0],'subject'] = 'sub-' + str(int(i[1].Identifier))\n",
    "\n",
    "#         dfPCL.at[i[0],'subject'] = '0' + i[1].subject\n",
    "\n",
    "dfPCL = dfPCL.drop(\"Identifier\", axis=1)\n",
    "dfPCL.head()"
   ]
  },
  {
   "cell_type": "code",
   "execution_count": 115,
   "metadata": {},
   "outputs": [],
   "source": [
    "dfpcl_amg = pd.merge(dfPCL, amg_ud)\n",
    "dfpcl_amg['pcl_An'] = dfpcl_amg['PCL_8'] + dfpcl_amg['PCL_9'] + dfpcl_amg['PCL_10']+dfpcl_amg['PCL_11'] + dfpcl_amg['PCL_12']# = dfpcl_amg[dfpcl_amg.group.isin(groups)]"
   ]
  },
  {
   "cell_type": "code",
   "execution_count": 116,
   "metadata": {},
   "outputs": [
    {
     "data": {
      "text/plain": [
       "<seaborn.axisgrid.FacetGrid at 0x7f3b1f449c90>"
      ]
     },
     "execution_count": 116,
     "metadata": {},
     "output_type": "execute_result"
    },
    {
     "data": {
      "image/png": "[encoded data removed]",
      "text/plain": [
       "<Figure size 360x360 with 1 Axes>"
      ]
     },
     "metadata": {
      "needs_background": "light"
     },
     "output_type": "display_data"
    }
   ],
   "source": [
    "sns.displot(dfpcl_amg.pcl_An)"
   ]
  },
  {
   "cell_type": "markdown",
   "metadata": {},
   "source": [
    "## Use function to get both R and CI\n",
    " - consider using pyStan for that also"
   ]
  },
  {
   "cell_type": "code",
   "execution_count": 117,
   "metadata": {},
   "outputs": [],
   "source": [
    "def pearsonr_ci(x,y,alpha=0.05):\n",
    "    from scipy import stats\n",
    "    ''' calculate Pearson correlation along with the confidence interval using scipy and numpy\n",
    "    Parameters\n",
    "    ----------\n",
    "    x, y : iterable object such as a list or np.array\n",
    "      Input for correlation calculation\n",
    "    alpha : float\n",
    "      Significance level. 0.05 by default\n",
    "    Returns\n",
    "    -------\n",
    "    r : float\n",
    "      Pearson's correlation coefficient\n",
    "    pval : float\n",
    "      The corresponding p value\n",
    "    lo, hi : float\n",
    "      The lower and upper bound of confidence intervals\n",
    "    '''\n",
    "\n",
    "    r, p = stats.pearsonr(x,y)\n",
    "    r_z = np.arctanh(r)\n",
    "    se = 1/np.sqrt(x.size-3)\n",
    "    z = stats.norm.ppf(1-alpha/2)\n",
    "    lo_z, hi_z = r_z-z*se, r_z+z*se\n",
    "    lo, hi = np.tanh((lo_z, hi_z))\n",
    "    return r, p, lo, hi"
   ]
  },
  {
   "cell_type": "code",
   "execution_count": 118,
   "metadata": {},
   "outputs": [
    {
     "data": {
      "text/plain": [
       "(-0.2891642145325262,\n",
       " 0.07033871659343388,\n",
       " -0.5510375571823075,\n",
       " 0.02455718032387665)"
      ]
     },
     "execution_count": 118,
     "metadata": {},
     "output_type": "execute_result"
    }
   ],
   "source": [
    "## Correlation to two groups\n",
    "pearsonr_ci(dfpcl_amg['pcl_An'], dfpcl_amg['amygdala'])"
   ]
  },
  {
   "cell_type": "code",
   "execution_count": 119,
   "metadata": {},
   "outputs": [
    {
     "data": {
      "text/plain": [
       "(-0.2678884654193403,\n",
       " 0.2534878437959274,\n",
       " -0.6351183698604467,\n",
       " 0.19811851665575875)"
      ]
     },
     "execution_count": 119,
     "metadata": {},
     "output_type": "execute_result"
    }
   ],
   "source": [
    "## correlation only for PTSD group\n",
    "dfpcl_ptsd = dfpcl_amg[dfpcl_amg.group=='PTSD']\n",
    "pearsonr_ci(dfpcl_ptsd['pcl_An'], dfpcl_ptsd['amygdala'])"
   ]
  },
  {
   "cell_type": "code",
   "execution_count": 120,
   "metadata": {},
   "outputs": [
    {
     "data": {
      "text/plain": [
       "(0.02114977506637781,\n",
       " 0.9294762452085035,\n",
       " -0.4253519676025872,\n",
       " 0.45937120335867476)"
      ]
     },
     "execution_count": 120,
     "metadata": {},
     "output_type": "execute_result"
    }
   ],
   "source": [
    "## correlation only for Combat Controls group\n",
    "dfpcl_cc = dfpcl_amg[dfpcl_amg.group=='CC']\n",
    "pearsonr_ci(dfpcl_cc['pcl_An'], dfpcl_cc['amygdala'])"
   ]
  },
  {
   "cell_type": "code",
   "execution_count": 121,
   "metadata": {},
   "outputs": [
    {
     "name": "stderr",
     "output_type": "stream",
     "text": [
      "/home/or/miniconda3/envs/neuroAnalysis/lib/python3.7/site-packages/seaborn/_decorators.py:43: FutureWarning: Pass the following variables as keyword args: x, y. From version 0.12, the only valid positional argument will be `data`, and passing other arguments without an explicit keyword will result in an error or misinterpretation.\n",
      "  FutureWarning\n"
     ]
    },
    {
     "data": {
      "text/plain": [
       "<seaborn.axisgrid.FacetGrid at 0x7f3b1ef9c9d0>"
      ]
     },
     "execution_count": 121,
     "metadata": {},
     "output_type": "execute_result"
    },
    {
     "data": {
      "image/png": "[encoded data removed]",
      "text/plain": [
       "<Figure size 422x360 with 1 Axes>"
      ]
     },
     "metadata": {
      "needs_background": "light"
     },
     "output_type": "display_data"
    }
   ],
   "source": [
    "sns.lmplot('pcl_An', 'amygdala',hue='group', data=dfpcl_amg)"
   ]
  },
  {
   "cell_type": "markdown",
   "metadata": {},
   "source": [
    "## generate publication plots"
   ]
  },
  {
   "cell_type": "code",
   "execution_count": 19,
   "metadata": {},
   "outputs": [
    {
     "data": {
      "image/png": "[encoded data removed]",
      "text/plain": [
       "<Figure size 500x400 with 2 Axes>"
      ]
     },
     "execution_count": 19,
     "metadata": {},
     "output_type": "execute_result"
    },
    {
     "data": {
      "image/png": "[encoded data removed]",
      "text/plain": [
       "<Figure size 500x400 with 2 Axes>"
      ]
     },
     "metadata": {
      "needs_background": "light"
     },
     "output_type": "display_data"
    }
   ],
   "source": [
    "import dabest\n",
    "groups = [\"CC\", \"PTSD\"]\n",
    "dgr = amg_ud[amg_ud.group.isin(groups)]\n",
    "\n",
    "# load our data to dabest to produce graphs\n",
    "dgr = dgr.rename(columns={\"amygdala\": \"Amygdala activation CS+US minus CS+\", \"group\": \"Group\"})\n",
    "dgr_dabest = dabest.load(data=dgr, x='Group', y='Amygdala activation CS+US minus CS+', idx=('CC','PTSD'), ci=90)\n",
    "dgr_dabest.mean_diff.plot()"
   ]
  },
  {
   "cell_type": "code",
   "execution_count": 122,
   "metadata": {},
   "outputs": [
    {
     "data": {
      "image/png": "[encoded data removed]",
      "text/plain": [
       "<Figure size 422x360 with 1 Axes>"
      ]
     },
     "metadata": {
      "needs_background": "light"
     },
     "output_type": "display_data"
    }
   ],
   "source": [
    "#fgrid = sns.lmplot(x='Anhedonia PCL5', y='Amygdala activation CS+US minus CS+',hue='group', data=dfpcl_amg, ci = None)\n",
    "               #legend_out = True)\n",
    "fgrid = sns.lmplot(x='pcl_An', y='amygdala',hue='group', data=dfpcl_amg,\n",
    "                   ci = None, scatter_kws= {'alpha': 0.6}, line_kws={'alpha': 0.7})   \n",
    "# need to add annotation- because its like facet grid we need to set each axis\n",
    "\n",
    "ax1 = fgrid.axes[0,0]\n",
    "ax1.set_xlim(4,23)\n",
    "#Set labels of x and y axis\n",
    "fgrid.set(xlabel='Anhedonia PCL-C', ylabel='Amygdala activation CS+US minus CS+')\n",
    "ax1.text(12, .3, \"r=-0.26, n.s.\", horizontalalignment='left', size='large', color='black')#, weight='semibold')\n",
    "ax1.text(8, .5, \"r=0.02, n.s\", horizontalalignment='left', size='large', color='black')#, weight='semibold')\n",
    "\n",
    "fgrid._legend.set_title('')\n",
    "#ax.annotate(\"An annotation\")#, horizontalalignment='left', size='medium', color='black', weight='semibold')\n"
   ]
  },
  {
   "cell_type": "code",
   "execution_count": 123,
   "metadata": {},
   "outputs": [
    {
     "data": {
      "text/plain": [
       "Text(12, 0.3, 'r=-0.27, p=0.08.')"
      ]
     },
     "execution_count": 123,
     "metadata": {},
     "output_type": "execute_result"
    },
    {
     "data": {
      "image/png": "[encoded data removed]",
      "text/plain": [
       "<Figure size 360x360 with 1 Axes>"
      ]
     },
     "metadata": {
      "needs_background": "light"
     },
     "output_type": "display_data"
    }
   ],
   "source": [
    "               #legend_out = True)\n",
    "fgrid = sns.lmplot(x='pcl_An', y='amygdala', data=dfpcl_amg,\n",
    "                   ci = None, scatter_kws= {'alpha': 0.6}, line_kws={'alpha': 0.7})   \n",
    "# need to add annotation- because its like facet grid we need to set each axis\n",
    "\n",
    "ax1 = fgrid.axes[0,0]\n",
    "ax1.set_xlim(4,23)\n",
    "#Set labels of x and y axis\n",
    "fgrid.set(xlabel='Anhedonia PCL-C', ylabel='Amygdala activation CS+US minus CS+')\n",
    "ax1.text(12, .3, \"r=-0.27, p=0.08.\", horizontalalignment='left', size='large', color='black')#, weight='semibold')"
   ]
  },
  {
   "cell_type": "code",
   "execution_count": 124,
   "metadata": {},
   "outputs": [
    {
     "data": {
      "text/plain": [
       "(-5.036395864354372, 13.389522063109442, -9.53243487264397, 0.0)"
      ]
     },
     "execution_count": 124,
     "metadata": {},
     "output_type": "execute_result"
    }
   ],
   "source": [
    "# Rubost regression\n",
    "rub = scipy.stats.theilslopes(y=dfpcl_amg.pcl_An.values, x=dfpcl_amg.amygdala.values, alpha=0.9)\n",
    "rub"
   ]
  },
  {
   "cell_type": "code",
   "execution_count": 134,
   "metadata": {},
   "outputs": [
    {
     "name": "stderr",
     "output_type": "stream",
     "text": [
      "/home/or/miniconda3/envs/neuroAnalysis/lib/python3.7/site-packages/seaborn/_decorators.py:43: FutureWarning: Pass the following variables as keyword args: x, y. From version 0.12, the only valid positional argument will be `data`, and passing other arguments without an explicit keyword will result in an error or misinterpretation.\n",
      "  FutureWarning\n"
     ]
    },
    {
     "data": {
      "text/plain": [
       "[Text(0, 0.5, 'Anhedonia PCL-C'),\n",
       " Text(0.5, 0, 'Amygdala activation CS+US minus CS+')]"
      ]
     },
     "execution_count": 134,
     "metadata": {},
     "output_type": "execute_result"
    },
    {
     "data": {
      "image/png": "[encoded data removed]",
      "text/plain": [
       "<Figure size 360x288 with 1 Axes>"
      ]
     },
     "metadata": {
      "needs_background": "light"
     },
     "output_type": "display_data"
    }
   ],
   "source": [
    "# plot a line based on the robust regression\n",
    "plt.figure(figsize=(5,4))\n",
    "line = rub[1] + rub[0]*dfpcl_amg.amygdala\n",
    "fgrid = sns.scatterplot(y='pcl_An', x='amygdala',data=dfpcl_amg, alpha=0.8)\n",
    "#plt.plot(dfpcl_amg.amygdala, line)#,alpha = 0.8)\n",
    "sns.lineplot(dfpcl_amg.amygdala, line)\n",
    "fgrid.set(ylabel='Anhedonia PCL-C', xlabel='Amygdala activation CS+US minus CS+')"
   ]
  },
  {
   "cell_type": "markdown",
   "metadata": {},
   "source": [
    "## Robust regression with Stan\n",
    "- Using student t instead of normal distribution"
   ]
  },
  {
   "cell_type": "code",
   "execution_count": 44,
   "metadata": {},
   "outputs": [],
   "source": [
    "data =  {'N': len(dfpcl_amg), 'x': dfpcl_amg['amygdala'].values, 'y': dfpcl_amg['pcl_An'].values}\n",
    "sm_robust = cmdstanpy.CmdStanModel(stan_file='Stan_model/robust_reg.stan')\n"
   ]
  },
  {
   "cell_type": "code",
   "execution_count": 45,
   "metadata": {},
   "outputs": [],
   "source": [
    "fit_robust_reg = sm_robust.sample(\n",
    "  data = data,\n",
    "  chains = 4,\n",
    "  iter_warmup = 1000,\n",
    "  iter_sampling = 1000,\n",
    "  adapt_delta = .9,\n",
    "  #inits = 0.2,\n",
    ")"
   ]
  },
  {
   "cell_type": "code",
   "execution_count": 89,
   "metadata": {},
   "outputs": [
    {
     "name": "stdout",
     "output_type": "stream",
     "text": [
      "| name   |   Mean |   MCSE |   StdDev |     5% |   50% |    95% |   N_Eff |   N_Eff/s |   R_hat |\n",
      "|:-------|-------:|-------:|---------:|-------:|------:|-------:|--------:|----------:|--------:|\n",
      "| lp__   |  -97   |  0.045 |     1.5  | -100   | -96   | -95    |    1200 |      7200 |       1 |\n",
      "| alpha  |   13   |  0.031 |     1.2  |   11   |  13   |  15    |    1600 |      9500 |       1 |\n",
      "| beta   |   -4.7 |  0.073 |     2.8  |   -9.3 |  -4.8 |  -0.11 |    1500 |      8800 |       1 |\n",
      "| sigma  |    4.9 |  0.016 |     0.65 |    4   |   4.9 |   6.1  |    1700 |     10000 |       1 |\n",
      "| nu     |   24   |  0.46  |    15    |    7.2 |  21   |  53    |    1000 |      6200 |       1 |\n"
     ]
    }
   ],
   "source": [
    "print(fit_robust_reg.summary().to_markdown())"
   ]
  },
  {
   "cell_type": "code",
   "execution_count": 83,
   "metadata": {},
   "outputs": [
    {
     "data": {
      "image/png": "[encoded data removed]",
      "text/plain": [
       "<Figure size 576x288 with 1 Axes>"
      ]
     },
     "metadata": {
      "needs_background": "light"
     },
     "output_type": "display_data"
    }
   ],
   "source": [
    "## Create a table\n",
    "df_fit = fit_robust_reg.summary()\n",
    "plt.rcParams[\"figure.figsize\"] = [8, 4]\n",
    "fig, ax =plt.subplots(1,1)\n",
    "ax.axis('tight')\n",
    "ax.axis('off')\n",
    "the_table = ax.table(cellText=df_fit.values,colLabels=df_fit.columns,\n",
    "         rowLabels=[\"lp_\",\"alpha\",\"beta\", \"sigma\", \"nu\"],loc=\"center\")\n",
    "the_table.auto_set_font_size(False)\n",
    "the_table.set_fontsize(10)"
   ]
  },
  {
   "cell_type": "markdown",
   "metadata": {},
   "source": [
    "Comparing groups in mean SCR response"
   ]
  },
  {
   "cell_type": "markdown",
   "metadata": {},
   "source": [
    "## Behavior comparison - Anhedonia, PCL and CAPS"
   ]
  },
  {
   "cell_type": "code",
   "execution_count": null,
   "metadata": {},
   "outputs": [],
   "source": [
    "## PCL Anhedonia\n",
    "print(f'CC group mean {dfpcl_cc.pcl_An.mean()} and std {dfpcl_cc.pcl_An.std()}')\n",
    "print(f'PTSD group mean {dfpcl_ptsd.pcl_An.mean()} and std {dfpcl_ptsd.pcl_An.std()}')\n",
    "scipy.stats.ttest_ind(dfpcl_amg.pcl_An[dfpcl_amg.group=='PTSD'], dfpcl_amg.pcl_An[dfpcl_amg.group=='CC'])"
   ]
  },
  {
   "cell_type": "code",
   "execution_count": null,
   "metadata": {},
   "outputs": [],
   "source": [
    "## PCL total\n",
    "print(f'CC group mean {dfpcl_cc.pcl_total.mean()} and std {dfpcl_cc.pcl_total.std()}')\n",
    "print(f'PTSD group mean {dfpcl_ptsd.pcl_total.mean()} and std {dfpcl_ptsd.pcl_total.std()}')\n",
    "scipy.stats.ttest_ind(dfpcl_amg.pcl_total[dfpcl_amg.group=='PTSD'], dfpcl_amg.pcl_total[dfpcl_amg.group=='CC'])"
   ]
  },
  {
   "cell_type": "code",
   "execution_count": null,
   "metadata": {},
   "outputs": [],
   "source": [
    "## CAPS\n",
    "capsDF = pd.read_csv('CAPSScores.csv')\n",
    "#capsDF = capsDF.rename(columns={\"subject_id\": \"subject\"})\n",
    "for i in capsDF.iterrows():\n",
    "    \n",
    "    try:\n",
    "        sub = i[1].subject.split('RCF')[1]\n",
    "        capsDF.at[i[0], 'subject'] = sub\n",
    "    except:\n",
    "        print('no')"
   ]
  },
  {
   "cell_type": "code",
   "execution_count": null,
   "metadata": {},
   "outputs": [],
   "source": [
    "capsD = pd.merge(capsDF, amg_ud )"
   ]
  },
  {
   "cell_type": "code",
   "execution_count": null,
   "metadata": {},
   "outputs": [],
   "source": [
    "## PCL total\n",
    "#print(f'CC group mean {} and std {capsD.caps_totalscorel[capsD.group=='CC'].std()}')\n",
    "#print(f'PTSD group mean {capsD.caps_totalscorel.mean()} and std {capsD.caps_totalscorel.std()}')\n",
    "scipy.stats.ttest_ind(capsD.caps_totalscorel[capsD.group=='PTSD'], capsD.caps_totalscorel[capsD.group=='CC'])"
   ]
  },
  {
   "cell_type": "code",
   "execution_count": null,
   "metadata": {},
   "outputs": [],
   "source": [
    "print(capsD.caps_totalscorel[capsD.group=='CC'].mean())\n",
    "print(capsD.caps_totalscorel[capsD.group=='CC'].std())"
   ]
  },
  {
   "cell_type": "code",
   "execution_count": null,
   "metadata": {},
   "outputs": [],
   "source": [
    "print(capsD.caps_totalscorem[capsD.group=='CC'].mean())\n",
    "print(capsD.caps_totalscorem[capsD.group=='CC'].std())"
   ]
  },
  {
   "cell_type": "code",
   "execution_count": null,
   "metadata": {},
   "outputs": [],
   "source": [
    "scipy.stats.ttest_ind(capsD.caps_totalscorem[capsD.group=='PTSD'], capsD.caps_totalscorem[capsD.group=='CC'])"
   ]
  },
  {
   "cell_type": "markdown",
   "metadata": {},
   "source": [
    "## Bayes factor - \n",
    "- We use rpy2 to call for the R package BayesFactor\n",
    "- Entering the simple T test to get the BF"
   ]
  },
  {
   "cell_type": "code",
   "execution_count": null,
   "metadata": {},
   "outputs": [],
   "source": [
    "from rpy2.robjects.packages import importr\n",
    "bf = importr(\"BayesFactor\")"
   ]
  },
  {
   "cell_type": "code",
   "execution_count": null,
   "metadata": {},
   "outputs": [],
   "source": [
    "# Calculate SCR response\n",
    "a = bf.ttest_tstat(t=1.07, n1=18, n2=19)"
   ]
  },
  {
   "cell_type": "code",
   "execution_count": null,
   "metadata": {},
   "outputs": [],
   "source": [
    "1/np.exp(a[0])"
   ]
  },
  {
   "cell_type": "code",
   "execution_count": null,
   "metadata": {},
   "outputs": [],
   "source": [
    "# calculate shock levels\n",
    "1/np.exp(bf.ttest_tstat(t=0.42, n1=16, n2=14)[0])"
   ]
  },
  {
   "cell_type": "code",
   "execution_count": null,
   "metadata": {},
   "outputs": [],
   "source": [
    "# calculate CAPS lifetime\n",
    "1/np.exp(bf.ttest_tstat(t=12.46, n1=18, n2=19)[0])"
   ]
  },
  {
   "cell_type": "code",
   "execution_count": null,
   "metadata": {},
   "outputs": [],
   "source": [
    "# calculate CAPS last month\n",
    "1/np.exp(bf.ttest_tstat(t=12.51, n1=18, n2=19)[0])"
   ]
  },
  {
   "cell_type": "code",
   "execution_count": null,
   "metadata": {},
   "outputs": [],
   "source": [
    "# calculate PCL anhedonia\n",
    "1/np.exp(bf.ttest_tstat(t=4.5, n1=18, n2=19)[0])"
   ]
  },
  {
   "cell_type": "code",
   "execution_count": null,
   "metadata": {},
   "outputs": [],
   "source": [
    "# calculate PCL total\n",
    "1/np.exp(bf.ttest_tstat(t=5.16, n1=18, n2=19)[0])"
   ]
  },
  {
   "cell_type": "code",
   "execution_count": null,
   "metadata": {},
   "outputs": [],
   "source": [
    "# calculate Age\n",
    "1/np.exp(bf.ttest_tstat(t=0.92, n1=18, n2=19)[0])"
   ]
  },
  {
   "cell_type": "markdown",
   "metadata": {},
   "source": [
    "## compare if there's significant difference between correlations of CC and PTSD with anhedonia"
   ]
  },
  {
   "cell_type": "code",
   "execution_count": null,
   "metadata": {},
   "outputs": [],
   "source": [
    "from corrstats import independent_corr\n",
    "checkCorr = independent_corr(-0.57, 0.08, n=18, n2 = 19, twotailed=True,\n",
    "                             conf_level=0.95, method='fisher')\n",
    "print(f'Correlation difference between CC and PTSD with anhedonia is {checkCorr}')"
   ]
  },
  {
   "cell_type": "code",
   "execution_count": null,
   "metadata": {},
   "outputs": [],
   "source": [
    "# save amygdala and other file as csv\n",
    "#dfpcl_amg.to_csv('amygdala_pcl_RCF.csv', index=False)"
   ]
  },
  {
   "cell_type": "markdown",
   "metadata": {},
   "source": [
    "## Robust regression"
   ]
  },
  {
   "cell_type": "code",
   "execution_count": null,
   "metadata": {},
   "outputs": [],
   "source": [
    "X = dfpcl_amg.amygdala.values#.reshape(-1,1)\n",
    "y = dfpcl_amg.pcl_An.values#.reshape(-1,1)"
   ]
  },
  {
   "cell_type": "code",
   "execution_count": null,
   "metadata": {},
   "outputs": [],
   "source": [
    "scipy.stats.theilslopes(y, X)"
   ]
  },
  {
   "cell_type": "code",
   "execution_count": null,
   "metadata": {},
   "outputs": [],
   "source": [
    "print(f'PTSD {scipy.stats.theilslopes(dfpcl_ptsd.pcl_An, dfpcl_ptsd.amygdala)}')\n",
    "print(f'CC {(scipy.stats.theilslopes(dfpcl_cc.pcl_An, dfpcl_cc.amygdala))}')"
   ]
  },
  {
   "cell_type": "code",
   "execution_count": null,
   "metadata": {},
   "outputs": [],
   "source": [
    "# linear regression\n",
    "scipy.stats.linregress(dfpcl_cc.amygdala, dfpcl_cc.pcl_An)"
   ]
  }
 ],
 "metadata": {
  "kernelspec": {
   "display_name": "Python 3",
   "language": "python",
   "name": "python3"
  },
  "language_info": {
   "codemirror_mode": {
    "name": "ipython",
    "version": 3
   },
   "file_extension": ".py",
   "mimetype": "text/x-python",
   "name": "python",
   "nbconvert_exporter": "python",
   "pygments_lexer": "ipython3",
   "version": "3.7.7"
  }
 },
 "nbformat": 4,
 "nbformat_minor": 4
}

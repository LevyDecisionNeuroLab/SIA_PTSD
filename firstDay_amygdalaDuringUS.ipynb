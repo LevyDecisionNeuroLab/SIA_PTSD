{
 "cells": [
  {
   "cell_type": "markdown",
   "metadata": {},
   "source": [
    "## Analysis of 1st day in the RCF study\n",
    "Checking amygdala activation in the CS+US condition of the task\n",
    "- masking amygdala\n",
    "- avergaing activation\n",
    "- plot"
   ]
  },
  {
   "cell_type": "code",
   "execution_count": 1,
   "metadata": {},
   "outputs": [
    {
     "name": "stderr",
     "output_type": "stream",
     "text": [
      "/home/or/miniconda3/envs/neuroAnalysis/lib/python3.7/site-packages/nilearn/datasets/__init__.py:89: FutureWarning: Fetchers from the nilearn.datasets module will be updated in version 0.9 to return python strings instead of bytes and Pandas dataframes instead of Numpy arrays.\n",
      "  \"Numpy arrays.\", FutureWarning)\n"
     ]
    }
   ],
   "source": [
    "# load libraries\n",
    "import glob\n",
    "import pandas as pd\n",
    "import numpy as np\n",
    "import nilearn\n",
    "import nilearn.plotting\n",
    "import nilearn.input_data\n",
    "import matplotlib.pyplot as plt\n",
    "import seaborn as sns\n",
    "import scipy\n",
    "import cmdstanpy"
   ]
  },
  {
   "cell_type": "code",
   "execution_count": 2,
   "metadata": {},
   "outputs": [
    {
     "data": {
      "text/plain": [
       "37"
      ]
     },
     "execution_count": 2,
     "metadata": {},
     "output_type": "execute_result"
    }
   ],
   "source": [
    "## Screening subjects by SCR as Nachshon analyzed - 67% as US:\n",
    "subject_list = ['029','040','1074','1205','1223','1237','1245','1247',\n",
    "               '1280','1301','1337','1350','1359','1374','1392','020',\n",
    "               '1072','1099','1206','1212','1216','1258','1266','1268',\n",
    "               '1320','1340','1345','1346','1362','1379','1393','1457','1460',\n",
    "               '1373','1272','1291','1309'] # '1269','1271','1319', '1220','1376',\n",
    "len(subject_list)"
   ]
  },
  {
   "cell_type": "code",
   "execution_count": 3,
   "metadata": {},
   "outputs": [
    {
     "name": "stderr",
     "output_type": "stream",
     "text": [
      "/home/or/miniconda3/envs/neuroAnalysis/lib/python3.7/site-packages/nilearn/_utils/helpers.py:145: FutureWarning: The parameter \"sessions\" will be removed in 0.9.0 release of Nilearn. Please use the parameter \"runs\" instead.\n",
      "  return func(*args, **kwargs)\n"
     ]
    },
    {
     "data": {
      "image/png": "[encoded data removed]",
      "text/plain": [
       "<Figure size 475.2x187.2 with 4 Axes>"
      ]
     },
     "metadata": {},
     "output_type": "display_data"
    }
   ],
   "source": [
    "# load mask\n",
    "mask_file = 'amygdala_association-test_z_FDR_0.01.nii.gz'\n",
    "mask_file = nilearn.image.math_img(\"a>=20\", a=mask_file)\n",
    "%matplotlib inline\n",
    "nilearn.plotting.plot_roi(mask_file)\n",
    "\n",
    "# create a masker \n",
    "fwhm = 4\n",
    "masker = nilearn.input_data.NiftiMasker(mask_img=mask_file, \n",
    "                               sessions=None, smoothing_fwhm=fwhm, standardize=False, \n",
    "                                        detrend=False, verbose=5)"
   ]
  },
  {
   "cell_type": "code",
   "execution_count": 58,
   "metadata": {},
   "outputs": [],
   "source": [
    "#us_cond = '/media/Data/work/RCF_FSLNoScrub/Sink_respNOScrub/1stLevel/_subject_id_{sub}/_modelestimate0/results/cope{cope_num}.nii.gz'\n",
    "us_cond = '/media/Data/work/RCF_FSLNoScrub/Sink_respNOScrub/1stLevel/_subject_id_{sub}/_modelestimate0/results/zstat{cope_num}.nii.gz'\n",
    "cope_num =  4#taking shock vs. noshock\n"
   ]
  },
  {
   "cell_type": "code",
   "execution_count": 59,
   "metadata": {
    "scrolled": true
   },
   "outputs": [
    {
     "name": "stdout",
     "output_type": "stream",
     "text": [
      "/media/Data/work/RCF_FSLNoScrub/Sink_respNOScrub/1stLevel/_subject_id_029/_modelestimate0/results/zstat4.nii.gz\n",
      "029\n",
      "\n",
      "Finished 2.7027027027027026% of subjects\n",
      "[NiftiMasker.fit] Loading data from None\n",
      "[NiftiMasker.fit] Resampling mask\n",
      "[NiftiMasker.transform_single_imgs] Loading data from Nifti1Image(\n",
      "shape=(97, 115, 97, 1),\n",
      "affine=array([[   2. ,    0. ,    0. ,  -96.5],\n",
      "       [   0. ,    2. ,    0. , -132.5],\n",
      "       [   0. ,    0. ,    2. ,  -78.5],\n",
      "       [   0. ,    0. ,    0. ,    1. ]])\n",
      ")\n",
      "[NiftiMasker.transform_single_imgs] Resampling images\n",
      "[NiftiMasker.transform_single_imgs] Smoothing images\n",
      "[NiftiMasker.transform_single_imgs] Extracting region signals\n",
      "[NiftiMasker.transform_single_imgs] Cleaning extracted signals\n",
      "/media/Data/work/RCF_FSLNoScrub/Sink_respNOScrub/1stLevel/_subject_id_040/_modelestimate0/results/zstat4.nii.gz\n",
      "040\n",
      "\n",
      "Finished 5.405405405405405% of subjects\n",
      "[NiftiMasker.fit] Loading data from None\n",
      "[NiftiMasker.fit] Resampling mask\n",
      "[NiftiMasker.transform_single_imgs] Loading data from Nifti1Image(\n",
      "shape=(97, 115, 97, 1),\n",
      "affine=array([[   2. ,    0. ,    0. ,  -96.5],\n",
      "       [   0. ,    2. ,    0. , -132.5],\n",
      "       [   0. ,    0. ,    2. ,  -78.5],\n",
      "       [   0. ,    0. ,    0. ,    1. ]])\n",
      ")\n",
      "[NiftiMasker.transform_single_imgs] Resampling images\n",
      "[NiftiMasker.transform_single_imgs] Smoothing images\n",
      "[NiftiMasker.transform_single_imgs] Extracting region signals\n",
      "[NiftiMasker.transform_single_imgs] Cleaning extracted signals\n",
      "/media/Data/work/RCF_FSLNoScrub/Sink_respNOScrub/1stLevel/_subject_id_1074/_modelestimate0/results/zstat4.nii.gz\n",
      "1074\n",
      "\n",
      "Finished 8.108108108108109% of subjects\n",
      "[NiftiMasker.fit] Loading data from None\n",
      "[NiftiMasker.fit] Resampling mask\n",
      "[NiftiMasker.transform_single_imgs] Loading data from Nifti1Image(\n",
      "shape=(97, 115, 97, 1),\n",
      "affine=array([[   2. ,    0. ,    0. ,  -96.5],\n",
      "       [   0. ,    2. ,    0. , -132.5],\n",
      "       [   0. ,    0. ,    2. ,  -78.5],\n",
      "       [   0. ,    0. ,    0. ,    1. ]])\n",
      ")\n",
      "[NiftiMasker.transform_single_imgs] Resampling images\n",
      "[NiftiMasker.transform_single_imgs] Smoothing images\n",
      "[NiftiMasker.transform_single_imgs] Extracting region signals\n",
      "[NiftiMasker.transform_single_imgs] Cleaning extracted signals\n",
      "/media/Data/work/RCF_FSLNoScrub/Sink_respNOScrub/1stLevel/_subject_id_1205/_modelestimate0/results/zstat4.nii.gz\n",
      "1205\n",
      "\n",
      "Finished 10.81081081081081% of subjects\n",
      "[NiftiMasker.fit] Loading data from None\n",
      "[NiftiMasker.fit] Resampling mask\n",
      "[NiftiMasker.transform_single_imgs] Loading data from Nifti1Image(\n",
      "shape=(97, 115, 97, 1),\n",
      "affine=array([[   2. ,    0. ,    0. ,  -96.5],\n",
      "       [   0. ,    2. ,    0. , -132.5],\n",
      "       [   0. ,    0. ,    2. ,  -78.5],\n",
      "       [   0. ,    0. ,    0. ,    1. ]])\n",
      ")\n",
      "[NiftiMasker.transform_single_imgs] Resampling images\n",
      "[NiftiMasker.transform_single_imgs] Smoothing images\n",
      "[NiftiMasker.transform_single_imgs] Extracting region signals\n",
      "[NiftiMasker.transform_single_imgs] Cleaning extracted signals\n",
      "/media/Data/work/RCF_FSLNoScrub/Sink_respNOScrub/1stLevel/_subject_id_1223/_modelestimate0/results/zstat4.nii.gz\n",
      "1223\n",
      "\n",
      "Finished 13.513513513513514% of subjects\n",
      "[NiftiMasker.fit] Loading data from None\n",
      "[NiftiMasker.fit] Resampling mask\n",
      "[NiftiMasker.transform_single_imgs] Loading data from Nifti1Image(\n",
      "shape=(97, 115, 97, 1),\n",
      "affine=array([[   2. ,    0. ,    0. ,  -96.5],\n",
      "       [   0. ,    2. ,    0. , -132.5],\n",
      "       [   0. ,    0. ,    2. ,  -78.5],\n",
      "       [   0. ,    0. ,    0. ,    1. ]])\n",
      ")\n",
      "[NiftiMasker.transform_single_imgs] Resampling images\n",
      "[NiftiMasker.transform_single_imgs] Smoothing images\n",
      "[NiftiMasker.transform_single_imgs] Extracting region signals\n",
      "[NiftiMasker.transform_single_imgs] Cleaning extracted signals\n",
      "/media/Data/work/RCF_FSLNoScrub/Sink_respNOScrub/1stLevel/_subject_id_1237/_modelestimate0/results/zstat4.nii.gz\n",
      "1237\n",
      "\n",
      "Finished 16.216216216216218% of subjects\n",
      "[NiftiMasker.fit] Loading data from None\n",
      "[NiftiMasker.fit] Resampling mask\n",
      "[NiftiMasker.transform_single_imgs] Loading data from Nifti1Image(\n",
      "shape=(97, 115, 97, 1),\n",
      "affine=array([[   2. ,    0. ,    0. ,  -96.5],\n",
      "       [   0. ,    2. ,    0. , -132.5],\n",
      "       [   0. ,    0. ,    2. ,  -78.5],\n",
      "       [   0. ,    0. ,    0. ,    1. ]])\n",
      ")\n",
      "[NiftiMasker.transform_single_imgs] Resampling images\n",
      "[NiftiMasker.transform_single_imgs] Smoothing images\n",
      "[NiftiMasker.transform_single_imgs] Extracting region signals\n",
      "[NiftiMasker.transform_single_imgs] Cleaning extracted signals\n",
      "/media/Data/work/RCF_FSLNoScrub/Sink_respNOScrub/1stLevel/_subject_id_1245/_modelestimate0/results/zstat4.nii.gz\n",
      "1245\n",
      "\n",
      "Finished 18.91891891891892% of subjects\n",
      "[NiftiMasker.fit] Loading data from None\n",
      "[NiftiMasker.fit] Resampling mask\n",
      "[NiftiMasker.transform_single_imgs] Loading data from Nifti1Image(\n",
      "shape=(97, 115, 97, 1),\n",
      "affine=array([[   2. ,    0. ,    0. ,  -96.5],\n",
      "       [   0. ,    2. ,    0. , -132.5],\n",
      "       [   0. ,    0. ,    2. ,  -78.5],\n",
      "       [   0. ,    0. ,    0. ,    1. ]])\n",
      ")\n",
      "[NiftiMasker.transform_single_imgs] Resampling images\n",
      "[NiftiMasker.transform_single_imgs] Smoothing images\n",
      "[NiftiMasker.transform_single_imgs] Extracting region signals\n",
      "[NiftiMasker.transform_single_imgs] Cleaning extracted signals\n",
      "/media/Data/work/RCF_FSLNoScrub/Sink_respNOScrub/1stLevel/_subject_id_1247/_modelestimate0/results/zstat4.nii.gz\n",
      "1247\n",
      "\n",
      "Finished 21.62162162162162% of subjects\n",
      "[NiftiMasker.fit] Loading data from None\n",
      "[NiftiMasker.fit] Resampling mask\n",
      "[NiftiMasker.transform_single_imgs] Loading data from Nifti1Image(\n",
      "shape=(97, 115, 97, 1),\n",
      "affine=array([[   2. ,    0. ,    0. ,  -96.5],\n",
      "       [   0. ,    2. ,    0. , -132.5],\n",
      "       [   0. ,    0. ,    2. ,  -78.5],\n",
      "       [   0. ,    0. ,    0. ,    1. ]])\n",
      ")\n",
      "[NiftiMasker.transform_single_imgs] Resampling images\n",
      "[NiftiMasker.transform_single_imgs] Smoothing images\n",
      "[NiftiMasker.transform_single_imgs] Extracting region signals\n",
      "[NiftiMasker.transform_single_imgs] Cleaning extracted signals\n",
      "/media/Data/work/RCF_FSLNoScrub/Sink_respNOScrub/1stLevel/_subject_id_1280/_modelestimate0/results/zstat4.nii.gz\n",
      "1280\n",
      "\n",
      "Finished 24.324324324324326% of subjects\n",
      "[NiftiMasker.fit] Loading data from None\n",
      "[NiftiMasker.fit] Resampling mask\n",
      "[NiftiMasker.transform_single_imgs] Loading data from Nifti1Image(\n",
      "shape=(97, 115, 97, 1),\n",
      "affine=array([[   2. ,    0. ,    0. ,  -96.5],\n",
      "       [   0. ,    2. ,    0. , -132.5],\n",
      "       [   0. ,    0. ,    2. ,  -78.5],\n",
      "       [   0. ,    0. ,    0. ,    1. ]])\n",
      ")\n",
      "[NiftiMasker.transform_single_imgs] Resampling images\n",
      "[NiftiMasker.transform_single_imgs] Smoothing images\n",
      "[NiftiMasker.transform_single_imgs] Extracting region signals\n",
      "[NiftiMasker.transform_single_imgs] Cleaning extracted signals\n",
      "/media/Data/work/RCF_FSLNoScrub/Sink_respNOScrub/1stLevel/_subject_id_1301/_modelestimate0/results/zstat4.nii.gz\n",
      "1301\n",
      "\n",
      "Finished 27.027027027027028% of subjects\n",
      "[NiftiMasker.fit] Loading data from None\n",
      "[NiftiMasker.fit] Resampling mask\n",
      "[NiftiMasker.transform_single_imgs] Loading data from Nifti1Image(\n",
      "shape=(97, 115, 97, 1),\n",
      "affine=array([[   2. ,    0. ,    0. ,  -96.5],\n",
      "       [   0. ,    2. ,    0. , -132.5],\n",
      "       [   0. ,    0. ,    2. ,  -78.5],\n",
      "       [   0. ,    0. ,    0. ,    1. ]])\n",
      ")\n",
      "[NiftiMasker.transform_single_imgs] Resampling images\n",
      "[NiftiMasker.transform_single_imgs] Smoothing images\n",
      "[NiftiMasker.transform_single_imgs] Extracting region signals\n",
      "[NiftiMasker.transform_single_imgs] Cleaning extracted signals\n",
      "/media/Data/work/RCF_FSLNoScrub/Sink_respNOScrub/1stLevel/_subject_id_1337/_modelestimate0/results/zstat4.nii.gz\n",
      "1337\n",
      "\n",
      "Finished 29.72972972972973% of subjects\n",
      "[NiftiMasker.fit] Loading data from None\n",
      "[NiftiMasker.fit] Resampling mask\n",
      "[NiftiMasker.transform_single_imgs] Loading data from Nifti1Image(\n",
      "shape=(97, 115, 97, 1),\n",
      "affine=array([[   2. ,    0. ,    0. ,  -96.5],\n",
      "       [   0. ,    2. ,    0. , -132.5],\n",
      "       [   0. ,    0. ,    2. ,  -78.5],\n",
      "       [   0. ,    0. ,    0. ,    1. ]])\n",
      ")\n",
      "[NiftiMasker.transform_single_imgs] Resampling images\n",
      "[NiftiMasker.transform_single_imgs] Smoothing images\n",
      "[NiftiMasker.transform_single_imgs] Extracting region signals\n",
      "[NiftiMasker.transform_single_imgs] Cleaning extracted signals\n",
      "/media/Data/work/RCF_FSLNoScrub/Sink_respNOScrub/1stLevel/_subject_id_1350/_modelestimate0/results/zstat4.nii.gz\n",
      "1350\n",
      "\n",
      "Finished 32.432432432432435% of subjects\n",
      "[NiftiMasker.fit] Loading data from None\n",
      "[NiftiMasker.fit] Resampling mask\n"
     ]
    },
    {
     "name": "stdout",
     "output_type": "stream",
     "text": [
      "[NiftiMasker.transform_single_imgs] Loading data from Nifti1Image(\n",
      "shape=(97, 115, 97, 1),\n",
      "affine=array([[   2. ,    0. ,    0. ,  -96.5],\n",
      "       [   0. ,    2. ,    0. , -132.5],\n",
      "       [   0. ,    0. ,    2. ,  -78.5],\n",
      "       [   0. ,    0. ,    0. ,    1. ]])\n",
      ")\n",
      "[NiftiMasker.transform_single_imgs] Resampling images\n",
      "[NiftiMasker.transform_single_imgs] Smoothing images\n",
      "[NiftiMasker.transform_single_imgs] Extracting region signals\n",
      "[NiftiMasker.transform_single_imgs] Cleaning extracted signals\n",
      "/media/Data/work/RCF_FSLNoScrub/Sink_respNOScrub/1stLevel/_subject_id_1359/_modelestimate0/results/zstat4.nii.gz\n",
      "1359\n",
      "\n",
      "Finished 35.13513513513514% of subjects\n",
      "[NiftiMasker.fit] Loading data from None\n",
      "[NiftiMasker.fit] Resampling mask\n",
      "[NiftiMasker.transform_single_imgs] Loading data from Nifti1Image(\n",
      "shape=(97, 115, 97, 1),\n",
      "affine=array([[   2. ,    0. ,    0. ,  -96.5],\n",
      "       [   0. ,    2. ,    0. , -132.5],\n",
      "       [   0. ,    0. ,    2. ,  -78.5],\n",
      "       [   0. ,    0. ,    0. ,    1. ]])\n",
      ")\n",
      "[NiftiMasker.transform_single_imgs] Resampling images\n",
      "[NiftiMasker.transform_single_imgs] Smoothing images\n",
      "[NiftiMasker.transform_single_imgs] Extracting region signals\n",
      "[NiftiMasker.transform_single_imgs] Cleaning extracted signals\n",
      "/media/Data/work/RCF_FSLNoScrub/Sink_respNOScrub/1stLevel/_subject_id_1374/_modelestimate0/results/zstat4.nii.gz\n",
      "1374\n",
      "\n",
      "Finished 37.83783783783784% of subjects\n",
      "[NiftiMasker.fit] Loading data from None\n",
      "[NiftiMasker.fit] Resampling mask\n",
      "[NiftiMasker.transform_single_imgs] Loading data from Nifti1Image(\n",
      "shape=(97, 115, 97, 1),\n",
      "affine=array([[   2. ,    0. ,    0. ,  -96.5],\n",
      "       [   0. ,    2. ,    0. , -132.5],\n",
      "       [   0. ,    0. ,    2. ,  -78.5],\n",
      "       [   0. ,    0. ,    0. ,    1. ]])\n",
      ")\n",
      "[NiftiMasker.transform_single_imgs] Resampling images\n",
      "[NiftiMasker.transform_single_imgs] Smoothing images\n",
      "[NiftiMasker.transform_single_imgs] Extracting region signals\n",
      "[NiftiMasker.transform_single_imgs] Cleaning extracted signals\n",
      "/media/Data/work/RCF_FSLNoScrub/Sink_respNOScrub/1stLevel/_subject_id_1392/_modelestimate0/results/zstat4.nii.gz\n",
      "1392\n",
      "\n",
      "Finished 40.54054054054054% of subjects\n",
      "[NiftiMasker.fit] Loading data from None\n",
      "[NiftiMasker.fit] Resampling mask\n",
      "[NiftiMasker.transform_single_imgs] Loading data from Nifti1Image(\n",
      "shape=(97, 115, 97, 1),\n",
      "affine=array([[   2. ,    0. ,    0. ,  -96.5],\n",
      "       [   0. ,    2. ,    0. , -132.5],\n",
      "       [   0. ,    0. ,    2. ,  -78.5],\n",
      "       [   0. ,    0. ,    0. ,    1. ]])\n",
      ")\n",
      "[NiftiMasker.transform_single_imgs] Resampling images\n",
      "[NiftiMasker.transform_single_imgs] Smoothing images\n",
      "[NiftiMasker.transform_single_imgs] Extracting region signals\n",
      "[NiftiMasker.transform_single_imgs] Cleaning extracted signals\n",
      "/media/Data/work/RCF_FSLNoScrub/Sink_respNOScrub/1stLevel/_subject_id_020/_modelestimate0/results/zstat4.nii.gz\n",
      "020\n",
      "\n",
      "Finished 43.24324324324324% of subjects\n",
      "[NiftiMasker.fit] Loading data from None\n",
      "[NiftiMasker.fit] Resampling mask\n",
      "[NiftiMasker.transform_single_imgs] Loading data from Nifti1Image(\n",
      "shape=(97, 115, 97, 1),\n",
      "affine=array([[   2. ,    0. ,    0. ,  -96.5],\n",
      "       [   0. ,    2. ,    0. , -132.5],\n",
      "       [   0. ,    0. ,    2. ,  -78.5],\n",
      "       [   0. ,    0. ,    0. ,    1. ]])\n",
      ")\n",
      "[NiftiMasker.transform_single_imgs] Resampling images\n",
      "[NiftiMasker.transform_single_imgs] Smoothing images\n",
      "[NiftiMasker.transform_single_imgs] Extracting region signals\n",
      "[NiftiMasker.transform_single_imgs] Cleaning extracted signals\n",
      "/media/Data/work/RCF_FSLNoScrub/Sink_respNOScrub/1stLevel/_subject_id_1072/_modelestimate0/results/zstat4.nii.gz\n",
      "1072\n",
      "\n",
      "Finished 45.94594594594595% of subjects\n",
      "[NiftiMasker.fit] Loading data from None\n",
      "[NiftiMasker.fit] Resampling mask\n",
      "[NiftiMasker.transform_single_imgs] Loading data from Nifti1Image(\n",
      "shape=(97, 115, 97, 1),\n",
      "affine=array([[   2. ,    0. ,    0. ,  -96.5],\n",
      "       [   0. ,    2. ,    0. , -132.5],\n",
      "       [   0. ,    0. ,    2. ,  -78.5],\n",
      "       [   0. ,    0. ,    0. ,    1. ]])\n",
      ")\n",
      "[NiftiMasker.transform_single_imgs] Resampling images\n",
      "[NiftiMasker.transform_single_imgs] Smoothing images\n",
      "[NiftiMasker.transform_single_imgs] Extracting region signals\n",
      "[NiftiMasker.transform_single_imgs] Cleaning extracted signals\n",
      "/media/Data/work/RCF_FSLNoScrub/Sink_respNOScrub/1stLevel/_subject_id_1099/_modelestimate0/results/zstat4.nii.gz\n",
      "1099\n",
      "\n",
      "Finished 48.64864864864865% of subjects\n",
      "[NiftiMasker.fit] Loading data from None\n",
      "[NiftiMasker.fit] Resampling mask\n",
      "[NiftiMasker.transform_single_imgs] Loading data from Nifti1Image(\n",
      "shape=(97, 115, 97, 1),\n",
      "affine=array([[   2. ,    0. ,    0. ,  -96.5],\n",
      "       [   0. ,    2. ,    0. , -132.5],\n",
      "       [   0. ,    0. ,    2. ,  -78.5],\n",
      "       [   0. ,    0. ,    0. ,    1. ]])\n",
      ")\n",
      "[NiftiMasker.transform_single_imgs] Resampling images\n",
      "[NiftiMasker.transform_single_imgs] Smoothing images\n",
      "[NiftiMasker.transform_single_imgs] Extracting region signals\n",
      "[NiftiMasker.transform_single_imgs] Cleaning extracted signals\n",
      "/media/Data/work/RCF_FSLNoScrub/Sink_respNOScrub/1stLevel/_subject_id_1206/_modelestimate0/results/zstat4.nii.gz\n",
      "1206\n",
      "\n",
      "Finished 51.35135135135135% of subjects\n",
      "[NiftiMasker.fit] Loading data from None\n",
      "[NiftiMasker.fit] Resampling mask\n",
      "[NiftiMasker.transform_single_imgs] Loading data from Nifti1Image(\n",
      "shape=(97, 115, 97, 1),\n",
      "affine=array([[   2. ,    0. ,    0. ,  -96.5],\n",
      "       [   0. ,    2. ,    0. , -132.5],\n",
      "       [   0. ,    0. ,    2. ,  -78.5],\n",
      "       [   0. ,    0. ,    0. ,    1. ]])\n",
      ")\n",
      "[NiftiMasker.transform_single_imgs] Resampling images\n",
      "[NiftiMasker.transform_single_imgs] Smoothing images\n",
      "[NiftiMasker.transform_single_imgs] Extracting region signals\n",
      "[NiftiMasker.transform_single_imgs] Cleaning extracted signals\n",
      "/media/Data/work/RCF_FSLNoScrub/Sink_respNOScrub/1stLevel/_subject_id_1212/_modelestimate0/results/zstat4.nii.gz\n",
      "1212\n",
      "\n",
      "Finished 54.054054054054056% of subjects\n",
      "[NiftiMasker.fit] Loading data from None\n",
      "[NiftiMasker.fit] Resampling mask\n",
      "[NiftiMasker.transform_single_imgs] Loading data from Nifti1Image(\n",
      "shape=(97, 115, 97, 1),\n",
      "affine=array([[   2. ,    0. ,    0. ,  -96.5],\n",
      "       [   0. ,    2. ,    0. , -132.5],\n",
      "       [   0. ,    0. ,    2. ,  -78.5],\n",
      "       [   0. ,    0. ,    0. ,    1. ]])\n",
      ")\n",
      "[NiftiMasker.transform_single_imgs] Resampling images\n",
      "[NiftiMasker.transform_single_imgs] Smoothing images\n",
      "[NiftiMasker.transform_single_imgs] Extracting region signals\n",
      "[NiftiMasker.transform_single_imgs] Cleaning extracted signals\n",
      "/media/Data/work/RCF_FSLNoScrub/Sink_respNOScrub/1stLevel/_subject_id_1216/_modelestimate0/results/zstat4.nii.gz\n",
      "1216\n",
      "\n",
      "Finished 56.75675675675676% of subjects\n",
      "[NiftiMasker.fit] Loading data from None\n",
      "[NiftiMasker.fit] Resampling mask\n",
      "[NiftiMasker.transform_single_imgs] Loading data from Nifti1Image(\n",
      "shape=(97, 115, 97, 1),\n",
      "affine=array([[   2. ,    0. ,    0. ,  -96.5],\n",
      "       [   0. ,    2. ,    0. , -132.5],\n",
      "       [   0. ,    0. ,    2. ,  -78.5],\n",
      "       [   0. ,    0. ,    0. ,    1. ]])\n",
      ")\n",
      "[NiftiMasker.transform_single_imgs] Resampling images\n",
      "[NiftiMasker.transform_single_imgs] Smoothing images\n",
      "[NiftiMasker.transform_single_imgs] Extracting region signals\n",
      "[NiftiMasker.transform_single_imgs] Cleaning extracted signals\n",
      "/media/Data/work/RCF_FSLNoScrub/Sink_respNOScrub/1stLevel/_subject_id_1258/_modelestimate0/results/zstat4.nii.gz\n",
      "1258\n",
      "\n",
      "Finished 59.45945945945946% of subjects\n",
      "[NiftiMasker.fit] Loading data from None\n",
      "[NiftiMasker.fit] Resampling mask\n",
      "[NiftiMasker.transform_single_imgs] Loading data from Nifti1Image(\n",
      "shape=(97, 115, 97, 1),\n",
      "affine=array([[   2. ,    0. ,    0. ,  -96.5],\n",
      "       [   0. ,    2. ,    0. , -132.5],\n",
      "       [   0. ,    0. ,    2. ,  -78.5],\n",
      "       [   0. ,    0. ,    0. ,    1. ]])\n",
      ")\n",
      "[NiftiMasker.transform_single_imgs] Resampling images\n",
      "[NiftiMasker.transform_single_imgs] Smoothing images\n",
      "[NiftiMasker.transform_single_imgs] Extracting region signals\n",
      "[NiftiMasker.transform_single_imgs] Cleaning extracted signals\n",
      "/media/Data/work/RCF_FSLNoScrub/Sink_respNOScrub/1stLevel/_subject_id_1266/_modelestimate0/results/zstat4.nii.gz\n",
      "1266\n",
      "\n",
      "Finished 62.16216216216216% of subjects\n",
      "[NiftiMasker.fit] Loading data from None\n",
      "[NiftiMasker.fit] Resampling mask\n",
      "[NiftiMasker.transform_single_imgs] Loading data from Nifti1Image(\n",
      "shape=(97, 115, 97, 1),\n",
      "affine=array([[   2. ,    0. ,    0. ,  -96.5],\n",
      "       [   0. ,    2. ,    0. , -132.5],\n",
      "       [   0. ,    0. ,    2. ,  -78.5],\n",
      "       [   0. ,    0. ,    0. ,    1. ]])\n",
      ")\n",
      "[NiftiMasker.transform_single_imgs] Resampling images\n",
      "[NiftiMasker.transform_single_imgs] Smoothing images\n",
      "[NiftiMasker.transform_single_imgs] Extracting region signals\n"
     ]
    },
    {
     "name": "stdout",
     "output_type": "stream",
     "text": [
      "[NiftiMasker.transform_single_imgs] Cleaning extracted signals\n",
      "/media/Data/work/RCF_FSLNoScrub/Sink_respNOScrub/1stLevel/_subject_id_1268/_modelestimate0/results/zstat4.nii.gz\n",
      "1268\n",
      "\n",
      "Finished 64.86486486486487% of subjects\n",
      "[NiftiMasker.fit] Loading data from None\n",
      "[NiftiMasker.fit] Resampling mask\n",
      "[NiftiMasker.transform_single_imgs] Loading data from Nifti1Image(\n",
      "shape=(97, 115, 97, 1),\n",
      "affine=array([[   2. ,    0. ,    0. ,  -96.5],\n",
      "       [   0. ,    2. ,    0. , -132.5],\n",
      "       [   0. ,    0. ,    2. ,  -78.5],\n",
      "       [   0. ,    0. ,    0. ,    1. ]])\n",
      ")\n",
      "[NiftiMasker.transform_single_imgs] Resampling images\n",
      "[NiftiMasker.transform_single_imgs] Smoothing images\n",
      "[NiftiMasker.transform_single_imgs] Extracting region signals\n",
      "[NiftiMasker.transform_single_imgs] Cleaning extracted signals\n",
      "/media/Data/work/RCF_FSLNoScrub/Sink_respNOScrub/1stLevel/_subject_id_1320/_modelestimate0/results/zstat4.nii.gz\n",
      "1320\n",
      "\n",
      "Finished 67.56756756756756% of subjects\n",
      "[NiftiMasker.fit] Loading data from None\n",
      "[NiftiMasker.fit] Resampling mask\n",
      "[NiftiMasker.transform_single_imgs] Loading data from Nifti1Image(\n",
      "shape=(97, 115, 97, 1),\n",
      "affine=array([[   2. ,    0. ,    0. ,  -96.5],\n",
      "       [   0. ,    2. ,    0. , -132.5],\n",
      "       [   0. ,    0. ,    2. ,  -78.5],\n",
      "       [   0. ,    0. ,    0. ,    1. ]])\n",
      ")\n",
      "[NiftiMasker.transform_single_imgs] Resampling images\n",
      "[NiftiMasker.transform_single_imgs] Smoothing images\n",
      "[NiftiMasker.transform_single_imgs] Extracting region signals\n",
      "[NiftiMasker.transform_single_imgs] Cleaning extracted signals\n",
      "/media/Data/work/RCF_FSLNoScrub/Sink_respNOScrub/1stLevel/_subject_id_1340/_modelestimate0/results/zstat4.nii.gz\n",
      "1340\n",
      "\n",
      "Finished 70.27027027027027% of subjects\n",
      "[NiftiMasker.fit] Loading data from None\n",
      "[NiftiMasker.fit] Resampling mask\n",
      "[NiftiMasker.transform_single_imgs] Loading data from Nifti1Image(\n",
      "shape=(97, 115, 97, 1),\n",
      "affine=array([[   2. ,    0. ,    0. ,  -96.5],\n",
      "       [   0. ,    2. ,    0. , -132.5],\n",
      "       [   0. ,    0. ,    2. ,  -78.5],\n",
      "       [   0. ,    0. ,    0. ,    1. ]])\n",
      ")\n",
      "[NiftiMasker.transform_single_imgs] Resampling images\n",
      "[NiftiMasker.transform_single_imgs] Smoothing images\n",
      "[NiftiMasker.transform_single_imgs] Extracting region signals\n",
      "[NiftiMasker.transform_single_imgs] Cleaning extracted signals\n",
      "/media/Data/work/RCF_FSLNoScrub/Sink_respNOScrub/1stLevel/_subject_id_1345/_modelestimate0/results/zstat4.nii.gz\n",
      "1345\n",
      "\n",
      "Finished 72.97297297297297% of subjects\n",
      "[NiftiMasker.fit] Loading data from None\n",
      "[NiftiMasker.fit] Resampling mask\n",
      "[NiftiMasker.transform_single_imgs] Loading data from Nifti1Image(\n",
      "shape=(97, 115, 97, 1),\n",
      "affine=array([[   2. ,    0. ,    0. ,  -96.5],\n",
      "       [   0. ,    2. ,    0. , -132.5],\n",
      "       [   0. ,    0. ,    2. ,  -78.5],\n",
      "       [   0. ,    0. ,    0. ,    1. ]])\n",
      ")\n",
      "[NiftiMasker.transform_single_imgs] Resampling images\n",
      "[NiftiMasker.transform_single_imgs] Smoothing images\n",
      "[NiftiMasker.transform_single_imgs] Extracting region signals\n",
      "[NiftiMasker.transform_single_imgs] Cleaning extracted signals\n",
      "/media/Data/work/RCF_FSLNoScrub/Sink_respNOScrub/1stLevel/_subject_id_1346/_modelestimate0/results/zstat4.nii.gz\n",
      "1346\n",
      "\n",
      "Finished 75.67567567567568% of subjects\n",
      "[NiftiMasker.fit] Loading data from None\n",
      "[NiftiMasker.fit] Resampling mask\n",
      "[NiftiMasker.transform_single_imgs] Loading data from Nifti1Image(\n",
      "shape=(97, 115, 97, 1),\n",
      "affine=array([[   2. ,    0. ,    0. ,  -96.5],\n",
      "       [   0. ,    2. ,    0. , -132.5],\n",
      "       [   0. ,    0. ,    2. ,  -78.5],\n",
      "       [   0. ,    0. ,    0. ,    1. ]])\n",
      ")\n",
      "[NiftiMasker.transform_single_imgs] Resampling images\n",
      "[NiftiMasker.transform_single_imgs] Smoothing images\n",
      "[NiftiMasker.transform_single_imgs] Extracting region signals\n",
      "[NiftiMasker.transform_single_imgs] Cleaning extracted signals\n",
      "/media/Data/work/RCF_FSLNoScrub/Sink_respNOScrub/1stLevel/_subject_id_1362/_modelestimate0/results/zstat4.nii.gz\n",
      "1362\n",
      "\n",
      "Finished 78.37837837837837% of subjects\n",
      "[NiftiMasker.fit] Loading data from None\n",
      "[NiftiMasker.fit] Resampling mask\n",
      "[NiftiMasker.transform_single_imgs] Loading data from Nifti1Image(\n",
      "shape=(97, 115, 97, 1),\n",
      "affine=array([[   2. ,    0. ,    0. ,  -96.5],\n",
      "       [   0. ,    2. ,    0. , -132.5],\n",
      "       [   0. ,    0. ,    2. ,  -78.5],\n",
      "       [   0. ,    0. ,    0. ,    1. ]])\n",
      ")\n",
      "[NiftiMasker.transform_single_imgs] Resampling images\n",
      "[NiftiMasker.transform_single_imgs] Smoothing images\n",
      "[NiftiMasker.transform_single_imgs] Extracting region signals\n",
      "[NiftiMasker.transform_single_imgs] Cleaning extracted signals\n",
      "/media/Data/work/RCF_FSLNoScrub/Sink_respNOScrub/1stLevel/_subject_id_1379/_modelestimate0/results/zstat4.nii.gz\n",
      "1379\n",
      "\n",
      "Finished 81.08108108108108% of subjects\n",
      "[NiftiMasker.fit] Loading data from None\n",
      "[NiftiMasker.fit] Resampling mask\n",
      "[NiftiMasker.transform_single_imgs] Loading data from Nifti1Image(\n",
      "shape=(97, 115, 97, 1),\n",
      "affine=array([[   2. ,    0. ,    0. ,  -96.5],\n",
      "       [   0. ,    2. ,    0. , -132.5],\n",
      "       [   0. ,    0. ,    2. ,  -78.5],\n",
      "       [   0. ,    0. ,    0. ,    1. ]])\n",
      ")\n",
      "[NiftiMasker.transform_single_imgs] Resampling images\n",
      "[NiftiMasker.transform_single_imgs] Smoothing images\n",
      "[NiftiMasker.transform_single_imgs] Extracting region signals\n",
      "[NiftiMasker.transform_single_imgs] Cleaning extracted signals\n",
      "/media/Data/work/RCF_FSLNoScrub/Sink_respNOScrub/1stLevel/_subject_id_1393/_modelestimate0/results/zstat4.nii.gz\n",
      "1393\n",
      "\n",
      "Finished 83.78378378378379% of subjects\n",
      "[NiftiMasker.fit] Loading data from None\n",
      "[NiftiMasker.fit] Resampling mask\n",
      "[NiftiMasker.transform_single_imgs] Loading data from Nifti1Image(\n",
      "shape=(97, 115, 97, 1),\n",
      "affine=array([[   2. ,    0. ,    0. ,  -96.5],\n",
      "       [   0. ,    2. ,    0. , -132.5],\n",
      "       [   0. ,    0. ,    2. ,  -78.5],\n",
      "       [   0. ,    0. ,    0. ,    1. ]])\n",
      ")\n",
      "[NiftiMasker.transform_single_imgs] Resampling images\n",
      "[NiftiMasker.transform_single_imgs] Smoothing images\n",
      "[NiftiMasker.transform_single_imgs] Extracting region signals\n",
      "[NiftiMasker.transform_single_imgs] Cleaning extracted signals\n",
      "/media/Data/work/RCF_FSLNoScrub/Sink_respNOScrub/1stLevel/_subject_id_1457/_modelestimate0/results/zstat4.nii.gz\n",
      "1457\n",
      "\n",
      "Finished 86.48648648648648% of subjects\n",
      "[NiftiMasker.fit] Loading data from None\n",
      "[NiftiMasker.fit] Resampling mask\n",
      "[NiftiMasker.transform_single_imgs] Loading data from Nifti1Image(\n",
      "shape=(97, 115, 97, 1),\n",
      "affine=array([[   2. ,    0. ,    0. ,  -96.5],\n",
      "       [   0. ,    2. ,    0. , -132.5],\n",
      "       [   0. ,    0. ,    2. ,  -78.5],\n",
      "       [   0. ,    0. ,    0. ,    1. ]])\n",
      ")\n",
      "[NiftiMasker.transform_single_imgs] Resampling images\n",
      "[NiftiMasker.transform_single_imgs] Smoothing images\n",
      "[NiftiMasker.transform_single_imgs] Extracting region signals\n",
      "[NiftiMasker.transform_single_imgs] Cleaning extracted signals\n",
      "/media/Data/work/RCF_FSLNoScrub/Sink_respNOScrub/1stLevel/_subject_id_1460/_modelestimate0/results/zstat4.nii.gz\n",
      "1460\n",
      "\n",
      "Finished 89.1891891891892% of subjects\n",
      "[NiftiMasker.fit] Loading data from None\n",
      "[NiftiMasker.fit] Resampling mask\n",
      "[NiftiMasker.transform_single_imgs] Loading data from Nifti1Image(\n",
      "shape=(97, 115, 97, 1),\n",
      "affine=array([[   2. ,    0. ,    0. ,  -96.5],\n",
      "       [   0. ,    2. ,    0. , -132.5],\n",
      "       [   0. ,    0. ,    2. ,  -78.5],\n",
      "       [   0. ,    0. ,    0. ,    1. ]])\n",
      ")\n",
      "[NiftiMasker.transform_single_imgs] Resampling images\n",
      "[NiftiMasker.transform_single_imgs] Smoothing images\n",
      "[NiftiMasker.transform_single_imgs] Extracting region signals\n",
      "[NiftiMasker.transform_single_imgs] Cleaning extracted signals\n",
      "/media/Data/work/RCF_FSLNoScrub/Sink_respNOScrub/1stLevel/_subject_id_1373/_modelestimate0/results/zstat4.nii.gz\n",
      "1373\n",
      "\n",
      "Finished 91.8918918918919% of subjects\n",
      "[NiftiMasker.fit] Loading data from None\n",
      "[NiftiMasker.fit] Resampling mask\n",
      "[NiftiMasker.transform_single_imgs] Loading data from Nifti1Image(\n",
      "shape=(97, 115, 97, 1),\n",
      "affine=array([[   2. ,    0. ,    0. ,  -96.5],\n",
      "       [   0. ,    2. ,    0. , -132.5],\n",
      "       [   0. ,    0. ,    2. ,  -78.5],\n",
      "       [   0. ,    0. ,    0. ,    1. ]])\n",
      ")\n",
      "[NiftiMasker.transform_single_imgs] Resampling images\n",
      "[NiftiMasker.transform_single_imgs] Smoothing images\n",
      "[NiftiMasker.transform_single_imgs] Extracting region signals\n",
      "[NiftiMasker.transform_single_imgs] Cleaning extracted signals\n",
      "/media/Data/work/RCF_FSLNoScrub/Sink_respNOScrub/1stLevel/_subject_id_1272/_modelestimate0/results/zstat4.nii.gz\n",
      "1272\n",
      "\n",
      "Finished 94.5945945945946% of subjects\n",
      "[NiftiMasker.fit] Loading data from None\n",
      "[NiftiMasker.fit] Resampling mask\n"
     ]
    },
    {
     "name": "stdout",
     "output_type": "stream",
     "text": [
      "[NiftiMasker.transform_single_imgs] Loading data from Nifti1Image(\n",
      "shape=(97, 115, 97, 1),\n",
      "affine=array([[   2. ,    0. ,    0. ,  -96.5],\n",
      "       [   0. ,    2. ,    0. , -132.5],\n",
      "       [   0. ,    0. ,    2. ,  -78.5],\n",
      "       [   0. ,    0. ,    0. ,    1. ]])\n",
      ")\n",
      "[NiftiMasker.transform_single_imgs] Resampling images\n",
      "[NiftiMasker.transform_single_imgs] Smoothing images\n",
      "[NiftiMasker.transform_single_imgs] Extracting region signals\n",
      "[NiftiMasker.transform_single_imgs] Cleaning extracted signals\n",
      "/media/Data/work/RCF_FSLNoScrub/Sink_respNOScrub/1stLevel/_subject_id_1291/_modelestimate0/results/zstat4.nii.gz\n",
      "1291\n",
      "\n",
      "Finished 97.2972972972973% of subjects\n",
      "[NiftiMasker.fit] Loading data from None\n",
      "[NiftiMasker.fit] Resampling mask\n",
      "[NiftiMasker.transform_single_imgs] Loading data from Nifti1Image(\n",
      "shape=(97, 115, 97, 1),\n",
      "affine=array([[   2. ,    0. ,    0. ,  -96.5],\n",
      "       [   0. ,    2. ,    0. , -132.5],\n",
      "       [   0. ,    0. ,    2. ,  -78.5],\n",
      "       [   0. ,    0. ,    0. ,    1. ]])\n",
      ")\n",
      "[NiftiMasker.transform_single_imgs] Resampling images\n",
      "[NiftiMasker.transform_single_imgs] Smoothing images\n",
      "[NiftiMasker.transform_single_imgs] Extracting region signals\n",
      "[NiftiMasker.transform_single_imgs] Cleaning extracted signals\n",
      "/media/Data/work/RCF_FSLNoScrub/Sink_respNOScrub/1stLevel/_subject_id_1309/_modelestimate0/results/zstat4.nii.gz\n",
      "1309\n",
      "\n",
      "Finished 100.0% of subjects\n",
      "[NiftiMasker.fit] Loading data from None\n",
      "[NiftiMasker.fit] Resampling mask\n",
      "[NiftiMasker.transform_single_imgs] Loading data from Nifti1Image(\n",
      "shape=(97, 115, 97, 1),\n",
      "affine=array([[   2. ,    0. ,    0. ,  -96.5],\n",
      "       [   0. ,    2. ,    0. , -132.5],\n",
      "       [   0. ,    0. ,    2. ,  -78.5],\n",
      "       [   0. ,    0. ,    0. ,    1. ]])\n",
      ")\n",
      "[NiftiMasker.transform_single_imgs] Resampling images\n",
      "[NiftiMasker.transform_single_imgs] Smoothing images\n",
      "[NiftiMasker.transform_single_imgs] Extracting region signals\n",
      "[NiftiMasker.transform_single_imgs] Cleaning extracted signals\n"
     ]
    }
   ],
   "source": [
    "us = []\n",
    "timeseriesAmg = []\n",
    "counter = 1 # set counter to give percentage of progress\n",
    "for sub in subject_list:\n",
    "   # try:\n",
    "    func = us_cond.format(sub=sub, cope_num= cope_num)\n",
    "    print(func)\n",
    "    sub = func.split('id_')[1].split('/')[0]\n",
    "    print(sub)\n",
    "    print(f'\\nFinished {counter/len(subject_list)*100}% of subjects')\n",
    "    counter = counter +1 \n",
    "    # amygdala\n",
    "    tArr = masker.fit_transform(func)\n",
    "    meanT = np.mean(tArr,axis=1)\n",
    "    sem = scipy.stats.sem(tArr, axis=1)\n",
    "    std = np.std(tArr, axis=1)\n",
    "    \n",
    "\n",
    "    # create datafram for the timeseries\n",
    "    dfTS = {'subject':sub, 'ts':tArr[0]}\n",
    "    # create dataframe for the mean activation\n",
    "    df = {'subject':sub, 'amygdala':meanT[0], 'amgsem':sem[0], 'amgstd':std[0]}\n",
    "    #df['subject'] = sub\n",
    "    us.append(df)\n",
    "    timeseriesAmg.append(dfTS)\n",
    "    #except:\n",
    "     #   print(f'Subject {sub} has no data')\n",
    "amg_ud = pd.DataFrame(us)\n",
    "tsDf = pd.DataFrame(timeseriesAmg)"
   ]
  },
  {
   "cell_type": "code",
   "execution_count": 60,
   "metadata": {},
   "outputs": [
    {
     "data": {
      "text/html": [
       "<div>\n",
       "<style scoped>\n",
       "    .dataframe tbody tr th:only-of-type {\n",
       "        vertical-align: middle;\n",
       "    }\n",
       "\n",
       "    .dataframe tbody tr th {\n",
       "        vertical-align: top;\n",
       "    }\n",
       "\n",
       "    .dataframe thead th {\n",
       "        text-align: right;\n",
       "    }\n",
       "</style>\n",
       "<table border=\"1\" class=\"dataframe\">\n",
       "  <thead>\n",
       "    <tr style=\"text-align: right;\">\n",
       "      <th></th>\n",
       "      <th>subject</th>\n",
       "      <th>amygdala</th>\n",
       "      <th>amgsem</th>\n",
       "      <th>amgstd</th>\n",
       "    </tr>\n",
       "  </thead>\n",
       "  <tbody>\n",
       "    <tr>\n",
       "      <th>0</th>\n",
       "      <td>029</td>\n",
       "      <td>0.480097</td>\n",
       "      <td>0.027650</td>\n",
       "      <td>0.843667</td>\n",
       "    </tr>\n",
       "    <tr>\n",
       "      <th>1</th>\n",
       "      <td>040</td>\n",
       "      <td>0.470255</td>\n",
       "      <td>0.022986</td>\n",
       "      <td>0.701370</td>\n",
       "    </tr>\n",
       "    <tr>\n",
       "      <th>2</th>\n",
       "      <td>1074</td>\n",
       "      <td>0.045975</td>\n",
       "      <td>0.026153</td>\n",
       "      <td>0.797999</td>\n",
       "    </tr>\n",
       "    <tr>\n",
       "      <th>3</th>\n",
       "      <td>1205</td>\n",
       "      <td>0.679076</td>\n",
       "      <td>0.020865</td>\n",
       "      <td>0.636649</td>\n",
       "    </tr>\n",
       "    <tr>\n",
       "      <th>4</th>\n",
       "      <td>1223</td>\n",
       "      <td>0.150069</td>\n",
       "      <td>0.021399</td>\n",
       "      <td>0.652942</td>\n",
       "    </tr>\n",
       "  </tbody>\n",
       "</table>\n",
       "</div>"
      ],
      "text/plain": [
       "  subject  amygdala    amgsem    amgstd\n",
       "0     029  0.480097  0.027650  0.843667\n",
       "1     040  0.470255  0.022986  0.701370\n",
       "2    1074  0.045975  0.026153  0.797999\n",
       "3    1205  0.679076  0.020865  0.636649\n",
       "4    1223  0.150069  0.021399  0.652942"
      ]
     },
     "execution_count": 60,
     "metadata": {},
     "output_type": "execute_result"
    }
   ],
   "source": [
    "amg_ud.head()"
   ]
  },
  {
   "cell_type": "markdown",
   "metadata": {},
   "source": [
    "## look at group differences"
   ]
  },
  {
   "cell_type": "code",
   "execution_count": 61,
   "metadata": {},
   "outputs": [
    {
     "data": {
      "text/html": [
       "<div>\n",
       "<style scoped>\n",
       "    .dataframe tbody tr th:only-of-type {\n",
       "        vertical-align: middle;\n",
       "    }\n",
       "\n",
       "    .dataframe tbody tr th {\n",
       "        vertical-align: top;\n",
       "    }\n",
       "\n",
       "    .dataframe thead th {\n",
       "        text-align: right;\n",
       "    }\n",
       "</style>\n",
       "<table border=\"1\" class=\"dataframe\">\n",
       "  <thead>\n",
       "    <tr style=\"text-align: right;\">\n",
       "      <th></th>\n",
       "      <th>group</th>\n",
       "      <th>subject</th>\n",
       "    </tr>\n",
       "  </thead>\n",
       "  <tbody>\n",
       "    <tr>\n",
       "      <th>0</th>\n",
       "      <td>PTSD</td>\n",
       "      <td>035</td>\n",
       "    </tr>\n",
       "    <tr>\n",
       "      <th>1</th>\n",
       "      <td>CC</td>\n",
       "      <td>011</td>\n",
       "    </tr>\n",
       "    <tr>\n",
       "      <th>2</th>\n",
       "      <td>PTSD</td>\n",
       "      <td>040</td>\n",
       "    </tr>\n",
       "    <tr>\n",
       "      <th>3</th>\n",
       "      <td>PTSD</td>\n",
       "      <td>029</td>\n",
       "    </tr>\n",
       "    <tr>\n",
       "      <th>4</th>\n",
       "      <td>CC</td>\n",
       "      <td>020</td>\n",
       "    </tr>\n",
       "  </tbody>\n",
       "</table>\n",
       "</div>"
      ],
      "text/plain": [
       "  group subject\n",
       "0  PTSD     035\n",
       "1    CC     011\n",
       "2  PTSD     040\n",
       "3  PTSD     029\n",
       "4    CC     020"
      ]
     },
     "execution_count": 61,
     "metadata": {},
     "output_type": "execute_result"
    }
   ],
   "source": [
    "groupDF = pd.read_csv('groups.csv')\n",
    "groupDF['subject'] = groupDF['subject'].astype(int).astype(str)\n",
    "for i in groupDF.iterrows():\n",
    "    # change two numbers to three\n",
    "    if len(i[1].subject) < 4:\n",
    "        groupDF.at[i[0],'subject'] = '0' + i[1].subject\n",
    "\n",
    "\n",
    "groupDF.head()"
   ]
  },
  {
   "cell_type": "code",
   "execution_count": 62,
   "metadata": {},
   "outputs": [
    {
     "data": {
      "text/html": [
       "<div>\n",
       "<style scoped>\n",
       "    .dataframe tbody tr th:only-of-type {\n",
       "        vertical-align: middle;\n",
       "    }\n",
       "\n",
       "    .dataframe tbody tr th {\n",
       "        vertical-align: top;\n",
       "    }\n",
       "\n",
       "    .dataframe thead th {\n",
       "        text-align: right;\n",
       "    }\n",
       "</style>\n",
       "<table border=\"1\" class=\"dataframe\">\n",
       "  <thead>\n",
       "    <tr style=\"text-align: right;\">\n",
       "      <th></th>\n",
       "      <th>subject</th>\n",
       "    </tr>\n",
       "    <tr>\n",
       "      <th>group</th>\n",
       "      <th></th>\n",
       "    </tr>\n",
       "  </thead>\n",
       "  <tbody>\n",
       "    <tr>\n",
       "      <th>CC</th>\n",
       "      <td>26</td>\n",
       "    </tr>\n",
       "    <tr>\n",
       "      <th>PTSD</th>\n",
       "      <td>27</td>\n",
       "    </tr>\n",
       "  </tbody>\n",
       "</table>\n",
       "</div>"
      ],
      "text/plain": [
       "       subject\n",
       "group         \n",
       "CC          26\n",
       "PTSD        27"
      ]
     },
     "execution_count": 62,
     "metadata": {},
     "output_type": "execute_result"
    }
   ],
   "source": [
    "groupDF.groupby(['group']).count()"
   ]
  },
  {
   "cell_type": "code",
   "execution_count": 63,
   "metadata": {
    "scrolled": true
   },
   "outputs": [
    {
     "data": {
      "text/html": [
       "<div>\n",
       "<style scoped>\n",
       "    .dataframe tbody tr th:only-of-type {\n",
       "        vertical-align: middle;\n",
       "    }\n",
       "\n",
       "    .dataframe tbody tr th {\n",
       "        vertical-align: top;\n",
       "    }\n",
       "\n",
       "    .dataframe thead th {\n",
       "        text-align: right;\n",
       "    }\n",
       "</style>\n",
       "<table border=\"1\" class=\"dataframe\">\n",
       "  <thead>\n",
       "    <tr style=\"text-align: right;\">\n",
       "      <th></th>\n",
       "      <th>group</th>\n",
       "      <th>subject</th>\n",
       "      <th>amygdala</th>\n",
       "      <th>amgsem</th>\n",
       "      <th>amgstd</th>\n",
       "    </tr>\n",
       "  </thead>\n",
       "  <tbody>\n",
       "    <tr>\n",
       "      <th>0</th>\n",
       "      <td>PTSD</td>\n",
       "      <td>040</td>\n",
       "      <td>0.470255</td>\n",
       "      <td>0.022986</td>\n",
       "      <td>0.701370</td>\n",
       "    </tr>\n",
       "    <tr>\n",
       "      <th>1</th>\n",
       "      <td>PTSD</td>\n",
       "      <td>029</td>\n",
       "      <td>0.480097</td>\n",
       "      <td>0.027650</td>\n",
       "      <td>0.843667</td>\n",
       "    </tr>\n",
       "    <tr>\n",
       "      <th>2</th>\n",
       "      <td>CC</td>\n",
       "      <td>020</td>\n",
       "      <td>0.260270</td>\n",
       "      <td>0.022249</td>\n",
       "      <td>0.678866</td>\n",
       "    </tr>\n",
       "    <tr>\n",
       "      <th>3</th>\n",
       "      <td>CC</td>\n",
       "      <td>1072</td>\n",
       "      <td>0.893891</td>\n",
       "      <td>0.022684</td>\n",
       "      <td>0.692152</td>\n",
       "    </tr>\n",
       "    <tr>\n",
       "      <th>4</th>\n",
       "      <td>PTSD</td>\n",
       "      <td>1074</td>\n",
       "      <td>0.045975</td>\n",
       "      <td>0.026153</td>\n",
       "      <td>0.797999</td>\n",
       "    </tr>\n",
       "  </tbody>\n",
       "</table>\n",
       "</div>"
      ],
      "text/plain": [
       "  group subject  amygdala    amgsem    amgstd\n",
       "0  PTSD     040  0.470255  0.022986  0.701370\n",
       "1  PTSD     029  0.480097  0.027650  0.843667\n",
       "2    CC     020  0.260270  0.022249  0.678866\n",
       "3    CC    1072  0.893891  0.022684  0.692152\n",
       "4  PTSD    1074  0.045975  0.026153  0.797999"
      ]
     },
     "execution_count": 63,
     "metadata": {},
     "output_type": "execute_result"
    }
   ],
   "source": [
    "# merge group and stimulus data\n",
    "dfAll = pd.merge(groupDF, amg_ud)\n",
    "dfAll.head()"
   ]
  },
  {
   "cell_type": "code",
   "execution_count": 64,
   "metadata": {
    "scrolled": false
   },
   "outputs": [
    {
     "data": {
      "text/plain": [
       "<AxesSubplot:title={'center':'amygdala'}, xlabel='group', ylabel='amygdala'>"
      ]
     },
     "execution_count": 64,
     "metadata": {},
     "output_type": "execute_result"
    },
    {
     "data": {
      "image/png": "[encoded data removed]",
      "text/plain": [
       "<Figure size 576x288 with 1 Axes>"
      ]
     },
     "metadata": {
      "needs_background": "light"
     },
     "output_type": "display_data"
    }
   ],
   "source": [
    "# Plot barplot to see differences\n",
    "plt.title(\"amygdala\")\n",
    "sns.barplot(x=\"group\", y=\"amygdala\", data=dfAll, ci=68)"
   ]
  },
  {
   "cell_type": "code",
   "execution_count": 65,
   "metadata": {},
   "outputs": [
    {
     "data": {
      "text/plain": [
       "0.03410260419452769"
      ]
     },
     "execution_count": 65,
     "metadata": {},
     "output_type": "execute_result"
    }
   ],
   "source": [
    "# run simple one-tailed t-test\n",
    "t = scipy.stats.ttest_ind(dfAll['amygdala'][dfAll['group']=='CC'],dfAll['amygdala'][dfAll['group']=='PTSD'], \n",
    "                     equal_var = True)\n",
    "\n",
    "# one tailed\n",
    "t[1] /2"
   ]
  },
  {
   "cell_type": "markdown",
   "metadata": {},
   "source": [
    "## Lets load SCR data"
   ]
  },
  {
   "cell_type": "code",
   "execution_count": null,
   "metadata": {},
   "outputs": [],
   "source": [
    "## read\n",
    "scr = pd.read_csv(\"scr_data.csv\")\n",
    "scr['subject'] = scr['subject'].astype(str)\n",
    "for i in scr.iterrows():\n",
    "    # change two numbers to three\n",
    "    if len(i[1].subject) < 4:\n",
    "        scr.at[i[0],'subject'] = '0' + i[1].subject\n",
    "scr.head()"
   ]
  },
  {
   "cell_type": "code",
   "execution_count": null,
   "metadata": {},
   "outputs": [],
   "source": [
    "# setting threshold to 9 responses to shock \n",
    "a = list(scr['subject'][scr['ResponseShock']>=9])\n",
    "b = list(map(str, a))\n",
    "np.array(b)\n",
    "#print(len(b))"
   ]
  },
  {
   "cell_type": "code",
   "execution_count": null,
   "metadata": {},
   "outputs": [],
   "source": [
    "sns.distplot(scr.sumResp)"
   ]
  },
  {
   "cell_type": "code",
   "execution_count": null,
   "metadata": {
    "scrolled": true
   },
   "outputs": [],
   "source": [
    "dfWScr = pd.merge(scr,dfAll)\n",
    "#print(dfWScr)\n",
    "dfWScr.groupby(['group']).count()\n",
    "dfWScr.head()"
   ]
  },
  {
   "cell_type": "markdown",
   "metadata": {},
   "source": [
    "## Use STAN to check differences"
   ]
  },
  {
   "cell_type": "code",
   "execution_count": 66,
   "metadata": {
    "scrolled": true
   },
   "outputs": [
    {
     "data": {
      "text/html": [
       "<div>\n",
       "<style scoped>\n",
       "    .dataframe tbody tr th:only-of-type {\n",
       "        vertical-align: middle;\n",
       "    }\n",
       "\n",
       "    .dataframe tbody tr th {\n",
       "        vertical-align: top;\n",
       "    }\n",
       "\n",
       "    .dataframe thead th {\n",
       "        text-align: right;\n",
       "    }\n",
       "</style>\n",
       "<table border=\"1\" class=\"dataframe\">\n",
       "  <thead>\n",
       "    <tr style=\"text-align: right;\">\n",
       "      <th></th>\n",
       "      <th>group</th>\n",
       "      <th>subject</th>\n",
       "      <th>amygdala</th>\n",
       "      <th>amgsem</th>\n",
       "      <th>amgstd</th>\n",
       "    </tr>\n",
       "  </thead>\n",
       "  <tbody>\n",
       "    <tr>\n",
       "      <th>0</th>\n",
       "      <td>1</td>\n",
       "      <td>040</td>\n",
       "      <td>0.470255</td>\n",
       "      <td>0.022986</td>\n",
       "      <td>0.701370</td>\n",
       "    </tr>\n",
       "    <tr>\n",
       "      <th>1</th>\n",
       "      <td>1</td>\n",
       "      <td>029</td>\n",
       "      <td>0.480097</td>\n",
       "      <td>0.027650</td>\n",
       "      <td>0.843667</td>\n",
       "    </tr>\n",
       "    <tr>\n",
       "      <th>2</th>\n",
       "      <td>0</td>\n",
       "      <td>020</td>\n",
       "      <td>0.260270</td>\n",
       "      <td>0.022249</td>\n",
       "      <td>0.678866</td>\n",
       "    </tr>\n",
       "    <tr>\n",
       "      <th>3</th>\n",
       "      <td>0</td>\n",
       "      <td>1072</td>\n",
       "      <td>0.893891</td>\n",
       "      <td>0.022684</td>\n",
       "      <td>0.692152</td>\n",
       "    </tr>\n",
       "    <tr>\n",
       "      <th>4</th>\n",
       "      <td>1</td>\n",
       "      <td>1074</td>\n",
       "      <td>0.045975</td>\n",
       "      <td>0.026153</td>\n",
       "      <td>0.797999</td>\n",
       "    </tr>\n",
       "  </tbody>\n",
       "</table>\n",
       "</div>"
      ],
      "text/plain": [
       "   group subject  amygdala    amgsem    amgstd\n",
       "0      1     040  0.470255  0.022986  0.701370\n",
       "1      1     029  0.480097  0.027650  0.843667\n",
       "2      0     020  0.260270  0.022249  0.678866\n",
       "3      0    1072  0.893891  0.022684  0.692152\n",
       "4      1    1074  0.045975  0.026153  0.797999"
      ]
     },
     "execution_count": 66,
     "metadata": {},
     "output_type": "execute_result"
    }
   ],
   "source": [
    "#To select rows whose column value is in list \n",
    "groups = [\"CC\", \"PTSD\"]\n",
    "dg = dfAll[dfAll.group.isin(groups)]\n",
    "\n",
    "# changing group to numbers before we run stan model\n",
    "group = {'CC': 0,'PTSD': 1} \n",
    "dg.group = [group[item] for item in dg.group] \n",
    "dg.head()"
   ]
  },
  {
   "cell_type": "code",
   "execution_count": 67,
   "metadata": {},
   "outputs": [
    {
     "ename": "AttributeError",
     "evalue": "'DataFrame' object has no attribute 'summary_cont'",
     "output_type": "error",
     "traceback": [
      "\u001b[0;31m---------------------------------------------------------------------------\u001b[0m",
      "\u001b[0;31mAttributeError\u001b[0m                            Traceback (most recent call last)",
      "\u001b[0;32m<ipython-input-67-9300bdc94d93>\u001b[0m in \u001b[0;36m<module>\u001b[0;34m\u001b[0m\n\u001b[0;32m----> 1\u001b[0;31m \u001b[0mdg\u001b[0m\u001b[0;34m.\u001b[0m\u001b[0msummary_cont\u001b[0m\u001b[0;34m\u001b[0m\u001b[0;34m\u001b[0m\u001b[0m\n\u001b[0m",
      "\u001b[0;32m~/miniconda3/envs/neuroAnalysis/lib/python3.7/site-packages/pandas/core/generic.py\u001b[0m in \u001b[0;36m__getattr__\u001b[0;34m(self, name)\u001b[0m\n\u001b[1;32m   5476\u001b[0m         ):\n\u001b[1;32m   5477\u001b[0m             \u001b[0;32mreturn\u001b[0m \u001b[0mself\u001b[0m\u001b[0;34m[\u001b[0m\u001b[0mname\u001b[0m\u001b[0;34m]\u001b[0m\u001b[0;34m\u001b[0m\u001b[0;34m\u001b[0m\u001b[0m\n\u001b[0;32m-> 5478\u001b[0;31m         \u001b[0;32mreturn\u001b[0m \u001b[0mobject\u001b[0m\u001b[0;34m.\u001b[0m\u001b[0m__getattribute__\u001b[0m\u001b[0;34m(\u001b[0m\u001b[0mself\u001b[0m\u001b[0;34m,\u001b[0m \u001b[0mname\u001b[0m\u001b[0;34m)\u001b[0m\u001b[0;34m\u001b[0m\u001b[0;34m\u001b[0m\u001b[0m\n\u001b[0m\u001b[1;32m   5479\u001b[0m \u001b[0;34m\u001b[0m\u001b[0m\n\u001b[1;32m   5480\u001b[0m     \u001b[0;32mdef\u001b[0m \u001b[0m__setattr__\u001b[0m\u001b[0;34m(\u001b[0m\u001b[0mself\u001b[0m\u001b[0;34m,\u001b[0m \u001b[0mname\u001b[0m\u001b[0;34m:\u001b[0m \u001b[0mstr\u001b[0m\u001b[0;34m,\u001b[0m \u001b[0mvalue\u001b[0m\u001b[0;34m)\u001b[0m \u001b[0;34m->\u001b[0m \u001b[0;32mNone\u001b[0m\u001b[0;34m:\u001b[0m\u001b[0;34m\u001b[0m\u001b[0;34m\u001b[0m\u001b[0m\n",
      "\u001b[0;31mAttributeError\u001b[0m: 'DataFrame' object has no attribute 'summary_cont'"
     ]
    }
   ],
   "source": [
    "dg.summary_cont"
   ]
  },
  {
   "cell_type": "code",
   "execution_count": 68,
   "metadata": {},
   "outputs": [
    {
     "data": {
      "text/html": [
       "<div>\n",
       "<style scoped>\n",
       "    .dataframe tbody tr th:only-of-type {\n",
       "        vertical-align: middle;\n",
       "    }\n",
       "\n",
       "    .dataframe tbody tr th {\n",
       "        vertical-align: top;\n",
       "    }\n",
       "\n",
       "    .dataframe thead th {\n",
       "        text-align: right;\n",
       "    }\n",
       "</style>\n",
       "<table border=\"1\" class=\"dataframe\">\n",
       "  <thead>\n",
       "    <tr style=\"text-align: right;\">\n",
       "      <th></th>\n",
       "      <th>subject</th>\n",
       "      <th>amygdala</th>\n",
       "      <th>amgsem</th>\n",
       "      <th>amgstd</th>\n",
       "    </tr>\n",
       "    <tr>\n",
       "      <th>group</th>\n",
       "      <th></th>\n",
       "      <th></th>\n",
       "      <th></th>\n",
       "      <th></th>\n",
       "    </tr>\n",
       "  </thead>\n",
       "  <tbody>\n",
       "    <tr>\n",
       "      <th>0</th>\n",
       "      <td>19</td>\n",
       "      <td>19</td>\n",
       "      <td>19</td>\n",
       "      <td>19</td>\n",
       "    </tr>\n",
       "    <tr>\n",
       "      <th>1</th>\n",
       "      <td>18</td>\n",
       "      <td>18</td>\n",
       "      <td>18</td>\n",
       "      <td>18</td>\n",
       "    </tr>\n",
       "  </tbody>\n",
       "</table>\n",
       "</div>"
      ],
      "text/plain": [
       "       subject  amygdala  amgsem  amgstd\n",
       "group                                   \n",
       "0           19        19      19      19\n",
       "1           18        18      18      18"
      ]
     },
     "execution_count": 68,
     "metadata": {},
     "output_type": "execute_result"
    }
   ],
   "source": [
    "# how many in each group\n",
    "dg.groupby(['group']).count()"
   ]
  },
  {
   "cell_type": "code",
   "execution_count": 69,
   "metadata": {},
   "outputs": [],
   "source": [
    "data =  {'N': len(dg), 'x': dg['group'].values, 'y': dg['amygdala'].values}\n",
    "sm = cmdstanpy.CmdStanModel(stan_file='Stan_model/simple_model.stan')\n"
   ]
  },
  {
   "cell_type": "code",
   "execution_count": 70,
   "metadata": {},
   "outputs": [],
   "source": [
    "# Train the model and generate samples\n",
    "fit_simple_model = sm.sample(\n",
    "  data = data,\n",
    "  chains = 4,\n",
    "  iter_warmup = 1000,\n",
    "  iter_sampling = 1000,\n",
    "  adapt_delta = .9,\n",
    "  #inits = 0.2,\n",
    ")"
   ]
  },
  {
   "cell_type": "code",
   "execution_count": 71,
   "metadata": {},
   "outputs": [
    {
     "data": {
      "text/html": [
       "<div>\n",
       "<style scoped>\n",
       "    .dataframe tbody tr th:only-of-type {\n",
       "        vertical-align: middle;\n",
       "    }\n",
       "\n",
       "    .dataframe tbody tr th {\n",
       "        vertical-align: top;\n",
       "    }\n",
       "\n",
       "    .dataframe thead th {\n",
       "        text-align: right;\n",
       "    }\n",
       "</style>\n",
       "<table border=\"1\" class=\"dataframe\">\n",
       "  <thead>\n",
       "    <tr style=\"text-align: right;\">\n",
       "      <th></th>\n",
       "      <th>Mean</th>\n",
       "      <th>MCSE</th>\n",
       "      <th>StdDev</th>\n",
       "      <th>1%</th>\n",
       "      <th>95%</th>\n",
       "      <th>N_Eff</th>\n",
       "      <th>N_Eff/s</th>\n",
       "      <th>R_hat</th>\n",
       "    </tr>\n",
       "    <tr>\n",
       "      <th>name</th>\n",
       "      <th></th>\n",
       "      <th></th>\n",
       "      <th></th>\n",
       "      <th></th>\n",
       "      <th></th>\n",
       "      <th></th>\n",
       "      <th></th>\n",
       "      <th></th>\n",
       "    </tr>\n",
       "  </thead>\n",
       "  <tbody>\n",
       "    <tr>\n",
       "      <th>lp__</th>\n",
       "      <td>19.00</td>\n",
       "      <td>0.03200</td>\n",
       "      <td>1.300</td>\n",
       "      <td>15.00</td>\n",
       "      <td>20.000</td>\n",
       "      <td>1600.0</td>\n",
       "      <td>19000.0</td>\n",
       "      <td>1.0</td>\n",
       "    </tr>\n",
       "    <tr>\n",
       "      <th>alpha</th>\n",
       "      <td>0.36</td>\n",
       "      <td>0.00190</td>\n",
       "      <td>0.081</td>\n",
       "      <td>0.18</td>\n",
       "      <td>0.490</td>\n",
       "      <td>1800.0</td>\n",
       "      <td>22000.0</td>\n",
       "      <td>1.0</td>\n",
       "    </tr>\n",
       "    <tr>\n",
       "      <th>beta</th>\n",
       "      <td>-0.22</td>\n",
       "      <td>0.00260</td>\n",
       "      <td>0.120</td>\n",
       "      <td>-0.51</td>\n",
       "      <td>-0.032</td>\n",
       "      <td>1900.0</td>\n",
       "      <td>24000.0</td>\n",
       "      <td>1.0</td>\n",
       "    </tr>\n",
       "    <tr>\n",
       "      <th>sigma</th>\n",
       "      <td>0.36</td>\n",
       "      <td>0.00098</td>\n",
       "      <td>0.045</td>\n",
       "      <td>0.27</td>\n",
       "      <td>0.440</td>\n",
       "      <td>2100.0</td>\n",
       "      <td>26000.0</td>\n",
       "      <td>1.0</td>\n",
       "    </tr>\n",
       "  </tbody>\n",
       "</table>\n",
       "</div>"
      ],
      "text/plain": [
       "        Mean     MCSE  StdDev     1%     95%   N_Eff  N_Eff/s  R_hat\n",
       "name                                                                \n",
       "lp__   19.00  0.03200   1.300  15.00  20.000  1600.0  19000.0    1.0\n",
       "alpha   0.36  0.00190   0.081   0.18   0.490  1800.0  22000.0    1.0\n",
       "beta   -0.22  0.00260   0.120  -0.51  -0.032  1900.0  24000.0    1.0\n",
       "sigma   0.36  0.00098   0.045   0.27   0.440  2100.0  26000.0    1.0"
      ]
     },
     "execution_count": 71,
     "metadata": {},
     "output_type": "execute_result"
    }
   ],
   "source": [
    "#fit\n",
    "fit_simple_model.summary(percentiles=(1,95))"
   ]
  },
  {
   "cell_type": "code",
   "execution_count": 32,
   "metadata": {},
   "outputs": [],
   "source": [
    "# # Extracting traces\n",
    "alpha = fit_simple_model.stan_variable(name='alpha')\n",
    "beta = fit_simple_model.stan_variable(name='beta')\n",
    "sigma = fit_simple_model.stan_variable(name='sigma')\n",
    "#lp = fit_simple_model.stan_variable(name='lp')"
   ]
  },
  {
   "cell_type": "code",
   "execution_count": 33,
   "metadata": {},
   "outputs": [
    {
     "name": "stderr",
     "output_type": "stream",
     "text": [
      "/home/or/miniconda3/envs/neuroAnalysis/lib/python3.7/site-packages/seaborn/distributions.py:2557: FutureWarning: `distplot` is a deprecated function and will be removed in a future version. Please adapt your code to use either `displot` (a figure-level function with similar flexibility) or `histplot` (an axes-level function for histograms).\n",
      "  warnings.warn(msg, FutureWarning)\n"
     ]
    },
    {
     "data": {
      "text/plain": [
       "0.03600000000000003"
      ]
     },
     "execution_count": 33,
     "metadata": {},
     "output_type": "execute_result"
    },
    {
     "data": {
      "image/png": "[encoded data removed]",
      "text/plain": [
       "<Figure size 432x288 with 1 Axes>"
      ]
     },
     "metadata": {
      "needs_background": "light"
     },
     "output_type": "display_data"
    }
   ],
   "source": [
    "sns.distplot(beta)\n",
    "1 - sum(beta<0) / len(beta)"
   ]
  },
  {
   "cell_type": "markdown",
   "metadata": {},
   "source": [
    "# Check correlation between amg and behavior"
   ]
  },
  {
   "cell_type": "code",
   "execution_count": 34,
   "metadata": {},
   "outputs": [
    {
     "data": {
      "text/html": [
       "<div>\n",
       "<style scoped>\n",
       "    .dataframe tbody tr th:only-of-type {\n",
       "        vertical-align: middle;\n",
       "    }\n",
       "\n",
       "    .dataframe tbody tr th {\n",
       "        vertical-align: top;\n",
       "    }\n",
       "\n",
       "    .dataframe thead th {\n",
       "        text-align: right;\n",
       "    }\n",
       "</style>\n",
       "<table border=\"1\" class=\"dataframe\">\n",
       "  <thead>\n",
       "    <tr style=\"text-align: right;\">\n",
       "      <th></th>\n",
       "      <th>group</th>\n",
       "      <th>subject</th>\n",
       "      <th>pcl_An</th>\n",
       "      <th>pcl_Av</th>\n",
       "      <th>pcl_total</th>\n",
       "    </tr>\n",
       "  </thead>\n",
       "  <tbody>\n",
       "    <tr>\n",
       "      <th>0</th>\n",
       "      <td>PTSD</td>\n",
       "      <td>035</td>\n",
       "      <td>7.0</td>\n",
       "      <td>6.0</td>\n",
       "      <td>43.0</td>\n",
       "    </tr>\n",
       "    <tr>\n",
       "      <th>1</th>\n",
       "      <td>CC</td>\n",
       "      <td>011</td>\n",
       "      <td>0.0</td>\n",
       "      <td>0.0</td>\n",
       "      <td>0.0</td>\n",
       "    </tr>\n",
       "    <tr>\n",
       "      <th>2</th>\n",
       "      <td>PTSD</td>\n",
       "      <td>040</td>\n",
       "      <td>5.0</td>\n",
       "      <td>4.0</td>\n",
       "      <td>24.0</td>\n",
       "    </tr>\n",
       "    <tr>\n",
       "      <th>3</th>\n",
       "      <td>PTSD</td>\n",
       "      <td>029</td>\n",
       "      <td>0.0</td>\n",
       "      <td>1.0</td>\n",
       "      <td>11.0</td>\n",
       "    </tr>\n",
       "    <tr>\n",
       "      <th>4</th>\n",
       "      <td>CC</td>\n",
       "      <td>020</td>\n",
       "      <td>0.0</td>\n",
       "      <td>0.0</td>\n",
       "      <td>0.0</td>\n",
       "    </tr>\n",
       "  </tbody>\n",
       "</table>\n",
       "</div>"
      ],
      "text/plain": [
       "  group subject  pcl_An  pcl_Av  pcl_total\n",
       "0  PTSD     035     7.0     6.0       43.0\n",
       "1    CC     011     0.0     0.0        0.0\n",
       "2  PTSD     040     5.0     4.0       24.0\n",
       "3  PTSD     029     0.0     1.0       11.0\n",
       "4    CC     020     0.0     0.0        0.0"
      ]
     },
     "execution_count": 34,
     "metadata": {},
     "output_type": "execute_result"
    }
   ],
   "source": [
    "dfPCL = pd.read_csv('pclScores.csv')\n",
    "# remove the RCF from beginning of subject id\n",
    "dfPCL['subject'] = dfPCL['subject'].astype(str)\n",
    "# because some subjects has two digits, we add zero\n",
    "for i in dfPCL.iterrows():\n",
    "    if len(i[1].subject) < 4:\n",
    "        dfPCL.at[i[0],'subject'] = '0' + i[1].subject\n",
    "\n",
    "dfPCL.head()"
   ]
  },
  {
   "cell_type": "code",
   "execution_count": 35,
   "metadata": {},
   "outputs": [
    {
     "data": {
      "text/plain": [
       "<seaborn.axisgrid.FacetGrid at 0x7fb55180fd90>"
      ]
     },
     "execution_count": 35,
     "metadata": {},
     "output_type": "execute_result"
    },
    {
     "data": {
      "image/png": "[encoded data removed]",
      "text/plain": [
       "<Figure size 360x360 with 1 Axes>"
      ]
     },
     "metadata": {
      "needs_background": "light"
     },
     "output_type": "display_data"
    }
   ],
   "source": [
    "sns.displot(dfPCL.pcl_An)"
   ]
  },
  {
   "cell_type": "code",
   "execution_count": 36,
   "metadata": {},
   "outputs": [],
   "source": [
    "groups = [\"CC\", \"PTSD\"]\n",
    "dfpcl_amg = pd.merge(dfPCL, amg_ud)\n",
    "dfpcl_amg = dfpcl_amg[dfpcl_amg.group.isin(groups)]"
   ]
  },
  {
   "cell_type": "markdown",
   "metadata": {},
   "source": [
    "## Use function to get both R and CI\n",
    " - consider using pyStan for that also"
   ]
  },
  {
   "cell_type": "code",
   "execution_count": 37,
   "metadata": {},
   "outputs": [],
   "source": [
    "def pearsonr_ci(x,y,alpha=0.05):\n",
    "    from scipy import stats\n",
    "    ''' calculate Pearson correlation along with the confidence interval using scipy and numpy\n",
    "    Parameters\n",
    "    ----------\n",
    "    x, y : iterable object such as a list or np.array\n",
    "      Input for correlation calculation\n",
    "    alpha : float\n",
    "      Significance level. 0.05 by default\n",
    "    Returns\n",
    "    -------\n",
    "    r : float\n",
    "      Pearson's correlation coefficient\n",
    "    pval : float\n",
    "      The corresponding p value\n",
    "    lo, hi : float\n",
    "      The lower and upper bound of confidence intervals\n",
    "    '''\n",
    "\n",
    "    r, p = stats.pearsonr(x,y)\n",
    "    r_z = np.arctanh(r)\n",
    "    se = 1/np.sqrt(x.size-3)\n",
    "    z = stats.norm.ppf(1-alpha/2)\n",
    "    lo_z, hi_z = r_z-z*se, r_z+z*se\n",
    "    lo, hi = np.tanh((lo_z, hi_z))\n",
    "    return r, p, lo, hi"
   ]
  },
  {
   "cell_type": "code",
   "execution_count": 38,
   "metadata": {},
   "outputs": [
    {
     "data": {
      "text/plain": [
       "(-0.3692570110822445,\n",
       " 0.024502184155839955,\n",
       " -0.6191919831452722,\n",
       " -0.05138618485705924)"
      ]
     },
     "execution_count": 38,
     "metadata": {},
     "output_type": "execute_result"
    }
   ],
   "source": [
    "## Correlation to two groups\n",
    "pearsonr_ci(dfpcl_amg['pcl_An'], dfpcl_amg['amygdala'])"
   ]
  },
  {
   "cell_type": "code",
   "execution_count": 39,
   "metadata": {},
   "outputs": [
    {
     "data": {
      "text/plain": [
       "(-0.6289964978630235,\n",
       " 0.005167002239116961,\n",
       " -0.8471057893020598,\n",
       " -0.22953017225277894)"
      ]
     },
     "execution_count": 39,
     "metadata": {},
     "output_type": "execute_result"
    }
   ],
   "source": [
    "## correlation only for PTSD group\n",
    "dfpcl_ptsd = dfpcl_amg[dfpcl_amg.group=='PTSD']\n",
    "pearsonr_ci(dfpcl_ptsd['pcl_An'], dfpcl_ptsd['amygdala'])"
   ]
  },
  {
   "cell_type": "code",
   "execution_count": 40,
   "metadata": {},
   "outputs": [
    {
     "data": {
      "text/plain": [
       "(0.038900801355087083,\n",
       " 0.8743684316829895,\n",
       " -0.42277860469622414,\n",
       " 0.48454854846476236)"
      ]
     },
     "execution_count": 40,
     "metadata": {},
     "output_type": "execute_result"
    }
   ],
   "source": [
    "## correlation only for Combat Controls group\n",
    "dfpcl_cc = dfpcl_amg[dfpcl_amg.group=='CC']\n",
    "pearsonr_ci(dfpcl_cc['pcl_An'], dfpcl_cc['amygdala'])"
   ]
  },
  {
   "cell_type": "markdown",
   "metadata": {},
   "source": [
    "## generate publication plots"
   ]
  },
  {
   "cell_type": "code",
   "execution_count": 41,
   "metadata": {},
   "outputs": [
    {
     "data": {
      "image/png": "[encoded data removed]",
      "text/plain": [
       "<Figure size 500x400 with 2 Axes>"
      ]
     },
     "execution_count": 41,
     "metadata": {},
     "output_type": "execute_result"
    },
    {
     "data": {
      "image/png": "[encoded data removed]",
      "text/plain": [
       "<Figure size 500x400 with 2 Axes>"
      ]
     },
     "metadata": {
      "needs_background": "light"
     },
     "output_type": "display_data"
    }
   ],
   "source": [
    "import dabest\n",
    "groups = [\"CC\", \"PTSD\"]\n",
    "dgr = dfAll[dfAll.group.isin(groups)]\n",
    "\n",
    "# load our data to dabest to produce graphs\n",
    "dgr = dgr.rename(columns={\"amygdala\": \"Amygdala activation CS+US minus CS+\", \"group\": \"Group\"})\n",
    "dgr_dabest = dabest.load(data=dgr, x='Group', y='Amygdala activation CS+US minus CS+', \n",
    "                                  idx=('CC','PTSD'), ci=90)\n",
    "dgr_dabest.mean_diff.plot()"
   ]
  },
  {
   "cell_type": "code",
   "execution_count": 42,
   "metadata": {},
   "outputs": [
    {
     "data": {
      "image/png": "[encoded data removed]",
      "text/plain": [
       "<Figure size 422x360 with 1 Axes>"
      ]
     },
     "metadata": {
      "needs_background": "light"
     },
     "output_type": "display_data"
    }
   ],
   "source": [
    "fgrid = sns.lmplot(x='pcl_An', y='amygdala',hue='group', data=dfpcl_amg, ci = None)\n",
    "               #legend_out = True)\n",
    "# need to add annotation- because its like facet grid we need to set each axis\n",
    "ax1 = fgrid.axes[0,0]\n",
    "    #Remove legend title\n",
    "ax1.set_xlim(-1,13)\n",
    "#Set labels of x and y axis\n",
    "fgrid.set(xlabel='Anhedonia PCL-C', ylabel='Amygdala activation CS+US minus CS+')\n",
    "ax1.text(8, .3, \"r=-0.57, p<0.05\", horizontalalignment='left', size='large', color='black')#, weight='semibold')\n",
    "ax1.text(8, .85, \"r=0.08, N.S\", horizontalalignment='left', size='large', color='black')#, weight='semibold')\n",
    "\n",
    "fgrid._legend.set_title('')\n",
    "#ax.annotate(\"An annotation\")#, horizontalalignment='left', size='medium', color='black', weight='semibold')\n"
   ]
  },
  {
   "cell_type": "code",
   "execution_count": 43,
   "metadata": {},
   "outputs": [
    {
     "data": {
      "text/plain": [
       "Text(6, 0.3, 'r=-0.37, p<0.05')"
      ]
     },
     "execution_count": 43,
     "metadata": {},
     "output_type": "execute_result"
    },
    {
     "data": {
      "image/png": "[encoded data removed]",
      "text/plain": [
       "<Figure size 360x360 with 1 Axes>"
      ]
     },
     "metadata": {
      "needs_background": "light"
     },
     "output_type": "display_data"
    }
   ],
   "source": [
    "# Graph both groups\n",
    "fgrid = sns.lmplot(x='pcl_An', y='amygdala', data=dfpcl_amg, ci = None)\n",
    "               #legend_out = True)\n",
    "# need to add annotation- because its like facet grid we need to set each axis\n",
    "ax1 = fgrid.axes[0,0]\n",
    "    #Remove legend title\n",
    "ax1.set_xlim(-1,13)\n",
    "#Set labels of x and y axis\n",
    "fgrid.set(xlabel='Anhedonia PCL-5', ylabel='Amygdala activation CS+US minus CS+')\n",
    "ax1.text(6, .3, \"r=-0.37, p<0.05\", horizontalalignment='left', size='large', color='black')#, weight='semibold')\n",
    "\n",
    "\n",
    "#fgrid._legend.set_title('')"
   ]
  },
  {
   "cell_type": "code",
   "execution_count": 53,
   "metadata": {},
   "outputs": [
    {
     "data": {
      "text/plain": [
       "(-1.7640552997493935, 2.3994097519506745, -4.307008402837419, 0.0)"
      ]
     },
     "execution_count": 53,
     "metadata": {},
     "output_type": "execute_result"
    }
   ],
   "source": [
    "rub = scipy.stats.theilslopes(y=dfpcl_amg.pcl_An.values, x=dfpcl_amg.amygdala.values, alpha=0.9)\n",
    "rub"
   ]
  },
  {
   "cell_type": "code",
   "execution_count": 56,
   "metadata": {},
   "outputs": [
    {
     "name": "stderr",
     "output_type": "stream",
     "text": [
      "/home/or/miniconda3/envs/neuroAnalysis/lib/python3.7/site-packages/seaborn/_decorators.py:43: FutureWarning: Pass the following variables as keyword args: x, y. From version 0.12, the only valid positional argument will be `data`, and passing other arguments without an explicit keyword will result in an error or misinterpretation.\n",
      "  FutureWarning\n"
     ]
    },
    {
     "data": {
      "text/plain": [
       "[Text(0, 0.5, 'Anhedonia PCL-5'),\n",
       " Text(0.5, 0, 'Amygdala activation CS+US minus CS+')]"
      ]
     },
     "execution_count": 56,
     "metadata": {},
     "output_type": "execute_result"
    },
    {
     "data": {
      "image/png": "[encoded data removed]",
      "text/plain": [
       "<Figure size 360x288 with 1 Axes>"
      ]
     },
     "metadata": {
      "needs_background": "light"
     },
     "output_type": "display_data"
    }
   ],
   "source": [
    "# plot a line based on the robust regression\n",
    "plt.figure(figsize=(5,4))\n",
    "line = rub[1] + rub[0]*dfpcl_amg.amygdala\n",
    "fgrid = sns.scatterplot(y='pcl_An', x='amygdala',data=dfpcl_amg, alpha=0.8)\n",
    "#plt.plot(dfpcl_amg.amygdala, line)#,alpha = 0.8)\n",
    "sns.lineplot(dfpcl_amg.amygdala, line)\n",
    "fgrid.set(ylabel='Anhedonia PCL-5', xlabel='Amygdala activation CS+US minus CS+')"
   ]
  },
  {
   "cell_type": "markdown",
   "metadata": {},
   "source": [
    "## Robust regression using Stan"
   ]
  },
  {
   "cell_type": "code",
   "execution_count": 46,
   "metadata": {},
   "outputs": [],
   "source": [
    "data =  {'N': len(dfpcl_amg), 'x': dfpcl_amg['amygdala'].values, 'y': dfpcl_amg['pcl_An'].values}\n",
    "sm_robust = cmdstanpy.CmdStanModel(stan_file='Stan_model/robust_reg.stan')\n"
   ]
  },
  {
   "cell_type": "code",
   "execution_count": 47,
   "metadata": {},
   "outputs": [],
   "source": [
    "fit_robust_reg = sm_robust.sample(\n",
    "  data = data,\n",
    "  chains = 4,\n",
    "  iter_warmup = 1000,\n",
    "  iter_sampling = 1000,\n",
    "  adapt_delta = .9,\n",
    "  #inits = 0.2,\n",
    ")"
   ]
  },
  {
   "cell_type": "code",
   "execution_count": 48,
   "metadata": {},
   "outputs": [
    {
     "data": {
      "text/html": [
       "<div>\n",
       "<style scoped>\n",
       "    .dataframe tbody tr th:only-of-type {\n",
       "        vertical-align: middle;\n",
       "    }\n",
       "\n",
       "    .dataframe tbody tr th {\n",
       "        vertical-align: top;\n",
       "    }\n",
       "\n",
       "    .dataframe thead th {\n",
       "        text-align: right;\n",
       "    }\n",
       "</style>\n",
       "<table border=\"1\" class=\"dataframe\">\n",
       "  <thead>\n",
       "    <tr style=\"text-align: right;\">\n",
       "      <th></th>\n",
       "      <th>Mean</th>\n",
       "      <th>MCSE</th>\n",
       "      <th>StdDev</th>\n",
       "      <th>5%</th>\n",
       "      <th>50%</th>\n",
       "      <th>95%</th>\n",
       "      <th>N_Eff</th>\n",
       "      <th>N_Eff/s</th>\n",
       "      <th>R_hat</th>\n",
       "    </tr>\n",
       "    <tr>\n",
       "      <th>name</th>\n",
       "      <th></th>\n",
       "      <th></th>\n",
       "      <th></th>\n",
       "      <th></th>\n",
       "      <th></th>\n",
       "      <th></th>\n",
       "      <th></th>\n",
       "      <th></th>\n",
       "      <th></th>\n",
       "    </tr>\n",
       "  </thead>\n",
       "  <tbody>\n",
       "    <tr>\n",
       "      <th>lp__</th>\n",
       "      <td>-76.0</td>\n",
       "      <td>0.046</td>\n",
       "      <td>1.50</td>\n",
       "      <td>-79.0</td>\n",
       "      <td>-76.0</td>\n",
       "      <td>-74.00</td>\n",
       "      <td>1000.0</td>\n",
       "      <td>5600.0</td>\n",
       "      <td>1.0</td>\n",
       "    </tr>\n",
       "    <tr>\n",
       "      <th>alpha</th>\n",
       "      <td>4.2</td>\n",
       "      <td>0.020</td>\n",
       "      <td>0.76</td>\n",
       "      <td>3.0</td>\n",
       "      <td>4.2</td>\n",
       "      <td>5.50</td>\n",
       "      <td>1500.0</td>\n",
       "      <td>7800.0</td>\n",
       "      <td>1.0</td>\n",
       "    </tr>\n",
       "    <tr>\n",
       "      <th>beta</th>\n",
       "      <td>-2.6</td>\n",
       "      <td>0.032</td>\n",
       "      <td>1.20</td>\n",
       "      <td>-4.6</td>\n",
       "      <td>-2.6</td>\n",
       "      <td>-0.55</td>\n",
       "      <td>1500.0</td>\n",
       "      <td>7900.0</td>\n",
       "      <td>1.0</td>\n",
       "    </tr>\n",
       "    <tr>\n",
       "      <th>sigma</th>\n",
       "      <td>3.4</td>\n",
       "      <td>0.011</td>\n",
       "      <td>0.48</td>\n",
       "      <td>2.7</td>\n",
       "      <td>3.3</td>\n",
       "      <td>4.30</td>\n",
       "      <td>1800.0</td>\n",
       "      <td>9800.0</td>\n",
       "      <td>1.0</td>\n",
       "    </tr>\n",
       "    <tr>\n",
       "      <th>nu</th>\n",
       "      <td>22.0</td>\n",
       "      <td>0.450</td>\n",
       "      <td>14.00</td>\n",
       "      <td>5.9</td>\n",
       "      <td>19.0</td>\n",
       "      <td>49.00</td>\n",
       "      <td>980.0</td>\n",
       "      <td>5300.0</td>\n",
       "      <td>1.0</td>\n",
       "    </tr>\n",
       "  </tbody>\n",
       "</table>\n",
       "</div>"
      ],
      "text/plain": [
       "       Mean   MCSE  StdDev    5%   50%    95%   N_Eff  N_Eff/s  R_hat\n",
       "name                                                                 \n",
       "lp__  -76.0  0.046    1.50 -79.0 -76.0 -74.00  1000.0   5600.0    1.0\n",
       "alpha   4.2  0.020    0.76   3.0   4.2   5.50  1500.0   7800.0    1.0\n",
       "beta   -2.6  0.032    1.20  -4.6  -2.6  -0.55  1500.0   7900.0    1.0\n",
       "sigma   3.4  0.011    0.48   2.7   3.3   4.30  1800.0   9800.0    1.0\n",
       "nu     22.0  0.450   14.00   5.9  19.0  49.00   980.0   5300.0    1.0"
      ]
     },
     "execution_count": 48,
     "metadata": {},
     "output_type": "execute_result"
    }
   ],
   "source": [
    "fit_robust_reg.summary()"
   ]
  },
  {
   "cell_type": "code",
   "execution_count": 50,
   "metadata": {},
   "outputs": [
    {
     "data": {
      "image/png": "[encoded data removed]",
      "text/plain": [
       "<Figure size 576x288 with 1 Axes>"
      ]
     },
     "metadata": {
      "needs_background": "light"
     },
     "output_type": "display_data"
    }
   ],
   "source": [
    "## Create a table\n",
    "df_fit = fit_robust_reg.summary()\n",
    "plt.rcParams[\"figure.figsize\"] = [8, 4]\n",
    "fig, ax =plt.subplots(1,1)\n",
    "ax.axis('tight')\n",
    "ax.axis('off')\n",
    "the_table = ax.table(cellText=df_fit.values,colLabels=df_fit.columns,\n",
    "         rowLabels=[\"lp_\",\"alpha\",\"beta\", \"sigma\", \"nu\"],loc=\"center\")\n",
    "the_table.auto_set_font_size(False)\n",
    "the_table.set_fontsize(10)"
   ]
  },
  {
   "cell_type": "code",
   "execution_count": null,
   "metadata": {},
   "outputs": [],
   "source": [
    "## calculating mean SCR\n",
    "meanSCR = pd.read_csv('meanSCR.csv')\n",
    "meanSCR.head()"
   ]
  },
  {
   "cell_type": "code",
   "execution_count": null,
   "metadata": {},
   "outputs": [],
   "source": [
    "sns.boxplot(y='meanSCR',x='group', data=meanSCR, orient='v')\n",
    "plt.show()\n",
    "scipy.stats.ttest_ind(meanSCR.meanSCR[meanSCR.group=='CC'],meanSCR.meanSCR[meanSCR.group=='PTSD'] )"
   ]
  },
  {
   "cell_type": "markdown",
   "metadata": {},
   "source": [
    "Comparing groups in mean SCR response"
   ]
  },
  {
   "cell_type": "code",
   "execution_count": null,
   "metadata": {},
   "outputs": [],
   "source": [
    "print(meanSCR.meanSCR[meanSCR.group=='CC'].mean())\n",
    "print(meanSCR.meanSCR[meanSCR.group=='CC'].std())"
   ]
  },
  {
   "cell_type": "code",
   "execution_count": null,
   "metadata": {},
   "outputs": [],
   "source": [
    "print(meanSCR.meanSCR[meanSCR.group=='PTSD'].mean())\n",
    "print(meanSCR.meanSCR[meanSCR.group=='PTSD'].std())"
   ]
  },
  {
   "cell_type": "markdown",
   "metadata": {},
   "source": [
    "## Behavior comparison - Anhedonia, PCL and CAPS"
   ]
  },
  {
   "cell_type": "code",
   "execution_count": null,
   "metadata": {},
   "outputs": [],
   "source": [
    "## PCL Anhedonia\n",
    "print(f'CC group mean {dfpcl_cc.pcl_An.mean()} and std {dfpcl_cc.pcl_An.std()}')\n",
    "print(f'PTSD group mean {dfpcl_ptsd.pcl_An.mean()} and std {dfpcl_ptsd.pcl_An.std()}')\n",
    "scipy.stats.ttest_ind(dfpcl_amg.pcl_An[dfpcl_amg.group=='PTSD'], dfpcl_amg.pcl_An[dfpcl_amg.group=='CC'])"
   ]
  },
  {
   "cell_type": "code",
   "execution_count": null,
   "metadata": {},
   "outputs": [],
   "source": [
    "## PCL total\n",
    "print(f'CC group mean {dfpcl_cc.pcl_total.mean()} and std {dfpcl_cc.pcl_total.std()}')\n",
    "print(f'PTSD group mean {dfpcl_ptsd.pcl_total.mean()} and std {dfpcl_ptsd.pcl_total.std()}')\n",
    "scipy.stats.ttest_ind(dfpcl_amg.pcl_total[dfpcl_amg.group=='PTSD'], dfpcl_amg.pcl_total[dfpcl_amg.group=='CC'])"
   ]
  },
  {
   "cell_type": "code",
   "execution_count": null,
   "metadata": {},
   "outputs": [],
   "source": [
    "## CAPS\n",
    "capsDF = pd.read_csv('CAPSScores.csv')\n",
    "#capsDF = capsDF.rename(columns={\"subject_id\": \"subject\"})\n",
    "for i in capsDF.iterrows():\n",
    "    \n",
    "    try:\n",
    "        sub = i[1].subject.split('RCF')[1]\n",
    "        capsDF.at[i[0], 'subject'] = sub\n",
    "    except:\n",
    "        print('no')"
   ]
  },
  {
   "cell_type": "code",
   "execution_count": null,
   "metadata": {},
   "outputs": [],
   "source": [
    "capsD = pd.merge(capsDF, amg_ud )"
   ]
  },
  {
   "cell_type": "code",
   "execution_count": null,
   "metadata": {},
   "outputs": [],
   "source": [
    "## PCL total\n",
    "#print(f'CC group mean {} and std {capsD.caps_totalscorel[capsD.group=='CC'].std()}')\n",
    "#print(f'PTSD group mean {capsD.caps_totalscorel.mean()} and std {capsD.caps_totalscorel.std()}')\n",
    "scipy.stats.ttest_ind(capsD.caps_totalscorel[capsD.group=='PTSD'], capsD.caps_totalscorel[capsD.group=='CC'])"
   ]
  },
  {
   "cell_type": "code",
   "execution_count": null,
   "metadata": {},
   "outputs": [],
   "source": [
    "print(capsD.caps_totalscorel[capsD.group=='CC'].mean())\n",
    "print(capsD.caps_totalscorel[capsD.group=='CC'].std())"
   ]
  },
  {
   "cell_type": "code",
   "execution_count": null,
   "metadata": {},
   "outputs": [],
   "source": [
    "print(capsD.caps_totalscorem[capsD.group=='CC'].mean())\n",
    "print(capsD.caps_totalscorem[capsD.group=='CC'].std())"
   ]
  },
  {
   "cell_type": "code",
   "execution_count": null,
   "metadata": {},
   "outputs": [],
   "source": [
    "scipy.stats.ttest_ind(capsD.caps_totalscorem[capsD.group=='PTSD'], capsD.caps_totalscorem[capsD.group=='CC'])"
   ]
  },
  {
   "cell_type": "markdown",
   "metadata": {},
   "source": [
    "## Bayes factor - \n",
    "- We use rpy2 to call for the R package BayesFactor\n",
    "- Entering the simple T test to get the BF"
   ]
  },
  {
   "cell_type": "code",
   "execution_count": null,
   "metadata": {},
   "outputs": [],
   "source": [
    "from rpy2.robjects.packages import importr\n",
    "bf = importr(\"BayesFactor\")"
   ]
  },
  {
   "cell_type": "code",
   "execution_count": null,
   "metadata": {},
   "outputs": [],
   "source": [
    "# Calculate SCR response\n",
    "a = bf.ttest_tstat(t=1.07, n1=18, n2=19)"
   ]
  },
  {
   "cell_type": "code",
   "execution_count": null,
   "metadata": {},
   "outputs": [],
   "source": [
    "1/np.exp(a[0])"
   ]
  },
  {
   "cell_type": "code",
   "execution_count": null,
   "metadata": {},
   "outputs": [],
   "source": [
    "# calculate shock levels\n",
    "1/np.exp(bf.ttest_tstat(t=0.42, n1=16, n2=14)[0])"
   ]
  },
  {
   "cell_type": "code",
   "execution_count": null,
   "metadata": {},
   "outputs": [],
   "source": [
    "# calculate CAPS lifetime\n",
    "1/np.exp(bf.ttest_tstat(t=12.46, n1=18, n2=19)[0])"
   ]
  },
  {
   "cell_type": "code",
   "execution_count": null,
   "metadata": {},
   "outputs": [],
   "source": [
    "# calculate CAPS last month\n",
    "1/np.exp(bf.ttest_tstat(t=12.51, n1=18, n2=19)[0])"
   ]
  },
  {
   "cell_type": "code",
   "execution_count": null,
   "metadata": {},
   "outputs": [],
   "source": [
    "# calculate PCL anhedonia\n",
    "1/np.exp(bf.ttest_tstat(t=4.5, n1=18, n2=19)[0])"
   ]
  },
  {
   "cell_type": "code",
   "execution_count": null,
   "metadata": {},
   "outputs": [],
   "source": [
    "# calculate PCL total\n",
    "1/np.exp(bf.ttest_tstat(t=5.16, n1=18, n2=19)[0])"
   ]
  },
  {
   "cell_type": "code",
   "execution_count": null,
   "metadata": {},
   "outputs": [],
   "source": [
    "# calculate Age\n",
    "1/np.exp(bf.ttest_tstat(t=0.92, n1=18, n2=19)[0])"
   ]
  },
  {
   "cell_type": "markdown",
   "metadata": {},
   "source": [
    "## compare if there's significant difference between correlations of CC and PTSD with anhedonia"
   ]
  },
  {
   "cell_type": "code",
   "execution_count": null,
   "metadata": {},
   "outputs": [],
   "source": [
    "from corrstats import independent_corr\n",
    "checkCorr = independent_corr(-0.57, 0.08, n=18, n2 = 19, twotailed=True,\n",
    "                             conf_level=0.95, method='fisher')\n",
    "print(f'Correlation difference between CC and PTSD with anhedonia is {checkCorr}')"
   ]
  },
  {
   "cell_type": "code",
   "execution_count": null,
   "metadata": {},
   "outputs": [],
   "source": [
    "# save amygdala and other file as csv\n",
    "dfpcl_amg.to_csv('amygdala_pcl_RCF.csv', index=False)"
   ]
  }
 ],
 "metadata": {
  "kernelspec": {
   "display_name": "Python 3",
   "language": "python",
   "name": "python3"
  },
  "language_info": {
   "codemirror_mode": {
    "name": "ipython",
    "version": 3
   },
   "file_extension": ".py",
   "mimetype": "text/x-python",
   "name": "python",
   "nbconvert_exporter": "python",
   "pygments_lexer": "ipython3",
   "version": "3.7.7"
  }
 },
 "nbformat": 4,
 "nbformat_minor": 4
}

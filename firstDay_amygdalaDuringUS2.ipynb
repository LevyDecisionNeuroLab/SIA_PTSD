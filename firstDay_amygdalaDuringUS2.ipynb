{
 "cells": [
  {
   "cell_type": "markdown",
   "metadata": {},
   "source": [
    "## Analysis of 1st day in the RCF study\n",
    "Checking amygdala activation in the CS+US condition of the task\n",
    "- masking amygdala\n",
    "- avergaing activation\n",
    "- plot"
   ]
  },
  {
   "cell_type": "code",
   "execution_count": 3,
   "metadata": {},
   "outputs": [
    {
     "name": "stderr",
     "output_type": "stream",
     "text": [
      "/home/or/miniconda3/envs/neuroAnalysis/lib/python3.7/site-packages/nilearn/datasets/__init__.py:89: FutureWarning: Fetchers from the nilearn.datasets module will be updated in version 0.9 to return python strings instead of bytes and Pandas dataframes instead of Numpy arrays.\n",
      "  \"Numpy arrays.\", FutureWarning)\n"
     ]
    }
   ],
   "source": [
    "# load libraries\n",
    "import glob\n",
    "import pandas as pd\n",
    "import numpy as np\n",
    "import nilearn\n",
    "import nilearn.plotting\n",
    "import nilearn.input_data\n",
    "import matplotlib.pyplot as plt\n",
    "import seaborn as sns\n",
    "import scipy\n",
    "import cmdstanpy"
   ]
  },
  {
   "cell_type": "code",
   "execution_count": 4,
   "metadata": {},
   "outputs": [
    {
     "data": {
      "text/plain": [
       "37"
      ]
     },
     "execution_count": 4,
     "metadata": {},
     "output_type": "execute_result"
    }
   ],
   "source": [
    "## Screening subjects by SCR as Nachshon analyzed - 67% as US:\n",
    "subject_list = ['029','040','1074','1205','1223','1237','1245','1247',\n",
    "               '1280','1301','1337','1350','1359','1374','1392','020',\n",
    "               '1072','1099','1206','1212','1216','1258','1266','1268',\n",
    "               '1320','1340','1345','1346','1362','1379','1393','1457','1460',\n",
    "               '1373','1272','1291','1309'] # '1269','1271','1319', '1220','1376',\n",
    "len(subject_list)"
   ]
  },
  {
   "cell_type": "code",
   "execution_count": 5,
   "metadata": {},
   "outputs": [
    {
     "name": "stderr",
     "output_type": "stream",
     "text": [
      "/home/or/miniconda3/envs/neuroAnalysis/lib/python3.7/site-packages/nilearn/_utils/helpers.py:145: FutureWarning: The parameter \"sessions\" will be removed in 0.9.0 release of Nilearn. Please use the parameter \"runs\" instead.\n",
      "  return func(*args, **kwargs)\n"
     ]
    },
    {
     "data": {
      "image/png": "[encoded data removed]",
      "text/plain": [
       "<Figure size 475.2x187.2 with 4 Axes>"
      ]
     },
     "metadata": {},
     "output_type": "display_data"
    }
   ],
   "source": [
    "# load mask\n",
    "mask_file = 'amygdala_association-test_z_FDR_0.01.nii.gz'\n",
    "mask_file = nilearn.image.math_img(\"a>=20\", a=mask_file)\n",
    "%matplotlib inline\n",
    "nilearn.plotting.plot_roi(mask_file)\n",
    "\n",
    "# create a masker \n",
    "fwhm = 4\n",
    "masker = nilearn.input_data.NiftiMasker(mask_img=mask_file, \n",
    "                               sessions=None, smoothing_fwhm=fwhm, standardize=False, \n",
    "                                        detrend=False, verbose=5)"
   ]
  },
  {
   "cell_type": "code",
   "execution_count": 6,
   "metadata": {},
   "outputs": [],
   "source": [
    "#us_cond = '/media/Data/work/RCF_FSLNoScrub/Sink_respNOScrub/1stLevel/_subject_id_{sub}/_modelestimate0/results/cope{cope_num}.nii.gz'\n",
    "us_cond = '/media/Data/work/RCF_FSLNoScrub/Sink_respNOScrub/1stLevel/_subject_id_{sub}/_modelestimate0/results/zstat{cope_num}.nii.gz'\n",
    "cope_num =  4#taking shock vs. noshock\n"
   ]
  },
  {
   "cell_type": "code",
   "execution_count": null,
   "metadata": {
    "scrolled": true
   },
   "outputs": [],
   "source": [
    "us = []\n",
    "timeseriesAmg = []\n",
    "counter = 1 # set counter to give percentage of progress\n",
    "for sub in subject_list:\n",
    "   # try:\n",
    "    func = us_cond.format(sub=sub, cope_num= cope_num)\n",
    "    print(func)\n",
    "    sub = func.split('id_')[1].split('/')[0]\n",
    "    print(sub)\n",
    "    print(f'\\nFinished {counter/len(subject_list)*100}% of subjects')\n",
    "    counter = counter +1 \n",
    "    # amygdala\n",
    "    tArr = masker.fit_transform(func)\n",
    "    meanT = np.mean(tArr,axis=1)\n",
    "    sem = scipy.stats.sem(tArr, axis=1)\n",
    "    std = np.std(tArr, axis=1)\n",
    "    \n",
    "\n",
    "    # create datafram for the timeseries\n",
    "    dfTS = {'subject':sub, 'ts':tArr[0]}\n",
    "    # create dataframe for the mean activation\n",
    "    df = {'subject':sub, 'amygdala':meanT[0], 'amgsem':sem[0], 'amgstd':std[0]}\n",
    "    #df['subject'] = sub\n",
    "    us.append(df)\n",
    "    timeseriesAmg.append(dfTS)\n",
    "    #except:\n",
    "     #   print(f'Subject {sub} has no data')\n",
    "amg_ud = pd.DataFrame(us)\n",
    "tsDf = pd.DataFrame(timeseriesAmg)"
   ]
  },
  {
   "cell_type": "code",
   "execution_count": 8,
   "metadata": {},
   "outputs": [
    {
     "data": {
      "text/html": [
       "<div>\n",
       "<style scoped>\n",
       "    .dataframe tbody tr th:only-of-type {\n",
       "        vertical-align: middle;\n",
       "    }\n",
       "\n",
       "    .dataframe tbody tr th {\n",
       "        vertical-align: top;\n",
       "    }\n",
       "\n",
       "    .dataframe thead th {\n",
       "        text-align: right;\n",
       "    }\n",
       "</style>\n",
       "<table border=\"1\" class=\"dataframe\">\n",
       "  <thead>\n",
       "    <tr style=\"text-align: right;\">\n",
       "      <th></th>\n",
       "      <th>subject</th>\n",
       "      <th>amygdala</th>\n",
       "      <th>amgsem</th>\n",
       "      <th>amgstd</th>\n",
       "    </tr>\n",
       "  </thead>\n",
       "  <tbody>\n",
       "    <tr>\n",
       "      <th>0</th>\n",
       "      <td>029</td>\n",
       "      <td>0.480097</td>\n",
       "      <td>0.027650</td>\n",
       "      <td>0.843667</td>\n",
       "    </tr>\n",
       "    <tr>\n",
       "      <th>1</th>\n",
       "      <td>040</td>\n",
       "      <td>0.470255</td>\n",
       "      <td>0.022986</td>\n",
       "      <td>0.701370</td>\n",
       "    </tr>\n",
       "    <tr>\n",
       "      <th>2</th>\n",
       "      <td>1074</td>\n",
       "      <td>0.045975</td>\n",
       "      <td>0.026153</td>\n",
       "      <td>0.797999</td>\n",
       "    </tr>\n",
       "    <tr>\n",
       "      <th>3</th>\n",
       "      <td>1205</td>\n",
       "      <td>0.679076</td>\n",
       "      <td>0.020865</td>\n",
       "      <td>0.636649</td>\n",
       "    </tr>\n",
       "    <tr>\n",
       "      <th>4</th>\n",
       "      <td>1223</td>\n",
       "      <td>0.150069</td>\n",
       "      <td>0.021399</td>\n",
       "      <td>0.652942</td>\n",
       "    </tr>\n",
       "  </tbody>\n",
       "</table>\n",
       "</div>"
      ],
      "text/plain": [
       "  subject  amygdala    amgsem    amgstd\n",
       "0     029  0.480097  0.027650  0.843667\n",
       "1     040  0.470255  0.022986  0.701370\n",
       "2    1074  0.045975  0.026153  0.797999\n",
       "3    1205  0.679076  0.020865  0.636649\n",
       "4    1223  0.150069  0.021399  0.652942"
      ]
     },
     "execution_count": 8,
     "metadata": {},
     "output_type": "execute_result"
    }
   ],
   "source": [
    "amg_ud.head()"
   ]
  },
  {
   "cell_type": "markdown",
   "metadata": {},
   "source": [
    "## look at group differences"
   ]
  },
  {
   "cell_type": "code",
   "execution_count": 9,
   "metadata": {},
   "outputs": [
    {
     "data": {
      "text/html": [
       "<div>\n",
       "<style scoped>\n",
       "    .dataframe tbody tr th:only-of-type {\n",
       "        vertical-align: middle;\n",
       "    }\n",
       "\n",
       "    .dataframe tbody tr th {\n",
       "        vertical-align: top;\n",
       "    }\n",
       "\n",
       "    .dataframe thead th {\n",
       "        text-align: right;\n",
       "    }\n",
       "</style>\n",
       "<table border=\"1\" class=\"dataframe\">\n",
       "  <thead>\n",
       "    <tr style=\"text-align: right;\">\n",
       "      <th></th>\n",
       "      <th>group</th>\n",
       "      <th>subject</th>\n",
       "    </tr>\n",
       "  </thead>\n",
       "  <tbody>\n",
       "    <tr>\n",
       "      <th>0</th>\n",
       "      <td>PTSD</td>\n",
       "      <td>035</td>\n",
       "    </tr>\n",
       "    <tr>\n",
       "      <th>1</th>\n",
       "      <td>CC</td>\n",
       "      <td>011</td>\n",
       "    </tr>\n",
       "    <tr>\n",
       "      <th>2</th>\n",
       "      <td>PTSD</td>\n",
       "      <td>040</td>\n",
       "    </tr>\n",
       "    <tr>\n",
       "      <th>3</th>\n",
       "      <td>PTSD</td>\n",
       "      <td>029</td>\n",
       "    </tr>\n",
       "    <tr>\n",
       "      <th>4</th>\n",
       "      <td>CC</td>\n",
       "      <td>020</td>\n",
       "    </tr>\n",
       "  </tbody>\n",
       "</table>\n",
       "</div>"
      ],
      "text/plain": [
       "  group subject\n",
       "0  PTSD     035\n",
       "1    CC     011\n",
       "2  PTSD     040\n",
       "3  PTSD     029\n",
       "4    CC     020"
      ]
     },
     "execution_count": 9,
     "metadata": {},
     "output_type": "execute_result"
    }
   ],
   "source": [
    "groupDF = pd.read_csv('groups.csv')\n",
    "groupDF['subject'] = groupDF['subject'].astype(int).astype(str)\n",
    "for i in groupDF.iterrows():\n",
    "    # change two numbers to three\n",
    "    if len(i[1].subject) < 4:\n",
    "        groupDF.at[i[0],'subject'] = '0' + i[1].subject\n",
    "\n",
    "\n",
    "groupDF.head()"
   ]
  },
  {
   "cell_type": "code",
   "execution_count": 10,
   "metadata": {},
   "outputs": [
    {
     "data": {
      "text/html": [
       "<div>\n",
       "<style scoped>\n",
       "    .dataframe tbody tr th:only-of-type {\n",
       "        vertical-align: middle;\n",
       "    }\n",
       "\n",
       "    .dataframe tbody tr th {\n",
       "        vertical-align: top;\n",
       "    }\n",
       "\n",
       "    .dataframe thead th {\n",
       "        text-align: right;\n",
       "    }\n",
       "</style>\n",
       "<table border=\"1\" class=\"dataframe\">\n",
       "  <thead>\n",
       "    <tr style=\"text-align: right;\">\n",
       "      <th></th>\n",
       "      <th>subject</th>\n",
       "    </tr>\n",
       "    <tr>\n",
       "      <th>group</th>\n",
       "      <th></th>\n",
       "    </tr>\n",
       "  </thead>\n",
       "  <tbody>\n",
       "    <tr>\n",
       "      <th>CC</th>\n",
       "      <td>26</td>\n",
       "    </tr>\n",
       "    <tr>\n",
       "      <th>PTSD</th>\n",
       "      <td>27</td>\n",
       "    </tr>\n",
       "  </tbody>\n",
       "</table>\n",
       "</div>"
      ],
      "text/plain": [
       "       subject\n",
       "group         \n",
       "CC          26\n",
       "PTSD        27"
      ]
     },
     "execution_count": 10,
     "metadata": {},
     "output_type": "execute_result"
    }
   ],
   "source": [
    "groupDF.groupby(['group']).count()"
   ]
  },
  {
   "cell_type": "code",
   "execution_count": 11,
   "metadata": {
    "scrolled": true
   },
   "outputs": [
    {
     "data": {
      "text/html": [
       "<div>\n",
       "<style scoped>\n",
       "    .dataframe tbody tr th:only-of-type {\n",
       "        vertical-align: middle;\n",
       "    }\n",
       "\n",
       "    .dataframe tbody tr th {\n",
       "        vertical-align: top;\n",
       "    }\n",
       "\n",
       "    .dataframe thead th {\n",
       "        text-align: right;\n",
       "    }\n",
       "</style>\n",
       "<table border=\"1\" class=\"dataframe\">\n",
       "  <thead>\n",
       "    <tr style=\"text-align: right;\">\n",
       "      <th></th>\n",
       "      <th>group</th>\n",
       "      <th>subject</th>\n",
       "      <th>amygdala</th>\n",
       "      <th>amgsem</th>\n",
       "      <th>amgstd</th>\n",
       "    </tr>\n",
       "  </thead>\n",
       "  <tbody>\n",
       "    <tr>\n",
       "      <th>0</th>\n",
       "      <td>PTSD</td>\n",
       "      <td>040</td>\n",
       "      <td>0.470255</td>\n",
       "      <td>0.022986</td>\n",
       "      <td>0.701370</td>\n",
       "    </tr>\n",
       "    <tr>\n",
       "      <th>1</th>\n",
       "      <td>PTSD</td>\n",
       "      <td>029</td>\n",
       "      <td>0.480097</td>\n",
       "      <td>0.027650</td>\n",
       "      <td>0.843667</td>\n",
       "    </tr>\n",
       "    <tr>\n",
       "      <th>2</th>\n",
       "      <td>CC</td>\n",
       "      <td>020</td>\n",
       "      <td>0.260270</td>\n",
       "      <td>0.022249</td>\n",
       "      <td>0.678866</td>\n",
       "    </tr>\n",
       "    <tr>\n",
       "      <th>3</th>\n",
       "      <td>CC</td>\n",
       "      <td>1072</td>\n",
       "      <td>0.893891</td>\n",
       "      <td>0.022684</td>\n",
       "      <td>0.692152</td>\n",
       "    </tr>\n",
       "    <tr>\n",
       "      <th>4</th>\n",
       "      <td>PTSD</td>\n",
       "      <td>1074</td>\n",
       "      <td>0.045975</td>\n",
       "      <td>0.026153</td>\n",
       "      <td>0.797999</td>\n",
       "    </tr>\n",
       "  </tbody>\n",
       "</table>\n",
       "</div>"
      ],
      "text/plain": [
       "  group subject  amygdala    amgsem    amgstd\n",
       "0  PTSD     040  0.470255  0.022986  0.701370\n",
       "1  PTSD     029  0.480097  0.027650  0.843667\n",
       "2    CC     020  0.260270  0.022249  0.678866\n",
       "3    CC    1072  0.893891  0.022684  0.692152\n",
       "4  PTSD    1074  0.045975  0.026153  0.797999"
      ]
     },
     "execution_count": 11,
     "metadata": {},
     "output_type": "execute_result"
    }
   ],
   "source": [
    "# merge group and stimulus data\n",
    "dfAll = pd.merge(groupDF, amg_ud)\n",
    "dfAll.head()"
   ]
  },
  {
   "cell_type": "code",
   "execution_count": 12,
   "metadata": {
    "scrolled": false
   },
   "outputs": [
    {
     "data": {
      "text/plain": [
       "<AxesSubplot:title={'center':'amygdala'}, xlabel='group', ylabel='amygdala'>"
      ]
     },
     "execution_count": 12,
     "metadata": {},
     "output_type": "execute_result"
    },
    {
     "data": {
      "image/png": "[encoded data removed]",
      "text/plain": [
       "<Figure size 432x288 with 1 Axes>"
      ]
     },
     "metadata": {
      "needs_background": "light"
     },
     "output_type": "display_data"
    }
   ],
   "source": [
    "# Plot barplot to see differences\n",
    "plt.title(\"amygdala\")\n",
    "sns.barplot(x=\"group\", y=\"amygdala\", data=dfAll, ci=68)"
   ]
  },
  {
   "cell_type": "code",
   "execution_count": 14,
   "metadata": {},
   "outputs": [
    {
     "data": {
      "text/plain": [
       "0.03410260419452769"
      ]
     },
     "execution_count": 14,
     "metadata": {},
     "output_type": "execute_result"
    }
   ],
   "source": [
    "# run simple one-tailed t-test\n",
    "t = scipy.stats.ttest_ind(dfAll['amygdala'][dfAll['group']=='CC'],dfAll['amygdala'][dfAll['group']=='PTSD'], \n",
    "                     equal_var = True)\n",
    "\n",
    "# one tailed\n",
    "t[1] /2"
   ]
  },
  {
   "cell_type": "markdown",
   "metadata": {},
   "source": [
    "## Use STAN to check differences"
   ]
  },
  {
   "cell_type": "code",
   "execution_count": 15,
   "metadata": {
    "scrolled": true
   },
   "outputs": [
    {
     "data": {
      "text/html": [
       "<div>\n",
       "<style scoped>\n",
       "    .dataframe tbody tr th:only-of-type {\n",
       "        vertical-align: middle;\n",
       "    }\n",
       "\n",
       "    .dataframe tbody tr th {\n",
       "        vertical-align: top;\n",
       "    }\n",
       "\n",
       "    .dataframe thead th {\n",
       "        text-align: right;\n",
       "    }\n",
       "</style>\n",
       "<table border=\"1\" class=\"dataframe\">\n",
       "  <thead>\n",
       "    <tr style=\"text-align: right;\">\n",
       "      <th></th>\n",
       "      <th>group</th>\n",
       "      <th>subject</th>\n",
       "      <th>amygdala</th>\n",
       "      <th>amgsem</th>\n",
       "      <th>amgstd</th>\n",
       "    </tr>\n",
       "  </thead>\n",
       "  <tbody>\n",
       "    <tr>\n",
       "      <th>0</th>\n",
       "      <td>1</td>\n",
       "      <td>040</td>\n",
       "      <td>0.470255</td>\n",
       "      <td>0.022986</td>\n",
       "      <td>0.701370</td>\n",
       "    </tr>\n",
       "    <tr>\n",
       "      <th>1</th>\n",
       "      <td>1</td>\n",
       "      <td>029</td>\n",
       "      <td>0.480097</td>\n",
       "      <td>0.027650</td>\n",
       "      <td>0.843667</td>\n",
       "    </tr>\n",
       "    <tr>\n",
       "      <th>2</th>\n",
       "      <td>0</td>\n",
       "      <td>020</td>\n",
       "      <td>0.260270</td>\n",
       "      <td>0.022249</td>\n",
       "      <td>0.678866</td>\n",
       "    </tr>\n",
       "    <tr>\n",
       "      <th>3</th>\n",
       "      <td>0</td>\n",
       "      <td>1072</td>\n",
       "      <td>0.893891</td>\n",
       "      <td>0.022684</td>\n",
       "      <td>0.692152</td>\n",
       "    </tr>\n",
       "    <tr>\n",
       "      <th>4</th>\n",
       "      <td>1</td>\n",
       "      <td>1074</td>\n",
       "      <td>0.045975</td>\n",
       "      <td>0.026153</td>\n",
       "      <td>0.797999</td>\n",
       "    </tr>\n",
       "  </tbody>\n",
       "</table>\n",
       "</div>"
      ],
      "text/plain": [
       "   group subject  amygdala    amgsem    amgstd\n",
       "0      1     040  0.470255  0.022986  0.701370\n",
       "1      1     029  0.480097  0.027650  0.843667\n",
       "2      0     020  0.260270  0.022249  0.678866\n",
       "3      0    1072  0.893891  0.022684  0.692152\n",
       "4      1    1074  0.045975  0.026153  0.797999"
      ]
     },
     "execution_count": 15,
     "metadata": {},
     "output_type": "execute_result"
    }
   ],
   "source": [
    "#To select rows whose column value is in list \n",
    "groups = [\"CC\", \"PTSD\"]\n",
    "dg = dfAll[dfAll.group.isin(groups)]\n",
    "\n",
    "# changing group to numbers before we run stan model\n",
    "group = {'CC': 0,'PTSD': 1} \n",
    "dg.group = [group[item] for item in dg.group] \n",
    "dg.head()"
   ]
  },
  {
   "cell_type": "code",
   "execution_count": 16,
   "metadata": {},
   "outputs": [
    {
     "data": {
      "text/html": [
       "<div>\n",
       "<style scoped>\n",
       "    .dataframe tbody tr th:only-of-type {\n",
       "        vertical-align: middle;\n",
       "    }\n",
       "\n",
       "    .dataframe tbody tr th {\n",
       "        vertical-align: top;\n",
       "    }\n",
       "\n",
       "    .dataframe thead th {\n",
       "        text-align: right;\n",
       "    }\n",
       "</style>\n",
       "<table border=\"1\" class=\"dataframe\">\n",
       "  <thead>\n",
       "    <tr style=\"text-align: right;\">\n",
       "      <th></th>\n",
       "      <th>subject</th>\n",
       "      <th>amygdala</th>\n",
       "      <th>amgsem</th>\n",
       "      <th>amgstd</th>\n",
       "    </tr>\n",
       "    <tr>\n",
       "      <th>group</th>\n",
       "      <th></th>\n",
       "      <th></th>\n",
       "      <th></th>\n",
       "      <th></th>\n",
       "    </tr>\n",
       "  </thead>\n",
       "  <tbody>\n",
       "    <tr>\n",
       "      <th>0</th>\n",
       "      <td>19</td>\n",
       "      <td>19</td>\n",
       "      <td>19</td>\n",
       "      <td>19</td>\n",
       "    </tr>\n",
       "    <tr>\n",
       "      <th>1</th>\n",
       "      <td>18</td>\n",
       "      <td>18</td>\n",
       "      <td>18</td>\n",
       "      <td>18</td>\n",
       "    </tr>\n",
       "  </tbody>\n",
       "</table>\n",
       "</div>"
      ],
      "text/plain": [
       "       subject  amygdala  amgsem  amgstd\n",
       "group                                   \n",
       "0           19        19      19      19\n",
       "1           18        18      18      18"
      ]
     },
     "execution_count": 16,
     "metadata": {},
     "output_type": "execute_result"
    }
   ],
   "source": [
    "# how many in each group\n",
    "dg.groupby(['group']).count()"
   ]
  },
  {
   "cell_type": "code",
   "execution_count": 17,
   "metadata": {},
   "outputs": [
    {
     "name": "stderr",
     "output_type": "stream",
     "text": [
      "INFO:cmdstanpy:found newer exe file, not recompiling\n",
      "INFO:cmdstanpy:compiled model file: /home/or/SIA_PTSD/Stan_model/simple_model\n"
     ]
    }
   ],
   "source": [
    "data =  {'N': len(dg), 'x': dg['group'].values, 'y': dg['amygdala'].values}\n",
    "sm = cmdstanpy.CmdStanModel(stan_file='Stan_model/simple_model.stan')\n"
   ]
  },
  {
   "cell_type": "code",
   "execution_count": 18,
   "metadata": {},
   "outputs": [
    {
     "name": "stderr",
     "output_type": "stream",
     "text": [
      "INFO:cmdstanpy:start chain 1\n",
      "INFO:cmdstanpy:start chain 2\n",
      "INFO:cmdstanpy:start chain 3\n",
      "INFO:cmdstanpy:start chain 4\n",
      "INFO:cmdstanpy:finish chain 1\n",
      "INFO:cmdstanpy:finish chain 2\n",
      "INFO:cmdstanpy:finish chain 3\n",
      "INFO:cmdstanpy:finish chain 4\n"
     ]
    }
   ],
   "source": [
    "# Train the model and generate samples\n",
    "fit_simple_model = sm.sample(\n",
    "  data = data,\n",
    "  chains = 4,\n",
    "  iter_warmup = 1000,\n",
    "  iter_sampling = 1000,\n",
    "  adapt_delta = .9,\n",
    "  #inits = 0.2,\n",
    ")"
   ]
  },
  {
   "cell_type": "code",
   "execution_count": 19,
   "metadata": {},
   "outputs": [
    {
     "data": {
      "text/html": [
       "<div>\n",
       "<style scoped>\n",
       "    .dataframe tbody tr th:only-of-type {\n",
       "        vertical-align: middle;\n",
       "    }\n",
       "\n",
       "    .dataframe tbody tr th {\n",
       "        vertical-align: top;\n",
       "    }\n",
       "\n",
       "    .dataframe thead th {\n",
       "        text-align: right;\n",
       "    }\n",
       "</style>\n",
       "<table border=\"1\" class=\"dataframe\">\n",
       "  <thead>\n",
       "    <tr style=\"text-align: right;\">\n",
       "      <th></th>\n",
       "      <th>Mean</th>\n",
       "      <th>MCSE</th>\n",
       "      <th>StdDev</th>\n",
       "      <th>1%</th>\n",
       "      <th>95%</th>\n",
       "      <th>N_Eff</th>\n",
       "      <th>N_Eff/s</th>\n",
       "      <th>R_hat</th>\n",
       "    </tr>\n",
       "    <tr>\n",
       "      <th>name</th>\n",
       "      <th></th>\n",
       "      <th></th>\n",
       "      <th></th>\n",
       "      <th></th>\n",
       "      <th></th>\n",
       "      <th></th>\n",
       "      <th></th>\n",
       "      <th></th>\n",
       "    </tr>\n",
       "  </thead>\n",
       "  <tbody>\n",
       "    <tr>\n",
       "      <th>lp__</th>\n",
       "      <td>19.00</td>\n",
       "      <td>0.03300</td>\n",
       "      <td>1.300</td>\n",
       "      <td>15.00</td>\n",
       "      <td>20.000</td>\n",
       "      <td>1500.0</td>\n",
       "      <td>17000.0</td>\n",
       "      <td>1.0</td>\n",
       "    </tr>\n",
       "    <tr>\n",
       "      <th>alpha</th>\n",
       "      <td>0.35</td>\n",
       "      <td>0.00180</td>\n",
       "      <td>0.083</td>\n",
       "      <td>0.16</td>\n",
       "      <td>0.490</td>\n",
       "      <td>2100.0</td>\n",
       "      <td>25000.0</td>\n",
       "      <td>1.0</td>\n",
       "    </tr>\n",
       "    <tr>\n",
       "      <th>beta</th>\n",
       "      <td>-0.22</td>\n",
       "      <td>0.00260</td>\n",
       "      <td>0.120</td>\n",
       "      <td>-0.49</td>\n",
       "      <td>-0.026</td>\n",
       "      <td>2100.0</td>\n",
       "      <td>25000.0</td>\n",
       "      <td>1.0</td>\n",
       "    </tr>\n",
       "    <tr>\n",
       "      <th>sigma</th>\n",
       "      <td>0.36</td>\n",
       "      <td>0.00094</td>\n",
       "      <td>0.045</td>\n",
       "      <td>0.28</td>\n",
       "      <td>0.440</td>\n",
       "      <td>2300.0</td>\n",
       "      <td>27000.0</td>\n",
       "      <td>1.0</td>\n",
       "    </tr>\n",
       "  </tbody>\n",
       "</table>\n",
       "</div>"
      ],
      "text/plain": [
       "        Mean     MCSE  StdDev     1%     95%   N_Eff  N_Eff/s  R_hat\n",
       "name                                                                \n",
       "lp__   19.00  0.03300   1.300  15.00  20.000  1500.0  17000.0    1.0\n",
       "alpha   0.35  0.00180   0.083   0.16   0.490  2100.0  25000.0    1.0\n",
       "beta   -0.22  0.00260   0.120  -0.49  -0.026  2100.0  25000.0    1.0\n",
       "sigma   0.36  0.00094   0.045   0.28   0.440  2300.0  27000.0    1.0"
      ]
     },
     "execution_count": 19,
     "metadata": {},
     "output_type": "execute_result"
    }
   ],
   "source": [
    "#fit\n",
    "fit_simple_model.summary(percentiles=(1,95))"
   ]
  },
  {
   "cell_type": "code",
   "execution_count": 20,
   "metadata": {},
   "outputs": [],
   "source": [
    "# # Extracting traces\n",
    "alpha = fit_simple_model.stan_variable(name='alpha')\n",
    "beta = fit_simple_model.stan_variable(name='beta')\n",
    "sigma = fit_simple_model.stan_variable(name='sigma')\n",
    "#lp = fit_simple_model.stan_variable(name='lp')"
   ]
  },
  {
   "cell_type": "code",
   "execution_count": 21,
   "metadata": {},
   "outputs": [
    {
     "data": {
      "text/plain": [
       "0.032749999999999946"
      ]
     },
     "execution_count": 21,
     "metadata": {},
     "output_type": "execute_result"
    },
    {
     "data": {
      "image/png": "[encoded data removed]",
      "text/plain": [
       "<Figure size 360x360 with 1 Axes>"
      ]
     },
     "metadata": {
      "needs_background": "light"
     },
     "output_type": "display_data"
    }
   ],
   "source": [
    "sns.displot(beta)\n",
    "1 - sum(beta<0) / len(beta)"
   ]
  },
  {
   "cell_type": "markdown",
   "metadata": {},
   "source": [
    "# Check correlation between amg and behavior"
   ]
  },
  {
   "cell_type": "code",
   "execution_count": 22,
   "metadata": {},
   "outputs": [
    {
     "data": {
      "text/html": [
       "<div>\n",
       "<style scoped>\n",
       "    .dataframe tbody tr th:only-of-type {\n",
       "        vertical-align: middle;\n",
       "    }\n",
       "\n",
       "    .dataframe tbody tr th {\n",
       "        vertical-align: top;\n",
       "    }\n",
       "\n",
       "    .dataframe thead th {\n",
       "        text-align: right;\n",
       "    }\n",
       "</style>\n",
       "<table border=\"1\" class=\"dataframe\">\n",
       "  <thead>\n",
       "    <tr style=\"text-align: right;\">\n",
       "      <th></th>\n",
       "      <th>group</th>\n",
       "      <th>subject</th>\n",
       "      <th>pcl_An</th>\n",
       "      <th>pcl_Av</th>\n",
       "      <th>pcl_total</th>\n",
       "    </tr>\n",
       "  </thead>\n",
       "  <tbody>\n",
       "    <tr>\n",
       "      <th>0</th>\n",
       "      <td>PTSD</td>\n",
       "      <td>035</td>\n",
       "      <td>7.0</td>\n",
       "      <td>6.0</td>\n",
       "      <td>43.0</td>\n",
       "    </tr>\n",
       "    <tr>\n",
       "      <th>1</th>\n",
       "      <td>CC</td>\n",
       "      <td>011</td>\n",
       "      <td>0.0</td>\n",
       "      <td>0.0</td>\n",
       "      <td>0.0</td>\n",
       "    </tr>\n",
       "    <tr>\n",
       "      <th>2</th>\n",
       "      <td>PTSD</td>\n",
       "      <td>040</td>\n",
       "      <td>5.0</td>\n",
       "      <td>4.0</td>\n",
       "      <td>24.0</td>\n",
       "    </tr>\n",
       "    <tr>\n",
       "      <th>3</th>\n",
       "      <td>PTSD</td>\n",
       "      <td>029</td>\n",
       "      <td>0.0</td>\n",
       "      <td>1.0</td>\n",
       "      <td>11.0</td>\n",
       "    </tr>\n",
       "    <tr>\n",
       "      <th>4</th>\n",
       "      <td>CC</td>\n",
       "      <td>020</td>\n",
       "      <td>0.0</td>\n",
       "      <td>0.0</td>\n",
       "      <td>0.0</td>\n",
       "    </tr>\n",
       "  </tbody>\n",
       "</table>\n",
       "</div>"
      ],
      "text/plain": [
       "  group subject  pcl_An  pcl_Av  pcl_total\n",
       "0  PTSD     035     7.0     6.0       43.0\n",
       "1    CC     011     0.0     0.0        0.0\n",
       "2  PTSD     040     5.0     4.0       24.0\n",
       "3  PTSD     029     0.0     1.0       11.0\n",
       "4    CC     020     0.0     0.0        0.0"
      ]
     },
     "execution_count": 22,
     "metadata": {},
     "output_type": "execute_result"
    }
   ],
   "source": [
    "dfPCL = pd.read_csv('pclScores.csv')\n",
    "# remove the RCF from beginning of subject id\n",
    "dfPCL['subject'] = dfPCL['subject'].astype(str)\n",
    "# because some subjects has two digits, we add zero\n",
    "for i in dfPCL.iterrows():\n",
    "    if len(i[1].subject) < 4:\n",
    "        dfPCL.at[i[0],'subject'] = '0' + i[1].subject\n",
    "\n",
    "dfPCL.head()"
   ]
  },
  {
   "cell_type": "code",
   "execution_count": 23,
   "metadata": {},
   "outputs": [
    {
     "data": {
      "text/plain": [
       "<seaborn.axisgrid.FacetGrid at 0x7ff6e9b90e90>"
      ]
     },
     "execution_count": 23,
     "metadata": {},
     "output_type": "execute_result"
    },
    {
     "data": {
      "image/png": "[encoded data removed]",
      "text/plain": [
       "<Figure size 360x360 with 1 Axes>"
      ]
     },
     "metadata": {
      "needs_background": "light"
     },
     "output_type": "display_data"
    }
   ],
   "source": [
    "sns.displot(dfPCL.pcl_An)"
   ]
  },
  {
   "cell_type": "code",
   "execution_count": 24,
   "metadata": {},
   "outputs": [],
   "source": [
    "groups = [\"CC\", \"PTSD\"]\n",
    "dfpcl_amg = pd.merge(dfPCL, amg_ud)\n",
    "dfpcl_amg = dfpcl_amg[dfpcl_amg.group.isin(groups)]"
   ]
  },
  {
   "cell_type": "markdown",
   "metadata": {},
   "source": [
    "## Use function to get both R and CI\n",
    " - consider using pyStan for that also"
   ]
  },
  {
   "cell_type": "code",
   "execution_count": null,
   "metadata": {},
   "outputs": [],
   "source": [
    "def pearsonr_ci(x,y,alpha=0.05):\n",
    "    from scipy import stats\n",
    "    ''' calculate Pearson correlation along with the confidence interval using scipy and numpy\n",
    "    Parameters\n",
    "    ----------\n",
    "    x, y : iterable object such as a list or np.array\n",
    "      Input for correlation calculation\n",
    "    alpha : float\n",
    "      Significance level. 0.05 by default\n",
    "    Returns\n",
    "    -------\n",
    "    r : float\n",
    "      Pearson's correlation coefficient\n",
    "    pval : float\n",
    "      The corresponding p value\n",
    "    lo, hi : float\n",
    "      The lower and upper bound of confidence intervals\n",
    "    '''\n",
    "\n",
    "    r, p = stats.pearsonr(x,y)\n",
    "    r_z = np.arctanh(r)\n",
    "    se = 1/np.sqrt(x.size-3)\n",
    "    z = stats.norm.ppf(1-alpha/2)\n",
    "    lo_z, hi_z = r_z-z*se, r_z+z*se\n",
    "    lo, hi = np.tanh((lo_z, hi_z))\n",
    "    return r, p, lo, hi"
   ]
  },
  {
   "cell_type": "code",
   "execution_count": null,
   "metadata": {},
   "outputs": [],
   "source": [
    "## Correlation to two groups\n",
    "pearsonr_ci(dfpcl_amg['pcl_An'], dfpcl_amg['amygdala'])"
   ]
  },
  {
   "cell_type": "code",
   "execution_count": null,
   "metadata": {},
   "outputs": [],
   "source": [
    "## correlation only for PTSD group\n",
    "dfpcl_ptsd = dfpcl_amg[dfpcl_amg.group=='PTSD']\n",
    "pearsonr_ci(dfpcl_ptsd['pcl_An'], dfpcl_ptsd['amygdala'])"
   ]
  },
  {
   "cell_type": "code",
   "execution_count": null,
   "metadata": {},
   "outputs": [],
   "source": [
    "## correlation only for Combat Controls group\n",
    "dfpcl_cc = dfpcl_amg[dfpcl_amg.group=='CC']\n",
    "pearsonr_ci(dfpcl_cc['pcl_An'], dfpcl_cc['amygdala'])"
   ]
  },
  {
   "cell_type": "markdown",
   "metadata": {},
   "source": [
    "## generate publication plots"
   ]
  },
  {
   "cell_type": "code",
   "execution_count": 25,
   "metadata": {},
   "outputs": [
    {
     "data": {
      "image/png": "[encoded data removed]",
      "text/plain": [
       "<Figure size 500x400 with 2 Axes>"
      ]
     },
     "execution_count": 25,
     "metadata": {},
     "output_type": "execute_result"
    },
    {
     "data": {
      "image/png": "[encoded data removed]",
      "text/plain": [
       "<Figure size 500x400 with 2 Axes>"
      ]
     },
     "metadata": {
      "needs_background": "light"
     },
     "output_type": "display_data"
    }
   ],
   "source": [
    "import dabest\n",
    "groups = [\"CC\", \"PTSD\"]\n",
    "dgr = dfAll[dfAll.group.isin(groups)]\n",
    "\n",
    "# load our data to dabest to produce graphs\n",
    "dgr = dgr.rename(columns={\"amygdala\": \"Amygdala activation CS+US minus CS+\", \"group\": \"Group\"})\n",
    "dgr_dabest = dabest.load(data=dgr, x='Group', y='Amygdala activation CS+US minus CS+', \n",
    "                                  idx=('CC','PTSD'), ci=90)\n",
    "dgr_dabest.mean_diff.plot()"
   ]
  },
  {
   "cell_type": "code",
   "execution_count": 26,
   "metadata": {},
   "outputs": [
    {
     "data": {
      "image/png": "[encoded data removed]",
      "text/plain": [
       "<Figure size 422x360 with 1 Axes>"
      ]
     },
     "metadata": {
      "needs_background": "light"
     },
     "output_type": "display_data"
    }
   ],
   "source": [
    "fgrid = sns.lmplot(x='pcl_An', y='amygdala',hue='group', data=dfpcl_amg, ci = None)\n",
    "               #legend_out = True)\n",
    "# need to add annotation- because its like facet grid we need to set each axis\n",
    "ax1 = fgrid.axes[0,0]\n",
    "    #Remove legend title\n",
    "ax1.set_xlim(-1,13)\n",
    "#Set labels of x and y axis\n",
    "fgrid.set(xlabel='Anhedonia PCL-C', ylabel='Amygdala activation CS+US minus CS+')\n",
    "ax1.text(8, .3, \"r=-0.57, p<0.05\", horizontalalignment='left', size='large', color='black')#, weight='semibold')\n",
    "ax1.text(8, .85, \"r=0.08, N.S\", horizontalalignment='left', size='large', color='black')#, weight='semibold')\n",
    "\n",
    "fgrid._legend.set_title('')\n",
    "#ax.annotate(\"An annotation\")#, horizontalalignment='left', size='medium', color='black', weight='semibold')\n"
   ]
  },
  {
   "cell_type": "code",
   "execution_count": 27,
   "metadata": {},
   "outputs": [
    {
     "data": {
      "text/plain": [
       "Text(6, 0.3, 'r=-0.37, p<0.05')"
      ]
     },
     "execution_count": 27,
     "metadata": {},
     "output_type": "execute_result"
    },
    {
     "data": {
      "image/png": "[encoded data removed]",
      "text/plain": [
       "<Figure size 360x360 with 1 Axes>"
      ]
     },
     "metadata": {
      "needs_background": "light"
     },
     "output_type": "display_data"
    }
   ],
   "source": [
    "# Graph both groups\n",
    "fgrid = sns.lmplot(x='pcl_An', y='amygdala', data=dfpcl_amg, ci = None)\n",
    "               #legend_out = True)\n",
    "# need to add annotation- because its like facet grid we need to set each axis\n",
    "ax1 = fgrid.axes[0,0]\n",
    "    #Remove legend title\n",
    "ax1.set_xlim(-1,13)\n",
    "#Set labels of x and y axis\n",
    "fgrid.set(xlabel='Anhedonia PCL-5', ylabel='Amygdala activation CS+US minus CS+')\n",
    "ax1.text(6, .3, \"r=-0.37, p<0.05\", horizontalalignment='left', size='large', color='black')#, weight='semibold')\n",
    "\n",
    "\n",
    "#fgrid._legend.set_title('')"
   ]
  },
  {
   "cell_type": "code",
   "execution_count": 28,
   "metadata": {},
   "outputs": [
    {
     "data": {
      "text/plain": [
       "(-2.2143454110745373, 2.3323056536938007, -5.600623875495698, 0.0)"
      ]
     },
     "execution_count": 28,
     "metadata": {},
     "output_type": "execute_result"
    }
   ],
   "source": [
    "rub = scipy.stats.theilslopes(y=dfpcl_amg.pcl_An.values, x=dfpcl_amg.amygdala.values, alpha=0.9)\n",
    "rub"
   ]
  },
  {
   "cell_type": "code",
   "execution_count": 29,
   "metadata": {},
   "outputs": [
    {
     "name": "stderr",
     "output_type": "stream",
     "text": [
      "/home/or/miniconda3/envs/neuroAnalysis/lib/python3.7/site-packages/seaborn/_decorators.py:43: FutureWarning: Pass the following variables as keyword args: x, y. From version 0.12, the only valid positional argument will be `data`, and passing other arguments without an explicit keyword will result in an error or misinterpretation.\n",
      "  FutureWarning\n"
     ]
    },
    {
     "data": {
      "text/plain": [
       "[Text(0, 0.5, 'Anhedonia PCL-5'),\n",
       " Text(0.5, 0, 'Amygdala activation CS+US minus CS+')]"
      ]
     },
     "execution_count": 29,
     "metadata": {},
     "output_type": "execute_result"
    },
    {
     "data": {
      "image/png": "[encoded data removed]",
      "text/plain": [
       "<Figure size 360x288 with 1 Axes>"
      ]
     },
     "metadata": {
      "needs_background": "light"
     },
     "output_type": "display_data"
    }
   ],
   "source": [
    "# plot a line based on the robust regression\n",
    "plt.figure(figsize=(5,4))\n",
    "line = rub[1] + rub[0]*dfpcl_amg.amygdala\n",
    "fgrid = sns.scatterplot(y='pcl_An', x='amygdala',data=dfpcl_amg, alpha=0.8)\n",
    "#plt.plot(dfpcl_amg.amygdala, line)#,alpha = 0.8)\n",
    "sns.lineplot(dfpcl_amg.amygdala, line)\n",
    "fgrid.set(ylabel='Anhedonia PCL-5', xlabel='Amygdala activation CS+US minus CS+')"
   ]
  },
  {
   "cell_type": "markdown",
   "metadata": {},
   "source": [
    "## Robust regression using Stan"
   ]
  },
  {
   "cell_type": "code",
   "execution_count": 30,
   "metadata": {},
   "outputs": [],
   "source": [
    "data =  {'N': len(dfpcl_amg), 'x': dfpcl_amg['amygdala'].values, 'y': dfpcl_amg['pcl_An'].values}\n",
    "sm_robust = cmdstanpy.CmdStanModel(stan_file='Stan_model/robust_reg.stan')\n"
   ]
  },
  {
   "cell_type": "code",
   "execution_count": 31,
   "metadata": {},
   "outputs": [],
   "source": [
    "fit_robust_reg = sm_robust.sample(\n",
    "  data = data,\n",
    "  chains = 4,\n",
    "  iter_warmup = 1000,\n",
    "  iter_sampling = 1000,\n",
    "  adapt_delta = .9,\n",
    "  #inits = 0.2,\n",
    ")"
   ]
  },
  {
   "cell_type": "code",
   "execution_count": 32,
   "metadata": {},
   "outputs": [],
   "source": [
    "alpha = fit_robust_reg.stan_variable(name='alpha')\n",
    "beta = fit_robust_reg.stan_variable(name='beta')"
   ]
  },
  {
   "cell_type": "code",
   "execution_count": 26,
   "metadata": {},
   "outputs": [
    {
     "data": {
      "image/png": "[encoded data removed]",
      "text/plain": [
       "<Figure size 576x288 with 1 Axes>"
      ]
     },
     "metadata": {
      "needs_background": "light"
     },
     "output_type": "display_data"
    }
   ],
   "source": [
    "## Create a table\n",
    "df_fit = fit_robust_reg.summary()\n",
    "plt.rcParams[\"figure.figsize\"] = [8, 4]\n",
    "fig, ax =plt.subplots(1,1)\n",
    "ax.axis('tight')\n",
    "ax.axis('off')\n",
    "the_table = ax.table(cellText=df_fit.values,colLabels=df_fit.columns,\n",
    "         rowLabels=[\"lp_\",\"alpha\",\"beta\", \"sigma\", \"nu\"],loc=\"center\")\n",
    "the_table.auto_set_font_size(False)\n",
    "the_table.set_fontsize(10)"
   ]
  },
  {
   "cell_type": "code",
   "execution_count": 37,
   "metadata": {},
   "outputs": [
    {
     "name": "stderr",
     "output_type": "stream",
     "text": [
      "/home/or/miniconda3/envs/neuroAnalysis/lib/python3.7/site-packages/seaborn/_decorators.py:43: FutureWarning: Pass the following variables as keyword args: x, y. From version 0.12, the only valid positional argument will be `data`, and passing other arguments without an explicit keyword will result in an error or misinterpretation.\n",
      "  FutureWarning\n"
     ]
    },
    {
     "data": {
      "text/plain": [
       "[Text(0, 0.5, 'Anhedonia PCL-5'),\n",
       " Text(0.5, 0, 'Amygdala activation CS+US minus CS+')]"
      ]
     },
     "execution_count": 37,
     "metadata": {},
     "output_type": "execute_result"
    },
    {
     "data": {
      "image/png": "[encoded data removed]",
      "text/plain": [
       "<Figure size 360x288 with 1 Axes>"
      ]
     },
     "metadata": {
      "needs_background": "light"
     },
     "output_type": "display_data"
    }
   ],
   "source": [
    "# plot a line based on the robust regression\n",
    "plt.figure(figsize=(5,4))\n",
    "line = np.mean(alpha) + np.mean(beta)*dfpcl_amg.amygdala\n",
    "fgrid = sns.scatterplot(y='pcl_An', x='amygdala',data=dfpcl_amg, alpha=0.8)\n",
    "#plt.plot(dfpcl_amg.amygdala, line)#,alpha = 0.8)\n",
    "sns.lineplot(dfpcl_amg.amygdala, line)\n",
    "fgrid.set(ylabel='Anhedonia PCL-5', xlabel='Amygdala activation CS+US minus CS+')"
   ]
  }
 ],
 "metadata": {
  "kernelspec": {
   "display_name": "Python 3",
   "language": "python",
   "name": "python3"
  },
  "language_info": {
   "codemirror_mode": {
    "name": "ipython",
    "version": 3
   },
   "file_extension": ".py",
   "mimetype": "text/x-python",
   "name": "python",
   "nbconvert_exporter": "python",
   "pygments_lexer": "ipython3",
   "version": "3.7.7"
  }
 },
 "nbformat": 4,
 "nbformat_minor": 4
}
